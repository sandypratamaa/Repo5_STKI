{
  "cells": [
    {
      "cell_type": "markdown",
      "metadata": {
        "id": "QQzFvuEXYO29"
      },
      "source": [
        "## Klasifikasi Text Mining menggunakan Naive Bayes"
      ]
    },
    {
      "cell_type": "markdown",
      "metadata": {
        "id": "wDD8_BOAYhz9"
      },
      "source": [
        "# load drive"
      ]
    },
    {
      "cell_type": "code",
      "execution_count": 2,
      "metadata": {
        "colab": {
          "base_uri": "https://localhost:8080/"
        },
        "id": "nGp1bD18YjLY",
        "outputId": "43aec053-3ed6-468e-a4cd-f70775eb89f3"
      },
      "outputs": [
        {
          "output_type": "stream",
          "name": "stdout",
          "text": [
            "Mounted at /content/drive\n"
          ]
        }
      ],
      "source": [
        "from google.colab import drive\n",
        "drive.mount('/content/drive')\n",
        "import sys\n",
        "sys.path.append('/content/drive/My Drive/Colab Notebooks/AMS2023')"
      ]
    },
    {
      "cell_type": "markdown",
      "metadata": {
        "id": "4ha0Iz7KZPNI"
      },
      "source": [
        "# install library ekphrasis"
      ]
    },
    {
      "cell_type": "code",
      "execution_count": 3,
      "metadata": {
        "colab": {
          "base_uri": "https://localhost:8080/"
        },
        "id": "o0lyD-xfZQge",
        "outputId": "3f184a6c-aa53-4d49-d681-758b26ef4bdd"
      },
      "outputs": [
        {
          "output_type": "stream",
          "name": "stdout",
          "text": [
            "Collecting ekphrasis\n",
            "  Downloading ekphrasis-0.5.4-py3-none-any.whl (83 kB)\n",
            "\u001b[?25l     \u001b[90m━━━━━━━━━━━━━━━━━━━━━━━━━━━━━━━━━━━━━━━━\u001b[0m \u001b[32m0.0/83.8 kB\u001b[0m \u001b[31m?\u001b[0m eta \u001b[36m-:--:--\u001b[0m\r\u001b[2K     \u001b[90m━━━━━━━━━━━━━━━━━━━━━━━━━━━━━━━━━━━━━━━━\u001b[0m \u001b[32m83.8/83.8 kB\u001b[0m \u001b[31m3.2 MB/s\u001b[0m eta \u001b[36m0:00:00\u001b[0m\n",
            "\u001b[?25hRequirement already satisfied: termcolor in /usr/local/lib/python3.10/dist-packages (from ekphrasis) (2.3.0)\n",
            "Requirement already satisfied: tqdm in /usr/local/lib/python3.10/dist-packages (from ekphrasis) (4.66.1)\n",
            "Collecting colorama (from ekphrasis)\n",
            "  Downloading colorama-0.4.6-py2.py3-none-any.whl (25 kB)\n",
            "Collecting ujson (from ekphrasis)\n",
            "  Downloading ujson-5.8.0-cp310-cp310-manylinux_2_17_x86_64.manylinux2014_x86_64.whl (53 kB)\n",
            "\u001b[2K     \u001b[90m━━━━━━━━━━━━━━━━━━━━━━━━━━━━━━━━━━━━━━━━\u001b[0m \u001b[32m53.9/53.9 kB\u001b[0m \u001b[31m7.7 MB/s\u001b[0m eta \u001b[36m0:00:00\u001b[0m\n",
            "\u001b[?25hRequirement already satisfied: matplotlib in /usr/local/lib/python3.10/dist-packages (from ekphrasis) (3.7.1)\n",
            "Requirement already satisfied: nltk in /usr/local/lib/python3.10/dist-packages (from ekphrasis) (3.8.1)\n",
            "Collecting ftfy (from ekphrasis)\n",
            "  Downloading ftfy-6.1.1-py3-none-any.whl (53 kB)\n",
            "\u001b[2K     \u001b[90m━━━━━━━━━━━━━━━━━━━━━━━━━━━━━━━━━━━━━━━━\u001b[0m \u001b[32m53.1/53.1 kB\u001b[0m \u001b[31m6.8 MB/s\u001b[0m eta \u001b[36m0:00:00\u001b[0m\n",
            "\u001b[?25hRequirement already satisfied: numpy in /usr/local/lib/python3.10/dist-packages (from ekphrasis) (1.23.5)\n",
            "Requirement already satisfied: wcwidth>=0.2.5 in /usr/local/lib/python3.10/dist-packages (from ftfy->ekphrasis) (0.2.10)\n",
            "Requirement already satisfied: contourpy>=1.0.1 in /usr/local/lib/python3.10/dist-packages (from matplotlib->ekphrasis) (1.2.0)\n",
            "Requirement already satisfied: cycler>=0.10 in /usr/local/lib/python3.10/dist-packages (from matplotlib->ekphrasis) (0.12.1)\n",
            "Requirement already satisfied: fonttools>=4.22.0 in /usr/local/lib/python3.10/dist-packages (from matplotlib->ekphrasis) (4.44.3)\n",
            "Requirement already satisfied: kiwisolver>=1.0.1 in /usr/local/lib/python3.10/dist-packages (from matplotlib->ekphrasis) (1.4.5)\n",
            "Requirement already satisfied: packaging>=20.0 in /usr/local/lib/python3.10/dist-packages (from matplotlib->ekphrasis) (23.2)\n",
            "Requirement already satisfied: pillow>=6.2.0 in /usr/local/lib/python3.10/dist-packages (from matplotlib->ekphrasis) (9.4.0)\n",
            "Requirement already satisfied: pyparsing>=2.3.1 in /usr/local/lib/python3.10/dist-packages (from matplotlib->ekphrasis) (3.1.1)\n",
            "Requirement already satisfied: python-dateutil>=2.7 in /usr/local/lib/python3.10/dist-packages (from matplotlib->ekphrasis) (2.8.2)\n",
            "Requirement already satisfied: click in /usr/local/lib/python3.10/dist-packages (from nltk->ekphrasis) (8.1.7)\n",
            "Requirement already satisfied: joblib in /usr/local/lib/python3.10/dist-packages (from nltk->ekphrasis) (1.3.2)\n",
            "Requirement already satisfied: regex>=2021.8.3 in /usr/local/lib/python3.10/dist-packages (from nltk->ekphrasis) (2023.6.3)\n",
            "Requirement already satisfied: six>=1.5 in /usr/local/lib/python3.10/dist-packages (from python-dateutil>=2.7->matplotlib->ekphrasis) (1.16.0)\n",
            "Installing collected packages: ujson, ftfy, colorama, ekphrasis\n",
            "Successfully installed colorama-0.4.6 ekphrasis-0.5.4 ftfy-6.1.1 ujson-5.8.0\n"
          ]
        }
      ],
      "source": [
        "!pip install ekphrasis"
      ]
    },
    {
      "cell_type": "code",
      "execution_count": 4,
      "metadata": {
        "colab": {
          "base_uri": "https://localhost:8080/"
        },
        "id": "2n8VFUcCZWuV",
        "outputId": "f5839a09-fd8a-448f-ffba-5a650019331c"
      },
      "outputs": [
        {
          "output_type": "stream",
          "name": "stderr",
          "text": [
            "/usr/local/lib/python3.10/dist-packages/ekphrasis/classes/tokenizer.py:225: FutureWarning: Possible nested set at position 2190\n",
            "  self.tok = re.compile(r\"({})\".format(\"|\".join(pipeline)))\n"
          ]
        },
        {
          "output_type": "stream",
          "name": "stdout",
          "text": [
            "Word statistics files not found!\n",
            "Downloading... done!\n",
            "Unpacking... done!\n",
            "Reading twitter - 1grams ...\n",
            "generating cache file for faster loading...\n",
            "reading ngrams /root/.ekphrasis/stats/twitter/counts_1grams.txt\n",
            "Reading twitter - 2grams ...\n",
            "generating cache file for faster loading...\n",
            "reading ngrams /root/.ekphrasis/stats/twitter/counts_2grams.txt\n",
            "Reading twitter - 1grams ...\n"
          ]
        },
        {
          "output_type": "stream",
          "name": "stderr",
          "text": [
            "/usr/local/lib/python3.10/dist-packages/ekphrasis/classes/exmanager.py:14: FutureWarning: Possible nested set at position 42\n",
            "  regexes = {k.lower(): re.compile(self.expressions[k]) for k, v in\n"
          ]
        }
      ],
      "source": [
        "from ekphrasis.classes.preprocessor import TextPreProcessor\n",
        "from ekphrasis.classes.tokenizer import SocialTokenizer\n",
        "from ekphrasis.dicts.emoticons import emoticons\n",
        "\n",
        "text_processor = TextPreProcessor(\n",
        "    # terms that will be normalized\n",
        "    normalize=['email', 'percent', 'money', 'phone', 'user',\n",
        "        'time', 'date', 'number'],\n",
        "    # terms that will be annotated\n",
        "    #annotate={\"hashtag\", \"allcaps\", \"elongated\", \"repeated\",'emphasis', 'censored'},\n",
        "    annotate={\"hashtag\",\"allcaps\",\"elongated\",\"repeated\",'emphasis','censored'},\n",
        "    fix_html=True,  # fix HTML tokens\n",
        "\n",
        "    # corpus from which the word statistics are going to be used\n",
        "    # for word segmentation\n",
        "    segmenter=\"twitter\",\n",
        "\n",
        "    # corpus from which the word statistics are going to be used\n",
        "    # for spell correction\n",
        "    corrector=\"twitter\",\n",
        "\n",
        "    unpack_hashtags=True,  # perform word segmentation on hashtags\n",
        "    unpack_contractions=True,  # Unpack contractions (can't -> can not)\n",
        "    spell_correct_elong=False,  # spell correction for elongated words\n",
        "\n",
        "    # select a tokenizer. You can use SocialTokenizer, or pass your own\n",
        "    # the tokenizer, should take as input a string and return a list of tokens\n",
        "    tokenizer=SocialTokenizer(lowercase=True).tokenize,\n",
        "\n",
        "    # list of dictionaries, for replacing tokens extracted from the text,\n",
        "    # with other expressions. You can pass more than one dictionaries.\n",
        "    dicts=[emoticons]\n",
        ")"
      ]
    },
    {
      "cell_type": "markdown",
      "metadata": {
        "id": "OOwAOicWYajI"
      },
      "source": [
        "# load library"
      ]
    },
    {
      "cell_type": "code",
      "execution_count": 5,
      "metadata": {
        "id": "BmapjRiEYGPd"
      },
      "outputs": [],
      "source": [
        "import re\n",
        "import string\n",
        "import pandas as pd\n",
        "from copy import deepcopy\n",
        "\n",
        "import matplotlib.pyplot as plt\n",
        "import seaborn as sns\n",
        "%matplotlib inline\n",
        "\n",
        "from sklearn.model_selection import train_test_split\n",
        "from sklearn.metrics import accuracy_score\n",
        "from sklearn.metrics import recall_score\n",
        "from sklearn.metrics import precision_score\n"
      ]
    },
    {
      "cell_type": "markdown",
      "metadata": {
        "id": "iR6F1PJMZgY_"
      },
      "source": [
        "# load dataset"
      ]
    },
    {
      "cell_type": "code",
      "execution_count": 6,
      "metadata": {
        "id": "i533Vd_pZfnq"
      },
      "outputs": [],
      "source": [
        "df = pd.read_csv('/content/dataset_tweet_sentiment_opini_film.csv')\n"
      ]
    },
    {
      "cell_type": "code",
      "execution_count": 7,
      "metadata": {
        "colab": {
          "base_uri": "https://localhost:8080/",
          "height": 206
        },
        "id": "tNNt78OHZp6G",
        "outputId": "825a3977-8509-4526-ddce-a885c9a3a7aa"
      },
      "outputs": [
        {
          "output_type": "execute_result",
          "data": {
            "text/plain": [
              "   Id Sentiment                                         Text Tweet\n",
              "0   1  negative  Jelek filmnya... apalagi si ernest gak mutu bg...\n",
              "1   2  negative  Film king Arthur ini film paling jelek dari se...\n",
              "2   3  negative  @beexkuanlin Sepanjang film gwa berkata kasar ...\n",
              "3   4  negative  Ane ga suka fast and furious..menurutku kok je...\n",
              "4   5  negative  @baekhyun36 kan gua ga tau film nya, lu bilang..."
            ],
            "text/html": [
              "\n",
              "  <div id=\"df-c95c932f-f08a-4ff3-a7bf-772c6a35f19f\" class=\"colab-df-container\">\n",
              "    <div>\n",
              "<style scoped>\n",
              "    .dataframe tbody tr th:only-of-type {\n",
              "        vertical-align: middle;\n",
              "    }\n",
              "\n",
              "    .dataframe tbody tr th {\n",
              "        vertical-align: top;\n",
              "    }\n",
              "\n",
              "    .dataframe thead th {\n",
              "        text-align: right;\n",
              "    }\n",
              "</style>\n",
              "<table border=\"1\" class=\"dataframe\">\n",
              "  <thead>\n",
              "    <tr style=\"text-align: right;\">\n",
              "      <th></th>\n",
              "      <th>Id</th>\n",
              "      <th>Sentiment</th>\n",
              "      <th>Text Tweet</th>\n",
              "    </tr>\n",
              "  </thead>\n",
              "  <tbody>\n",
              "    <tr>\n",
              "      <th>0</th>\n",
              "      <td>1</td>\n",
              "      <td>negative</td>\n",
              "      <td>Jelek filmnya... apalagi si ernest gak mutu bg...</td>\n",
              "    </tr>\n",
              "    <tr>\n",
              "      <th>1</th>\n",
              "      <td>2</td>\n",
              "      <td>negative</td>\n",
              "      <td>Film king Arthur ini film paling jelek dari se...</td>\n",
              "    </tr>\n",
              "    <tr>\n",
              "      <th>2</th>\n",
              "      <td>3</td>\n",
              "      <td>negative</td>\n",
              "      <td>@beexkuanlin Sepanjang film gwa berkata kasar ...</td>\n",
              "    </tr>\n",
              "    <tr>\n",
              "      <th>3</th>\n",
              "      <td>4</td>\n",
              "      <td>negative</td>\n",
              "      <td>Ane ga suka fast and furious..menurutku kok je...</td>\n",
              "    </tr>\n",
              "    <tr>\n",
              "      <th>4</th>\n",
              "      <td>5</td>\n",
              "      <td>negative</td>\n",
              "      <td>@baekhyun36 kan gua ga tau film nya, lu bilang...</td>\n",
              "    </tr>\n",
              "  </tbody>\n",
              "</table>\n",
              "</div>\n",
              "    <div class=\"colab-df-buttons\">\n",
              "\n",
              "  <div class=\"colab-df-container\">\n",
              "    <button class=\"colab-df-convert\" onclick=\"convertToInteractive('df-c95c932f-f08a-4ff3-a7bf-772c6a35f19f')\"\n",
              "            title=\"Convert this dataframe to an interactive table.\"\n",
              "            style=\"display:none;\">\n",
              "\n",
              "  <svg xmlns=\"http://www.w3.org/2000/svg\" height=\"24px\" viewBox=\"0 -960 960 960\">\n",
              "    <path d=\"M120-120v-720h720v720H120Zm60-500h600v-160H180v160Zm220 220h160v-160H400v160Zm0 220h160v-160H400v160ZM180-400h160v-160H180v160Zm440 0h160v-160H620v160ZM180-180h160v-160H180v160Zm440 0h160v-160H620v160Z\"/>\n",
              "  </svg>\n",
              "    </button>\n",
              "\n",
              "  <style>\n",
              "    .colab-df-container {\n",
              "      display:flex;\n",
              "      gap: 12px;\n",
              "    }\n",
              "\n",
              "    .colab-df-convert {\n",
              "      background-color: #E8F0FE;\n",
              "      border: none;\n",
              "      border-radius: 50%;\n",
              "      cursor: pointer;\n",
              "      display: none;\n",
              "      fill: #1967D2;\n",
              "      height: 32px;\n",
              "      padding: 0 0 0 0;\n",
              "      width: 32px;\n",
              "    }\n",
              "\n",
              "    .colab-df-convert:hover {\n",
              "      background-color: #E2EBFA;\n",
              "      box-shadow: 0px 1px 2px rgba(60, 64, 67, 0.3), 0px 1px 3px 1px rgba(60, 64, 67, 0.15);\n",
              "      fill: #174EA6;\n",
              "    }\n",
              "\n",
              "    .colab-df-buttons div {\n",
              "      margin-bottom: 4px;\n",
              "    }\n",
              "\n",
              "    [theme=dark] .colab-df-convert {\n",
              "      background-color: #3B4455;\n",
              "      fill: #D2E3FC;\n",
              "    }\n",
              "\n",
              "    [theme=dark] .colab-df-convert:hover {\n",
              "      background-color: #434B5C;\n",
              "      box-shadow: 0px 1px 3px 1px rgba(0, 0, 0, 0.15);\n",
              "      filter: drop-shadow(0px 1px 2px rgba(0, 0, 0, 0.3));\n",
              "      fill: #FFFFFF;\n",
              "    }\n",
              "  </style>\n",
              "\n",
              "    <script>\n",
              "      const buttonEl =\n",
              "        document.querySelector('#df-c95c932f-f08a-4ff3-a7bf-772c6a35f19f button.colab-df-convert');\n",
              "      buttonEl.style.display =\n",
              "        google.colab.kernel.accessAllowed ? 'block' : 'none';\n",
              "\n",
              "      async function convertToInteractive(key) {\n",
              "        const element = document.querySelector('#df-c95c932f-f08a-4ff3-a7bf-772c6a35f19f');\n",
              "        const dataTable =\n",
              "          await google.colab.kernel.invokeFunction('convertToInteractive',\n",
              "                                                    [key], {});\n",
              "        if (!dataTable) return;\n",
              "\n",
              "        const docLinkHtml = 'Like what you see? Visit the ' +\n",
              "          '<a target=\"_blank\" href=https://colab.research.google.com/notebooks/data_table.ipynb>data table notebook</a>'\n",
              "          + ' to learn more about interactive tables.';\n",
              "        element.innerHTML = '';\n",
              "        dataTable['output_type'] = 'display_data';\n",
              "        await google.colab.output.renderOutput(dataTable, element);\n",
              "        const docLink = document.createElement('div');\n",
              "        docLink.innerHTML = docLinkHtml;\n",
              "        element.appendChild(docLink);\n",
              "      }\n",
              "    </script>\n",
              "  </div>\n",
              "\n",
              "\n",
              "<div id=\"df-a34d376d-fb72-4493-b55a-261ea856a76f\">\n",
              "  <button class=\"colab-df-quickchart\" onclick=\"quickchart('df-a34d376d-fb72-4493-b55a-261ea856a76f')\"\n",
              "            title=\"Suggest charts\"\n",
              "            style=\"display:none;\">\n",
              "\n",
              "<svg xmlns=\"http://www.w3.org/2000/svg\" height=\"24px\"viewBox=\"0 0 24 24\"\n",
              "     width=\"24px\">\n",
              "    <g>\n",
              "        <path d=\"M19 3H5c-1.1 0-2 .9-2 2v14c0 1.1.9 2 2 2h14c1.1 0 2-.9 2-2V5c0-1.1-.9-2-2-2zM9 17H7v-7h2v7zm4 0h-2V7h2v10zm4 0h-2v-4h2v4z\"/>\n",
              "    </g>\n",
              "</svg>\n",
              "  </button>\n",
              "\n",
              "<style>\n",
              "  .colab-df-quickchart {\n",
              "      --bg-color: #E8F0FE;\n",
              "      --fill-color: #1967D2;\n",
              "      --hover-bg-color: #E2EBFA;\n",
              "      --hover-fill-color: #174EA6;\n",
              "      --disabled-fill-color: #AAA;\n",
              "      --disabled-bg-color: #DDD;\n",
              "  }\n",
              "\n",
              "  [theme=dark] .colab-df-quickchart {\n",
              "      --bg-color: #3B4455;\n",
              "      --fill-color: #D2E3FC;\n",
              "      --hover-bg-color: #434B5C;\n",
              "      --hover-fill-color: #FFFFFF;\n",
              "      --disabled-bg-color: #3B4455;\n",
              "      --disabled-fill-color: #666;\n",
              "  }\n",
              "\n",
              "  .colab-df-quickchart {\n",
              "    background-color: var(--bg-color);\n",
              "    border: none;\n",
              "    border-radius: 50%;\n",
              "    cursor: pointer;\n",
              "    display: none;\n",
              "    fill: var(--fill-color);\n",
              "    height: 32px;\n",
              "    padding: 0;\n",
              "    width: 32px;\n",
              "  }\n",
              "\n",
              "  .colab-df-quickchart:hover {\n",
              "    background-color: var(--hover-bg-color);\n",
              "    box-shadow: 0 1px 2px rgba(60, 64, 67, 0.3), 0 1px 3px 1px rgba(60, 64, 67, 0.15);\n",
              "    fill: var(--button-hover-fill-color);\n",
              "  }\n",
              "\n",
              "  .colab-df-quickchart-complete:disabled,\n",
              "  .colab-df-quickchart-complete:disabled:hover {\n",
              "    background-color: var(--disabled-bg-color);\n",
              "    fill: var(--disabled-fill-color);\n",
              "    box-shadow: none;\n",
              "  }\n",
              "\n",
              "  .colab-df-spinner {\n",
              "    border: 2px solid var(--fill-color);\n",
              "    border-color: transparent;\n",
              "    border-bottom-color: var(--fill-color);\n",
              "    animation:\n",
              "      spin 1s steps(1) infinite;\n",
              "  }\n",
              "\n",
              "  @keyframes spin {\n",
              "    0% {\n",
              "      border-color: transparent;\n",
              "      border-bottom-color: var(--fill-color);\n",
              "      border-left-color: var(--fill-color);\n",
              "    }\n",
              "    20% {\n",
              "      border-color: transparent;\n",
              "      border-left-color: var(--fill-color);\n",
              "      border-top-color: var(--fill-color);\n",
              "    }\n",
              "    30% {\n",
              "      border-color: transparent;\n",
              "      border-left-color: var(--fill-color);\n",
              "      border-top-color: var(--fill-color);\n",
              "      border-right-color: var(--fill-color);\n",
              "    }\n",
              "    40% {\n",
              "      border-color: transparent;\n",
              "      border-right-color: var(--fill-color);\n",
              "      border-top-color: var(--fill-color);\n",
              "    }\n",
              "    60% {\n",
              "      border-color: transparent;\n",
              "      border-right-color: var(--fill-color);\n",
              "    }\n",
              "    80% {\n",
              "      border-color: transparent;\n",
              "      border-right-color: var(--fill-color);\n",
              "      border-bottom-color: var(--fill-color);\n",
              "    }\n",
              "    90% {\n",
              "      border-color: transparent;\n",
              "      border-bottom-color: var(--fill-color);\n",
              "    }\n",
              "  }\n",
              "</style>\n",
              "\n",
              "  <script>\n",
              "    async function quickchart(key) {\n",
              "      const quickchartButtonEl =\n",
              "        document.querySelector('#' + key + ' button');\n",
              "      quickchartButtonEl.disabled = true;  // To prevent multiple clicks.\n",
              "      quickchartButtonEl.classList.add('colab-df-spinner');\n",
              "      try {\n",
              "        const charts = await google.colab.kernel.invokeFunction(\n",
              "            'suggestCharts', [key], {});\n",
              "      } catch (error) {\n",
              "        console.error('Error during call to suggestCharts:', error);\n",
              "      }\n",
              "      quickchartButtonEl.classList.remove('colab-df-spinner');\n",
              "      quickchartButtonEl.classList.add('colab-df-quickchart-complete');\n",
              "    }\n",
              "    (() => {\n",
              "      let quickchartButtonEl =\n",
              "        document.querySelector('#df-a34d376d-fb72-4493-b55a-261ea856a76f button');\n",
              "      quickchartButtonEl.style.display =\n",
              "        google.colab.kernel.accessAllowed ? 'block' : 'none';\n",
              "    })();\n",
              "  </script>\n",
              "</div>\n",
              "    </div>\n",
              "  </div>\n"
            ]
          },
          "metadata": {},
          "execution_count": 7
        }
      ],
      "source": [
        "df.head()"
      ]
    },
    {
      "cell_type": "markdown",
      "metadata": {
        "id": "wI1_sMOYZ10L"
      },
      "source": [
        "karena kita hanya ingin fokus di Sentimen analysis, maka kita hanya pakai `Sentimen` sebagai target class nya **class**"
      ]
    },
    {
      "cell_type": "code",
      "execution_count": 8,
      "metadata": {
        "id": "ORRk3QgCZzIZ"
      },
      "outputs": [],
      "source": [
        "df = df.drop(['Sentiment'], axis=1)"
      ]
    },
    {
      "cell_type": "code",
      "execution_count": 9,
      "metadata": {
        "colab": {
          "base_uri": "https://localhost:8080/",
          "height": 206
        },
        "id": "Fw9T_vxxaGlO",
        "outputId": "aa0e4143-886c-465c-b644-82848512cc8b"
      },
      "outputs": [
        {
          "output_type": "execute_result",
          "data": {
            "text/plain": [
              "   Id                                         Text Tweet\n",
              "0   1  Jelek filmnya... apalagi si ernest gak mutu bg...\n",
              "1   2  Film king Arthur ini film paling jelek dari se...\n",
              "2   3  @beexkuanlin Sepanjang film gwa berkata kasar ...\n",
              "3   4  Ane ga suka fast and furious..menurutku kok je...\n",
              "4   5  @baekhyun36 kan gua ga tau film nya, lu bilang..."
            ],
            "text/html": [
              "\n",
              "  <div id=\"df-4af10f8d-50e0-4ee0-a81e-c56089abbf83\" class=\"colab-df-container\">\n",
              "    <div>\n",
              "<style scoped>\n",
              "    .dataframe tbody tr th:only-of-type {\n",
              "        vertical-align: middle;\n",
              "    }\n",
              "\n",
              "    .dataframe tbody tr th {\n",
              "        vertical-align: top;\n",
              "    }\n",
              "\n",
              "    .dataframe thead th {\n",
              "        text-align: right;\n",
              "    }\n",
              "</style>\n",
              "<table border=\"1\" class=\"dataframe\">\n",
              "  <thead>\n",
              "    <tr style=\"text-align: right;\">\n",
              "      <th></th>\n",
              "      <th>Id</th>\n",
              "      <th>Text Tweet</th>\n",
              "    </tr>\n",
              "  </thead>\n",
              "  <tbody>\n",
              "    <tr>\n",
              "      <th>0</th>\n",
              "      <td>1</td>\n",
              "      <td>Jelek filmnya... apalagi si ernest gak mutu bg...</td>\n",
              "    </tr>\n",
              "    <tr>\n",
              "      <th>1</th>\n",
              "      <td>2</td>\n",
              "      <td>Film king Arthur ini film paling jelek dari se...</td>\n",
              "    </tr>\n",
              "    <tr>\n",
              "      <th>2</th>\n",
              "      <td>3</td>\n",
              "      <td>@beexkuanlin Sepanjang film gwa berkata kasar ...</td>\n",
              "    </tr>\n",
              "    <tr>\n",
              "      <th>3</th>\n",
              "      <td>4</td>\n",
              "      <td>Ane ga suka fast and furious..menurutku kok je...</td>\n",
              "    </tr>\n",
              "    <tr>\n",
              "      <th>4</th>\n",
              "      <td>5</td>\n",
              "      <td>@baekhyun36 kan gua ga tau film nya, lu bilang...</td>\n",
              "    </tr>\n",
              "  </tbody>\n",
              "</table>\n",
              "</div>\n",
              "    <div class=\"colab-df-buttons\">\n",
              "\n",
              "  <div class=\"colab-df-container\">\n",
              "    <button class=\"colab-df-convert\" onclick=\"convertToInteractive('df-4af10f8d-50e0-4ee0-a81e-c56089abbf83')\"\n",
              "            title=\"Convert this dataframe to an interactive table.\"\n",
              "            style=\"display:none;\">\n",
              "\n",
              "  <svg xmlns=\"http://www.w3.org/2000/svg\" height=\"24px\" viewBox=\"0 -960 960 960\">\n",
              "    <path d=\"M120-120v-720h720v720H120Zm60-500h600v-160H180v160Zm220 220h160v-160H400v160Zm0 220h160v-160H400v160ZM180-400h160v-160H180v160Zm440 0h160v-160H620v160ZM180-180h160v-160H180v160Zm440 0h160v-160H620v160Z\"/>\n",
              "  </svg>\n",
              "    </button>\n",
              "\n",
              "  <style>\n",
              "    .colab-df-container {\n",
              "      display:flex;\n",
              "      gap: 12px;\n",
              "    }\n",
              "\n",
              "    .colab-df-convert {\n",
              "      background-color: #E8F0FE;\n",
              "      border: none;\n",
              "      border-radius: 50%;\n",
              "      cursor: pointer;\n",
              "      display: none;\n",
              "      fill: #1967D2;\n",
              "      height: 32px;\n",
              "      padding: 0 0 0 0;\n",
              "      width: 32px;\n",
              "    }\n",
              "\n",
              "    .colab-df-convert:hover {\n",
              "      background-color: #E2EBFA;\n",
              "      box-shadow: 0px 1px 2px rgba(60, 64, 67, 0.3), 0px 1px 3px 1px rgba(60, 64, 67, 0.15);\n",
              "      fill: #174EA6;\n",
              "    }\n",
              "\n",
              "    .colab-df-buttons div {\n",
              "      margin-bottom: 4px;\n",
              "    }\n",
              "\n",
              "    [theme=dark] .colab-df-convert {\n",
              "      background-color: #3B4455;\n",
              "      fill: #D2E3FC;\n",
              "    }\n",
              "\n",
              "    [theme=dark] .colab-df-convert:hover {\n",
              "      background-color: #434B5C;\n",
              "      box-shadow: 0px 1px 3px 1px rgba(0, 0, 0, 0.15);\n",
              "      filter: drop-shadow(0px 1px 2px rgba(0, 0, 0, 0.3));\n",
              "      fill: #FFFFFF;\n",
              "    }\n",
              "  </style>\n",
              "\n",
              "    <script>\n",
              "      const buttonEl =\n",
              "        document.querySelector('#df-4af10f8d-50e0-4ee0-a81e-c56089abbf83 button.colab-df-convert');\n",
              "      buttonEl.style.display =\n",
              "        google.colab.kernel.accessAllowed ? 'block' : 'none';\n",
              "\n",
              "      async function convertToInteractive(key) {\n",
              "        const element = document.querySelector('#df-4af10f8d-50e0-4ee0-a81e-c56089abbf83');\n",
              "        const dataTable =\n",
              "          await google.colab.kernel.invokeFunction('convertToInteractive',\n",
              "                                                    [key], {});\n",
              "        if (!dataTable) return;\n",
              "\n",
              "        const docLinkHtml = 'Like what you see? Visit the ' +\n",
              "          '<a target=\"_blank\" href=https://colab.research.google.com/notebooks/data_table.ipynb>data table notebook</a>'\n",
              "          + ' to learn more about interactive tables.';\n",
              "        element.innerHTML = '';\n",
              "        dataTable['output_type'] = 'display_data';\n",
              "        await google.colab.output.renderOutput(dataTable, element);\n",
              "        const docLink = document.createElement('div');\n",
              "        docLink.innerHTML = docLinkHtml;\n",
              "        element.appendChild(docLink);\n",
              "      }\n",
              "    </script>\n",
              "  </div>\n",
              "\n",
              "\n",
              "<div id=\"df-e5bd05fc-5eec-4a1d-895b-0f45616c16e9\">\n",
              "  <button class=\"colab-df-quickchart\" onclick=\"quickchart('df-e5bd05fc-5eec-4a1d-895b-0f45616c16e9')\"\n",
              "            title=\"Suggest charts\"\n",
              "            style=\"display:none;\">\n",
              "\n",
              "<svg xmlns=\"http://www.w3.org/2000/svg\" height=\"24px\"viewBox=\"0 0 24 24\"\n",
              "     width=\"24px\">\n",
              "    <g>\n",
              "        <path d=\"M19 3H5c-1.1 0-2 .9-2 2v14c0 1.1.9 2 2 2h14c1.1 0 2-.9 2-2V5c0-1.1-.9-2-2-2zM9 17H7v-7h2v7zm4 0h-2V7h2v10zm4 0h-2v-4h2v4z\"/>\n",
              "    </g>\n",
              "</svg>\n",
              "  </button>\n",
              "\n",
              "<style>\n",
              "  .colab-df-quickchart {\n",
              "      --bg-color: #E8F0FE;\n",
              "      --fill-color: #1967D2;\n",
              "      --hover-bg-color: #E2EBFA;\n",
              "      --hover-fill-color: #174EA6;\n",
              "      --disabled-fill-color: #AAA;\n",
              "      --disabled-bg-color: #DDD;\n",
              "  }\n",
              "\n",
              "  [theme=dark] .colab-df-quickchart {\n",
              "      --bg-color: #3B4455;\n",
              "      --fill-color: #D2E3FC;\n",
              "      --hover-bg-color: #434B5C;\n",
              "      --hover-fill-color: #FFFFFF;\n",
              "      --disabled-bg-color: #3B4455;\n",
              "      --disabled-fill-color: #666;\n",
              "  }\n",
              "\n",
              "  .colab-df-quickchart {\n",
              "    background-color: var(--bg-color);\n",
              "    border: none;\n",
              "    border-radius: 50%;\n",
              "    cursor: pointer;\n",
              "    display: none;\n",
              "    fill: var(--fill-color);\n",
              "    height: 32px;\n",
              "    padding: 0;\n",
              "    width: 32px;\n",
              "  }\n",
              "\n",
              "  .colab-df-quickchart:hover {\n",
              "    background-color: var(--hover-bg-color);\n",
              "    box-shadow: 0 1px 2px rgba(60, 64, 67, 0.3), 0 1px 3px 1px rgba(60, 64, 67, 0.15);\n",
              "    fill: var(--button-hover-fill-color);\n",
              "  }\n",
              "\n",
              "  .colab-df-quickchart-complete:disabled,\n",
              "  .colab-df-quickchart-complete:disabled:hover {\n",
              "    background-color: var(--disabled-bg-color);\n",
              "    fill: var(--disabled-fill-color);\n",
              "    box-shadow: none;\n",
              "  }\n",
              "\n",
              "  .colab-df-spinner {\n",
              "    border: 2px solid var(--fill-color);\n",
              "    border-color: transparent;\n",
              "    border-bottom-color: var(--fill-color);\n",
              "    animation:\n",
              "      spin 1s steps(1) infinite;\n",
              "  }\n",
              "\n",
              "  @keyframes spin {\n",
              "    0% {\n",
              "      border-color: transparent;\n",
              "      border-bottom-color: var(--fill-color);\n",
              "      border-left-color: var(--fill-color);\n",
              "    }\n",
              "    20% {\n",
              "      border-color: transparent;\n",
              "      border-left-color: var(--fill-color);\n",
              "      border-top-color: var(--fill-color);\n",
              "    }\n",
              "    30% {\n",
              "      border-color: transparent;\n",
              "      border-left-color: var(--fill-color);\n",
              "      border-top-color: var(--fill-color);\n",
              "      border-right-color: var(--fill-color);\n",
              "    }\n",
              "    40% {\n",
              "      border-color: transparent;\n",
              "      border-right-color: var(--fill-color);\n",
              "      border-top-color: var(--fill-color);\n",
              "    }\n",
              "    60% {\n",
              "      border-color: transparent;\n",
              "      border-right-color: var(--fill-color);\n",
              "    }\n",
              "    80% {\n",
              "      border-color: transparent;\n",
              "      border-right-color: var(--fill-color);\n",
              "      border-bottom-color: var(--fill-color);\n",
              "    }\n",
              "    90% {\n",
              "      border-color: transparent;\n",
              "      border-bottom-color: var(--fill-color);\n",
              "    }\n",
              "  }\n",
              "</style>\n",
              "\n",
              "  <script>\n",
              "    async function quickchart(key) {\n",
              "      const quickchartButtonEl =\n",
              "        document.querySelector('#' + key + ' button');\n",
              "      quickchartButtonEl.disabled = true;  // To prevent multiple clicks.\n",
              "      quickchartButtonEl.classList.add('colab-df-spinner');\n",
              "      try {\n",
              "        const charts = await google.colab.kernel.invokeFunction(\n",
              "            'suggestCharts', [key], {});\n",
              "      } catch (error) {\n",
              "        console.error('Error during call to suggestCharts:', error);\n",
              "      }\n",
              "      quickchartButtonEl.classList.remove('colab-df-spinner');\n",
              "      quickchartButtonEl.classList.add('colab-df-quickchart-complete');\n",
              "    }\n",
              "    (() => {\n",
              "      let quickchartButtonEl =\n",
              "        document.querySelector('#df-e5bd05fc-5eec-4a1d-895b-0f45616c16e9 button');\n",
              "      quickchartButtonEl.style.display =\n",
              "        google.colab.kernel.accessAllowed ? 'block' : 'none';\n",
              "    })();\n",
              "  </script>\n",
              "</div>\n",
              "    </div>\n",
              "  </div>\n"
            ]
          },
          "metadata": {},
          "execution_count": 9
        }
      ],
      "source": [
        "df.head()"
      ]
    },
    {
      "cell_type": "markdown",
      "metadata": {
        "id": "BJQVC4IFaQVN"
      },
      "source": [
        "# Preprocessing"
      ]
    },
    {
      "cell_type": "markdown",
      "metadata": {
        "id": "gsZ7w0D6bB_G"
      },
      "source": [
        "## setting fungsi"
      ]
    },
    {
      "cell_type": "code",
      "execution_count": 10,
      "metadata": {
        "id": "CUL7cOXDaKwK"
      },
      "outputs": [],
      "source": [
        "\n",
        "\n",
        "def bersih_data(text):\n",
        "    return \" \".join(text_processor.pre_process_doc(text))\n",
        "\n",
        "\n",
        "def non_ascii(text):\n",
        "    return text.encode('ascii', 'replace').decode('ascii')\n",
        "\n",
        "def remove_space_alzami(text):\n",
        "    return \" \".join(text.split())\n",
        "\n",
        "def remove_emoji_alzami(text):\n",
        "    return ' '.join(re.sub(\"([x#][A-Za-z0-9]+)\",\" \", text).split())\n",
        "\n",
        "def remove_tab(text):\n",
        "    return text.replace('\\\\t',\" \").replace('\\\\n',\" \").replace('\\\\u',\" \").replace('\\\\',\"\")\n",
        "\n",
        "def remove_tab2(text):\n",
        "    return re.sub('\\s+',' ',text)\n",
        "\n",
        "def remove_rt(text):\n",
        "    return text.replace('RT',\" \")\n",
        "\n",
        "def remove_mention(text):\n",
        "    return ' '.join(re.sub(\"([@#][A-Za-z0-9]+)|(\\w+:\\/\\/\\S+)\",\" \", text).split())\n",
        "\n",
        "def remove_incomplete_url(text):\n",
        "    return text.replace(\"http://\", \" \").replace(\"https://\", \" \")\n",
        "\n",
        "def remove_single_char(text):\n",
        "    return re.sub(r\"\\b[a-zA-Z]\\b\", \"\", text)\n",
        "\n",
        "def change_stripe(text):\n",
        "    return text.replace('-',\" \")\n",
        "\n",
        "def lower(text):\n",
        "    return text.lower()\n",
        "\n",
        "def remove_punctuation(text):\n",
        "    remove = string.punctuation\n",
        "    remove = remove.replace(\"_\", \"\") # don't remove hyphens\n",
        "    pattern = r\"[{}]\".format(remove) # create the pattern\n",
        "    return re.sub(pattern, \"\", text)"
      ]
    },
    {
      "cell_type": "markdown",
      "metadata": {
        "id": "dKWc2zLWa1vU"
      },
      "source": [
        "## running preprocessing\n",
        "logika main disini"
      ]
    },
    {
      "cell_type": "code",
      "execution_count": 11,
      "metadata": {
        "id": "WK9Su5bBbG2G"
      },
      "outputs": [],
      "source": [
        "final_string = []\n",
        "for text in df['Text Tweet'].values:\n",
        "    EachReviewText = \"\"\n",
        "    proc = bersih_data(text)\n",
        "    proc = remove_rt(proc)\n",
        "    proc = lower(proc)\n",
        "    proc = change_stripe(proc)\n",
        "    proc = remove_tab(proc)\n",
        "    proc = remove_tab2(proc)\n",
        "    proc = non_ascii(proc)\n",
        "    proc = remove_incomplete_url(proc)\n",
        "    proc = remove_single_char(proc)\n",
        "    proc = remove_punctuation(proc)\n",
        "    proc = remove_space_alzami(proc)\n",
        "    EachReviewText = proc\n",
        "    final_string.append(EachReviewText)"
      ]
    },
    {
      "cell_type": "markdown",
      "metadata": {
        "id": "gG-9xjmJbrja"
      },
      "source": [
        "masukkan hasil preprocessing ke kolom `step01`"
      ]
    },
    {
      "cell_type": "code",
      "execution_count": 12,
      "metadata": {
        "id": "ALrxEwRJbjb2"
      },
      "outputs": [],
      "source": [
        "df[\"step01\"] = final_string"
      ]
    },
    {
      "cell_type": "code",
      "execution_count": 13,
      "metadata": {
        "colab": {
          "base_uri": "https://localhost:8080/",
          "height": 80
        },
        "id": "hOmgeMAMbwGu",
        "outputId": "110d58fb-6286-4a67-d750-f9b732b6c18b"
      },
      "outputs": [
        {
          "output_type": "execute_result",
          "data": {
            "text/plain": [
              "   Id                                         Text Tweet  \\\n",
              "0   1  Jelek filmnya... apalagi si ernest gak mutu bg...   \n",
              "\n",
              "                                              step01  \n",
              "0  jelek filmnya repeated apalagi si ernest gak m...  "
            ],
            "text/html": [
              "\n",
              "  <div id=\"df-c3351565-f04c-4a52-b87f-7cac8e5610ac\" class=\"colab-df-container\">\n",
              "    <div>\n",
              "<style scoped>\n",
              "    .dataframe tbody tr th:only-of-type {\n",
              "        vertical-align: middle;\n",
              "    }\n",
              "\n",
              "    .dataframe tbody tr th {\n",
              "        vertical-align: top;\n",
              "    }\n",
              "\n",
              "    .dataframe thead th {\n",
              "        text-align: right;\n",
              "    }\n",
              "</style>\n",
              "<table border=\"1\" class=\"dataframe\">\n",
              "  <thead>\n",
              "    <tr style=\"text-align: right;\">\n",
              "      <th></th>\n",
              "      <th>Id</th>\n",
              "      <th>Text Tweet</th>\n",
              "      <th>step01</th>\n",
              "    </tr>\n",
              "  </thead>\n",
              "  <tbody>\n",
              "    <tr>\n",
              "      <th>0</th>\n",
              "      <td>1</td>\n",
              "      <td>Jelek filmnya... apalagi si ernest gak mutu bg...</td>\n",
              "      <td>jelek filmnya repeated apalagi si ernest gak m...</td>\n",
              "    </tr>\n",
              "  </tbody>\n",
              "</table>\n",
              "</div>\n",
              "    <div class=\"colab-df-buttons\">\n",
              "\n",
              "  <div class=\"colab-df-container\">\n",
              "    <button class=\"colab-df-convert\" onclick=\"convertToInteractive('df-c3351565-f04c-4a52-b87f-7cac8e5610ac')\"\n",
              "            title=\"Convert this dataframe to an interactive table.\"\n",
              "            style=\"display:none;\">\n",
              "\n",
              "  <svg xmlns=\"http://www.w3.org/2000/svg\" height=\"24px\" viewBox=\"0 -960 960 960\">\n",
              "    <path d=\"M120-120v-720h720v720H120Zm60-500h600v-160H180v160Zm220 220h160v-160H400v160Zm0 220h160v-160H400v160ZM180-400h160v-160H180v160Zm440 0h160v-160H620v160ZM180-180h160v-160H180v160Zm440 0h160v-160H620v160Z\"/>\n",
              "  </svg>\n",
              "    </button>\n",
              "\n",
              "  <style>\n",
              "    .colab-df-container {\n",
              "      display:flex;\n",
              "      gap: 12px;\n",
              "    }\n",
              "\n",
              "    .colab-df-convert {\n",
              "      background-color: #E8F0FE;\n",
              "      border: none;\n",
              "      border-radius: 50%;\n",
              "      cursor: pointer;\n",
              "      display: none;\n",
              "      fill: #1967D2;\n",
              "      height: 32px;\n",
              "      padding: 0 0 0 0;\n",
              "      width: 32px;\n",
              "    }\n",
              "\n",
              "    .colab-df-convert:hover {\n",
              "      background-color: #E2EBFA;\n",
              "      box-shadow: 0px 1px 2px rgba(60, 64, 67, 0.3), 0px 1px 3px 1px rgba(60, 64, 67, 0.15);\n",
              "      fill: #174EA6;\n",
              "    }\n",
              "\n",
              "    .colab-df-buttons div {\n",
              "      margin-bottom: 4px;\n",
              "    }\n",
              "\n",
              "    [theme=dark] .colab-df-convert {\n",
              "      background-color: #3B4455;\n",
              "      fill: #D2E3FC;\n",
              "    }\n",
              "\n",
              "    [theme=dark] .colab-df-convert:hover {\n",
              "      background-color: #434B5C;\n",
              "      box-shadow: 0px 1px 3px 1px rgba(0, 0, 0, 0.15);\n",
              "      filter: drop-shadow(0px 1px 2px rgba(0, 0, 0, 0.3));\n",
              "      fill: #FFFFFF;\n",
              "    }\n",
              "  </style>\n",
              "\n",
              "    <script>\n",
              "      const buttonEl =\n",
              "        document.querySelector('#df-c3351565-f04c-4a52-b87f-7cac8e5610ac button.colab-df-convert');\n",
              "      buttonEl.style.display =\n",
              "        google.colab.kernel.accessAllowed ? 'block' : 'none';\n",
              "\n",
              "      async function convertToInteractive(key) {\n",
              "        const element = document.querySelector('#df-c3351565-f04c-4a52-b87f-7cac8e5610ac');\n",
              "        const dataTable =\n",
              "          await google.colab.kernel.invokeFunction('convertToInteractive',\n",
              "                                                    [key], {});\n",
              "        if (!dataTable) return;\n",
              "\n",
              "        const docLinkHtml = 'Like what you see? Visit the ' +\n",
              "          '<a target=\"_blank\" href=https://colab.research.google.com/notebooks/data_table.ipynb>data table notebook</a>'\n",
              "          + ' to learn more about interactive tables.';\n",
              "        element.innerHTML = '';\n",
              "        dataTable['output_type'] = 'display_data';\n",
              "        await google.colab.output.renderOutput(dataTable, element);\n",
              "        const docLink = document.createElement('div');\n",
              "        docLink.innerHTML = docLinkHtml;\n",
              "        element.appendChild(docLink);\n",
              "      }\n",
              "    </script>\n",
              "  </div>\n",
              "\n",
              "    </div>\n",
              "  </div>\n"
            ]
          },
          "metadata": {},
          "execution_count": 13
        }
      ],
      "source": [
        "df.head(1)"
      ]
    },
    {
      "cell_type": "markdown",
      "metadata": {
        "id": "M_mswe6Ab5Fn"
      },
      "source": [
        "cek jumlah dataset"
      ]
    },
    {
      "cell_type": "code",
      "execution_count": 14,
      "metadata": {
        "colab": {
          "base_uri": "https://localhost:8080/"
        },
        "id": "RmArdHI8bxVD",
        "outputId": "71c75c57-a69a-49c9-c12b-e9557904f481"
      },
      "outputs": [
        {
          "output_type": "stream",
          "name": "stdout",
          "text": [
            "<class 'pandas.core.frame.DataFrame'>\n",
            "RangeIndex: 200 entries, 0 to 199\n",
            "Data columns (total 3 columns):\n",
            " #   Column      Non-Null Count  Dtype \n",
            "---  ------      --------------  ----- \n",
            " 0   Id          200 non-null    int64 \n",
            " 1   Text Tweet  200 non-null    object\n",
            " 2   step01      200 non-null    object\n",
            "dtypes: int64(1), object(2)\n",
            "memory usage: 4.8+ KB\n"
          ]
        }
      ],
      "source": [
        "df.info()"
      ]
    },
    {
      "cell_type": "markdown",
      "metadata": {
        "id": "ERYpQ-KYb9rJ"
      },
      "source": [
        "## hapus record yang kosong"
      ]
    },
    {
      "cell_type": "code",
      "execution_count": 15,
      "metadata": {
        "id": "ro18ixq6b7aS"
      },
      "outputs": [],
      "source": [
        "df_hapus = df[~df['step01'].str.contains(\" \")]"
      ]
    },
    {
      "cell_type": "code",
      "execution_count": 16,
      "metadata": {
        "id": "tk6cqwtvcBNT"
      },
      "outputs": [],
      "source": [
        "df_new = df[~df.isin(df_hapus)].dropna()"
      ]
    },
    {
      "cell_type": "code",
      "execution_count": 17,
      "metadata": {
        "colab": {
          "base_uri": "https://localhost:8080/"
        },
        "id": "Yu6dRIGycCuH",
        "outputId": "1ece6770-2813-4727-95ba-371113ff100d"
      },
      "outputs": [
        {
          "output_type": "stream",
          "name": "stdout",
          "text": [
            "<class 'pandas.core.frame.DataFrame'>\n",
            "RangeIndex: 200 entries, 0 to 199\n",
            "Data columns (total 3 columns):\n",
            " #   Column      Non-Null Count  Dtype \n",
            "---  ------      --------------  ----- \n",
            " 0   Id          200 non-null    int64 \n",
            " 1   Text Tweet  200 non-null    object\n",
            " 2   step01      200 non-null    object\n",
            "dtypes: int64(1), object(2)\n",
            "memory usage: 4.8+ KB\n"
          ]
        }
      ],
      "source": [
        "df_new.info()"
      ]
    },
    {
      "cell_type": "markdown",
      "metadata": {
        "id": "HpC4mJyDcLNo"
      },
      "source": [
        "## normalisasi kata slang"
      ]
    },
    {
      "cell_type": "code",
      "execution_count": 18,
      "metadata": {
        "colab": {
          "base_uri": "https://localhost:8080/"
        },
        "id": "3GTurr6RcYiW",
        "outputId": "17171af6-b13d-4b25-8ac0-b6297e6b2fba"
      },
      "outputs": [
        {
          "output_type": "stream",
          "name": "stderr",
          "text": [
            "[nltk_data] Downloading package punkt to /root/nltk_data...\n",
            "[nltk_data]   Unzipping tokenizers/punkt.zip.\n"
          ]
        }
      ],
      "source": [
        "# token\n",
        "import nltk\n",
        "nltk.download('punkt')\n",
        "from nltk.tokenize import word_tokenize"
      ]
    },
    {
      "cell_type": "code",
      "execution_count": 19,
      "metadata": {
        "id": "qMe9R6gLcaQ-"
      },
      "outputs": [],
      "source": [
        "def word_tokenize_wrapper(text):\n",
        "  return word_tokenize(text)"
      ]
    },
    {
      "cell_type": "code",
      "execution_count": 20,
      "metadata": {
        "id": "jMoHPkw7cdMq"
      },
      "outputs": [],
      "source": [
        "df_new['tokens'] = df['step01'].apply(word_tokenize_wrapper)"
      ]
    },
    {
      "cell_type": "code",
      "execution_count": 21,
      "metadata": {
        "colab": {
          "base_uri": "https://localhost:8080/",
          "height": 536
        },
        "id": "xebbaeOVcfGT",
        "outputId": "44b3ff12-6151-4d95-8937-227bacfc74ab"
      },
      "outputs": [
        {
          "output_type": "execute_result",
          "data": {
            "text/plain": [
              "   Id                                         Text Tweet  \\\n",
              "0   1  Jelek filmnya... apalagi si ernest gak mutu bg...   \n",
              "1   2  Film king Arthur ini film paling jelek dari se...   \n",
              "2   3  @beexkuanlin Sepanjang film gwa berkata kasar ...   \n",
              "3   4  Ane ga suka fast and furious..menurutku kok je...   \n",
              "4   5  @baekhyun36 kan gua ga tau film nya, lu bilang...   \n",
              "5   6  tolong editingnya yg bagus ya. Saya sering kec...   \n",
              "6   7  Kecewa dgn salah satu aktornya yg ternyata pen...   \n",
              "7   8  Kecewa parah sama film the guys. Dear @raditya...   \n",
              "8   9           Banyak yg kecewa abis nonton film ini :(   \n",
              "9  10  #TheMummy 2017 adalah film yang paling memgece...   \n",
              "\n",
              "                                              step01  \\\n",
              "0  jelek filmnya repeated apalagi si ernest gak m...   \n",
              "1  film king arthur ini film paling jelek dari se...   \n",
              "2  user sepanjang film gwa berkata kasar terus pa...   \n",
              "3  ane ga suka fast and furious repeated menurutk...   \n",
              "4  user kan gua ga tau film nya lu bilang perang ...   \n",
              "5  tolong editingnya yg bagus ya saya sering kece...   \n",
              "6  kecewa dgn salah satu aktornya yg ternyata pen...   \n",
              "7  kecewa parah sama film the guys dear user sorr...   \n",
              "8          banyak yg kecewa abis nonton film ini sad   \n",
              "9  hashtag the mummy hashtag number adalah film y...   \n",
              "\n",
              "                                              tokens  \n",
              "0  [jelek, filmnya, repeated, apalagi, si, ernest...  \n",
              "1  [film, king, arthur, ini, film, paling, jelek,...  \n",
              "2  [user, sepanjang, film, gwa, berkata, kasar, t...  \n",
              "3  [ane, ga, suka, fast, and, furious, repeated, ...  \n",
              "4  [user, kan, gua, ga, tau, film, nya, lu, bilan...  \n",
              "5  [tolong, editingnya, yg, bagus, ya, saya, seri...  \n",
              "6  [kecewa, dgn, salah, satu, aktornya, yg, terny...  \n",
              "7  [kecewa, parah, sama, film, the, guys, dear, u...  \n",
              "8  [banyak, yg, kecewa, abis, nonton, film, ini, ...  \n",
              "9  [hashtag, the, mummy, hashtag, number, adalah,...  "
            ],
            "text/html": [
              "\n",
              "  <div id=\"df-b2b50dba-b515-44d8-b253-6a1b6ddf78fa\" class=\"colab-df-container\">\n",
              "    <div>\n",
              "<style scoped>\n",
              "    .dataframe tbody tr th:only-of-type {\n",
              "        vertical-align: middle;\n",
              "    }\n",
              "\n",
              "    .dataframe tbody tr th {\n",
              "        vertical-align: top;\n",
              "    }\n",
              "\n",
              "    .dataframe thead th {\n",
              "        text-align: right;\n",
              "    }\n",
              "</style>\n",
              "<table border=\"1\" class=\"dataframe\">\n",
              "  <thead>\n",
              "    <tr style=\"text-align: right;\">\n",
              "      <th></th>\n",
              "      <th>Id</th>\n",
              "      <th>Text Tweet</th>\n",
              "      <th>step01</th>\n",
              "      <th>tokens</th>\n",
              "    </tr>\n",
              "  </thead>\n",
              "  <tbody>\n",
              "    <tr>\n",
              "      <th>0</th>\n",
              "      <td>1</td>\n",
              "      <td>Jelek filmnya... apalagi si ernest gak mutu bg...</td>\n",
              "      <td>jelek filmnya repeated apalagi si ernest gak m...</td>\n",
              "      <td>[jelek, filmnya, repeated, apalagi, si, ernest...</td>\n",
              "    </tr>\n",
              "    <tr>\n",
              "      <th>1</th>\n",
              "      <td>2</td>\n",
              "      <td>Film king Arthur ini film paling jelek dari se...</td>\n",
              "      <td>film king arthur ini film paling jelek dari se...</td>\n",
              "      <td>[film, king, arthur, ini, film, paling, jelek,...</td>\n",
              "    </tr>\n",
              "    <tr>\n",
              "      <th>2</th>\n",
              "      <td>3</td>\n",
              "      <td>@beexkuanlin Sepanjang film gwa berkata kasar ...</td>\n",
              "      <td>user sepanjang film gwa berkata kasar terus pa...</td>\n",
              "      <td>[user, sepanjang, film, gwa, berkata, kasar, t...</td>\n",
              "    </tr>\n",
              "    <tr>\n",
              "      <th>3</th>\n",
              "      <td>4</td>\n",
              "      <td>Ane ga suka fast and furious..menurutku kok je...</td>\n",
              "      <td>ane ga suka fast and furious repeated menurutk...</td>\n",
              "      <td>[ane, ga, suka, fast, and, furious, repeated, ...</td>\n",
              "    </tr>\n",
              "    <tr>\n",
              "      <th>4</th>\n",
              "      <td>5</td>\n",
              "      <td>@baekhyun36 kan gua ga tau film nya, lu bilang...</td>\n",
              "      <td>user kan gua ga tau film nya lu bilang perang ...</td>\n",
              "      <td>[user, kan, gua, ga, tau, film, nya, lu, bilan...</td>\n",
              "    </tr>\n",
              "    <tr>\n",
              "      <th>5</th>\n",
              "      <td>6</td>\n",
              "      <td>tolong editingnya yg bagus ya. Saya sering kec...</td>\n",
              "      <td>tolong editingnya yg bagus ya saya sering kece...</td>\n",
              "      <td>[tolong, editingnya, yg, bagus, ya, saya, seri...</td>\n",
              "    </tr>\n",
              "    <tr>\n",
              "      <th>6</th>\n",
              "      <td>7</td>\n",
              "      <td>Kecewa dgn salah satu aktornya yg ternyata pen...</td>\n",
              "      <td>kecewa dgn salah satu aktornya yg ternyata pen...</td>\n",
              "      <td>[kecewa, dgn, salah, satu, aktornya, yg, terny...</td>\n",
              "    </tr>\n",
              "    <tr>\n",
              "      <th>7</th>\n",
              "      <td>8</td>\n",
              "      <td>Kecewa parah sama film the guys. Dear @raditya...</td>\n",
              "      <td>kecewa parah sama film the guys dear user sorr...</td>\n",
              "      <td>[kecewa, parah, sama, film, the, guys, dear, u...</td>\n",
              "    </tr>\n",
              "    <tr>\n",
              "      <th>8</th>\n",
              "      <td>9</td>\n",
              "      <td>Banyak yg kecewa abis nonton film ini :(</td>\n",
              "      <td>banyak yg kecewa abis nonton film ini sad</td>\n",
              "      <td>[banyak, yg, kecewa, abis, nonton, film, ini, ...</td>\n",
              "    </tr>\n",
              "    <tr>\n",
              "      <th>9</th>\n",
              "      <td>10</td>\n",
              "      <td>#TheMummy 2017 adalah film yang paling memgece...</td>\n",
              "      <td>hashtag the mummy hashtag number adalah film y...</td>\n",
              "      <td>[hashtag, the, mummy, hashtag, number, adalah,...</td>\n",
              "    </tr>\n",
              "  </tbody>\n",
              "</table>\n",
              "</div>\n",
              "    <div class=\"colab-df-buttons\">\n",
              "\n",
              "  <div class=\"colab-df-container\">\n",
              "    <button class=\"colab-df-convert\" onclick=\"convertToInteractive('df-b2b50dba-b515-44d8-b253-6a1b6ddf78fa')\"\n",
              "            title=\"Convert this dataframe to an interactive table.\"\n",
              "            style=\"display:none;\">\n",
              "\n",
              "  <svg xmlns=\"http://www.w3.org/2000/svg\" height=\"24px\" viewBox=\"0 -960 960 960\">\n",
              "    <path d=\"M120-120v-720h720v720H120Zm60-500h600v-160H180v160Zm220 220h160v-160H400v160Zm0 220h160v-160H400v160ZM180-400h160v-160H180v160Zm440 0h160v-160H620v160ZM180-180h160v-160H180v160Zm440 0h160v-160H620v160Z\"/>\n",
              "  </svg>\n",
              "    </button>\n",
              "\n",
              "  <style>\n",
              "    .colab-df-container {\n",
              "      display:flex;\n",
              "      gap: 12px;\n",
              "    }\n",
              "\n",
              "    .colab-df-convert {\n",
              "      background-color: #E8F0FE;\n",
              "      border: none;\n",
              "      border-radius: 50%;\n",
              "      cursor: pointer;\n",
              "      display: none;\n",
              "      fill: #1967D2;\n",
              "      height: 32px;\n",
              "      padding: 0 0 0 0;\n",
              "      width: 32px;\n",
              "    }\n",
              "\n",
              "    .colab-df-convert:hover {\n",
              "      background-color: #E2EBFA;\n",
              "      box-shadow: 0px 1px 2px rgba(60, 64, 67, 0.3), 0px 1px 3px 1px rgba(60, 64, 67, 0.15);\n",
              "      fill: #174EA6;\n",
              "    }\n",
              "\n",
              "    .colab-df-buttons div {\n",
              "      margin-bottom: 4px;\n",
              "    }\n",
              "\n",
              "    [theme=dark] .colab-df-convert {\n",
              "      background-color: #3B4455;\n",
              "      fill: #D2E3FC;\n",
              "    }\n",
              "\n",
              "    [theme=dark] .colab-df-convert:hover {\n",
              "      background-color: #434B5C;\n",
              "      box-shadow: 0px 1px 3px 1px rgba(0, 0, 0, 0.15);\n",
              "      filter: drop-shadow(0px 1px 2px rgba(0, 0, 0, 0.3));\n",
              "      fill: #FFFFFF;\n",
              "    }\n",
              "  </style>\n",
              "\n",
              "    <script>\n",
              "      const buttonEl =\n",
              "        document.querySelector('#df-b2b50dba-b515-44d8-b253-6a1b6ddf78fa button.colab-df-convert');\n",
              "      buttonEl.style.display =\n",
              "        google.colab.kernel.accessAllowed ? 'block' : 'none';\n",
              "\n",
              "      async function convertToInteractive(key) {\n",
              "        const element = document.querySelector('#df-b2b50dba-b515-44d8-b253-6a1b6ddf78fa');\n",
              "        const dataTable =\n",
              "          await google.colab.kernel.invokeFunction('convertToInteractive',\n",
              "                                                    [key], {});\n",
              "        if (!dataTable) return;\n",
              "\n",
              "        const docLinkHtml = 'Like what you see? Visit the ' +\n",
              "          '<a target=\"_blank\" href=https://colab.research.google.com/notebooks/data_table.ipynb>data table notebook</a>'\n",
              "          + ' to learn more about interactive tables.';\n",
              "        element.innerHTML = '';\n",
              "        dataTable['output_type'] = 'display_data';\n",
              "        await google.colab.output.renderOutput(dataTable, element);\n",
              "        const docLink = document.createElement('div');\n",
              "        docLink.innerHTML = docLinkHtml;\n",
              "        element.appendChild(docLink);\n",
              "      }\n",
              "    </script>\n",
              "  </div>\n",
              "\n",
              "\n",
              "<div id=\"df-abcc8207-8ef8-4346-8aac-01597420cebd\">\n",
              "  <button class=\"colab-df-quickchart\" onclick=\"quickchart('df-abcc8207-8ef8-4346-8aac-01597420cebd')\"\n",
              "            title=\"Suggest charts\"\n",
              "            style=\"display:none;\">\n",
              "\n",
              "<svg xmlns=\"http://www.w3.org/2000/svg\" height=\"24px\"viewBox=\"0 0 24 24\"\n",
              "     width=\"24px\">\n",
              "    <g>\n",
              "        <path d=\"M19 3H5c-1.1 0-2 .9-2 2v14c0 1.1.9 2 2 2h14c1.1 0 2-.9 2-2V5c0-1.1-.9-2-2-2zM9 17H7v-7h2v7zm4 0h-2V7h2v10zm4 0h-2v-4h2v4z\"/>\n",
              "    </g>\n",
              "</svg>\n",
              "  </button>\n",
              "\n",
              "<style>\n",
              "  .colab-df-quickchart {\n",
              "      --bg-color: #E8F0FE;\n",
              "      --fill-color: #1967D2;\n",
              "      --hover-bg-color: #E2EBFA;\n",
              "      --hover-fill-color: #174EA6;\n",
              "      --disabled-fill-color: #AAA;\n",
              "      --disabled-bg-color: #DDD;\n",
              "  }\n",
              "\n",
              "  [theme=dark] .colab-df-quickchart {\n",
              "      --bg-color: #3B4455;\n",
              "      --fill-color: #D2E3FC;\n",
              "      --hover-bg-color: #434B5C;\n",
              "      --hover-fill-color: #FFFFFF;\n",
              "      --disabled-bg-color: #3B4455;\n",
              "      --disabled-fill-color: #666;\n",
              "  }\n",
              "\n",
              "  .colab-df-quickchart {\n",
              "    background-color: var(--bg-color);\n",
              "    border: none;\n",
              "    border-radius: 50%;\n",
              "    cursor: pointer;\n",
              "    display: none;\n",
              "    fill: var(--fill-color);\n",
              "    height: 32px;\n",
              "    padding: 0;\n",
              "    width: 32px;\n",
              "  }\n",
              "\n",
              "  .colab-df-quickchart:hover {\n",
              "    background-color: var(--hover-bg-color);\n",
              "    box-shadow: 0 1px 2px rgba(60, 64, 67, 0.3), 0 1px 3px 1px rgba(60, 64, 67, 0.15);\n",
              "    fill: var(--button-hover-fill-color);\n",
              "  }\n",
              "\n",
              "  .colab-df-quickchart-complete:disabled,\n",
              "  .colab-df-quickchart-complete:disabled:hover {\n",
              "    background-color: var(--disabled-bg-color);\n",
              "    fill: var(--disabled-fill-color);\n",
              "    box-shadow: none;\n",
              "  }\n",
              "\n",
              "  .colab-df-spinner {\n",
              "    border: 2px solid var(--fill-color);\n",
              "    border-color: transparent;\n",
              "    border-bottom-color: var(--fill-color);\n",
              "    animation:\n",
              "      spin 1s steps(1) infinite;\n",
              "  }\n",
              "\n",
              "  @keyframes spin {\n",
              "    0% {\n",
              "      border-color: transparent;\n",
              "      border-bottom-color: var(--fill-color);\n",
              "      border-left-color: var(--fill-color);\n",
              "    }\n",
              "    20% {\n",
              "      border-color: transparent;\n",
              "      border-left-color: var(--fill-color);\n",
              "      border-top-color: var(--fill-color);\n",
              "    }\n",
              "    30% {\n",
              "      border-color: transparent;\n",
              "      border-left-color: var(--fill-color);\n",
              "      border-top-color: var(--fill-color);\n",
              "      border-right-color: var(--fill-color);\n",
              "    }\n",
              "    40% {\n",
              "      border-color: transparent;\n",
              "      border-right-color: var(--fill-color);\n",
              "      border-top-color: var(--fill-color);\n",
              "    }\n",
              "    60% {\n",
              "      border-color: transparent;\n",
              "      border-right-color: var(--fill-color);\n",
              "    }\n",
              "    80% {\n",
              "      border-color: transparent;\n",
              "      border-right-color: var(--fill-color);\n",
              "      border-bottom-color: var(--fill-color);\n",
              "    }\n",
              "    90% {\n",
              "      border-color: transparent;\n",
              "      border-bottom-color: var(--fill-color);\n",
              "    }\n",
              "  }\n",
              "</style>\n",
              "\n",
              "  <script>\n",
              "    async function quickchart(key) {\n",
              "      const quickchartButtonEl =\n",
              "        document.querySelector('#' + key + ' button');\n",
              "      quickchartButtonEl.disabled = true;  // To prevent multiple clicks.\n",
              "      quickchartButtonEl.classList.add('colab-df-spinner');\n",
              "      try {\n",
              "        const charts = await google.colab.kernel.invokeFunction(\n",
              "            'suggestCharts', [key], {});\n",
              "      } catch (error) {\n",
              "        console.error('Error during call to suggestCharts:', error);\n",
              "      }\n",
              "      quickchartButtonEl.classList.remove('colab-df-spinner');\n",
              "      quickchartButtonEl.classList.add('colab-df-quickchart-complete');\n",
              "    }\n",
              "    (() => {\n",
              "      let quickchartButtonEl =\n",
              "        document.querySelector('#df-abcc8207-8ef8-4346-8aac-01597420cebd button');\n",
              "      quickchartButtonEl.style.display =\n",
              "        google.colab.kernel.accessAllowed ? 'block' : 'none';\n",
              "    })();\n",
              "  </script>\n",
              "</div>\n",
              "    </div>\n",
              "  </div>\n"
            ]
          },
          "metadata": {},
          "execution_count": 21
        }
      ],
      "source": [
        "df_new.head(10)"
      ]
    },
    {
      "cell_type": "code",
      "execution_count": 23,
      "metadata": {
        "id": "eFYvCzaLcD2k"
      },
      "outputs": [],
      "source": [
        "normalized_word = pd.read_excel(\"/content/kamus perbaikan kata.xlsx\")\n",
        "\n",
        "normalized_word_dict = {}\n",
        "\n",
        "for index, row in normalized_word.iterrows():\n",
        "    if row[0] not in normalized_word_dict:\n",
        "        normalized_word_dict[row[0]] = row[1]\n",
        "\n",
        "def normalized_term(document):\n",
        "    return [normalized_word_dict[term] if term in normalized_word_dict else term for term in document]\n",
        "\n",
        "df_new['tokens_perbaikan'] = df_new['tokens'].apply(normalized_term)"
      ]
    },
    {
      "cell_type": "code",
      "execution_count": null,
      "metadata": {
        "colab": {
          "base_uri": "https://localhost:8080/",
          "height": 310
        },
        "id": "nAmSDdMfdIVR",
        "outputId": "d9e7e5e7-0559-418d-ccbf-a9c10154d248"
      },
      "outputs": [
        {
          "output_type": "execute_result",
          "data": {
            "text/plain": [
              "   Id                                         Text Tweet  \\\n",
              "0   1  Jelek filmnya... apalagi si ernest gak mutu bg...   \n",
              "1   2  Film king Arthur ini film paling jelek dari se...   \n",
              "2   3  @beexkuanlin Sepanjang film gwa berkata kasar ...   \n",
              "3   4  Ane ga suka fast and furious..menurutku kok je...   \n",
              "4   5  @baekhyun36 kan gua ga tau film nya, lu bilang...   \n",
              "\n",
              "                                              step01  \\\n",
              "0  jelek filmnya repeated apalagi si ernest gak m...   \n",
              "1  film king arthur ini film paling jelek dari se...   \n",
              "2  user sepanjang film gwa berkata kasar terus pa...   \n",
              "3  ane ga suka fast and furious repeated menurutk...   \n",
              "4  user kan gua ga tau film nya lu bilang perang ...   \n",
              "\n",
              "                                              tokens  \\\n",
              "0  [jelek, filmnya, repeated, apalagi, si, ernest...   \n",
              "1  [film, king, arthur, ini, film, paling, jelek,...   \n",
              "2  [user, sepanjang, film, gwa, berkata, kasar, t...   \n",
              "3  [ane, ga, suka, fast, and, furious, repeated, ...   \n",
              "4  [user, kan, gua, ga, tau, film, nya, lu, bilan...   \n",
              "\n",
              "                                    tokens_perbaikan  \n",
              "0  [jelek, filmnya, repeated, apalagi, sih, ernes...  \n",
              "1  [film, king, arthur, ini, film, paling, jelek,...  \n",
              "2  [user, sepanjang, film, gwa, berkata, kasar, t...  \n",
              "3  [saya, tidak, suka, fast, dan, furious, repeat...  \n",
              "4  [user, kan, saya, tidak, tau, film, nya, kamu,...  "
            ],
            "text/html": [
              "\n",
              "  <div id=\"df-1c5566d6-e91c-415d-9132-d3e7bda8b5b5\" class=\"colab-df-container\">\n",
              "    <div>\n",
              "<style scoped>\n",
              "    .dataframe tbody tr th:only-of-type {\n",
              "        vertical-align: middle;\n",
              "    }\n",
              "\n",
              "    .dataframe tbody tr th {\n",
              "        vertical-align: top;\n",
              "    }\n",
              "\n",
              "    .dataframe thead th {\n",
              "        text-align: right;\n",
              "    }\n",
              "</style>\n",
              "<table border=\"1\" class=\"dataframe\">\n",
              "  <thead>\n",
              "    <tr style=\"text-align: right;\">\n",
              "      <th></th>\n",
              "      <th>Id</th>\n",
              "      <th>Text Tweet</th>\n",
              "      <th>step01</th>\n",
              "      <th>tokens</th>\n",
              "      <th>tokens_perbaikan</th>\n",
              "    </tr>\n",
              "  </thead>\n",
              "  <tbody>\n",
              "    <tr>\n",
              "      <th>0</th>\n",
              "      <td>1</td>\n",
              "      <td>Jelek filmnya... apalagi si ernest gak mutu bg...</td>\n",
              "      <td>jelek filmnya repeated apalagi si ernest gak m...</td>\n",
              "      <td>[jelek, filmnya, repeated, apalagi, si, ernest...</td>\n",
              "      <td>[jelek, filmnya, repeated, apalagi, sih, ernes...</td>\n",
              "    </tr>\n",
              "    <tr>\n",
              "      <th>1</th>\n",
              "      <td>2</td>\n",
              "      <td>Film king Arthur ini film paling jelek dari se...</td>\n",
              "      <td>film king arthur ini film paling jelek dari se...</td>\n",
              "      <td>[film, king, arthur, ini, film, paling, jelek,...</td>\n",
              "      <td>[film, king, arthur, ini, film, paling, jelek,...</td>\n",
              "    </tr>\n",
              "    <tr>\n",
              "      <th>2</th>\n",
              "      <td>3</td>\n",
              "      <td>@beexkuanlin Sepanjang film gwa berkata kasar ...</td>\n",
              "      <td>user sepanjang film gwa berkata kasar terus pa...</td>\n",
              "      <td>[user, sepanjang, film, gwa, berkata, kasar, t...</td>\n",
              "      <td>[user, sepanjang, film, gwa, berkata, kasar, t...</td>\n",
              "    </tr>\n",
              "    <tr>\n",
              "      <th>3</th>\n",
              "      <td>4</td>\n",
              "      <td>Ane ga suka fast and furious..menurutku kok je...</td>\n",
              "      <td>ane ga suka fast and furious repeated menurutk...</td>\n",
              "      <td>[ane, ga, suka, fast, and, furious, repeated, ...</td>\n",
              "      <td>[saya, tidak, suka, fast, dan, furious, repeat...</td>\n",
              "    </tr>\n",
              "    <tr>\n",
              "      <th>4</th>\n",
              "      <td>5</td>\n",
              "      <td>@baekhyun36 kan gua ga tau film nya, lu bilang...</td>\n",
              "      <td>user kan gua ga tau film nya lu bilang perang ...</td>\n",
              "      <td>[user, kan, gua, ga, tau, film, nya, lu, bilan...</td>\n",
              "      <td>[user, kan, saya, tidak, tau, film, nya, kamu,...</td>\n",
              "    </tr>\n",
              "  </tbody>\n",
              "</table>\n",
              "</div>\n",
              "    <div class=\"colab-df-buttons\">\n",
              "\n",
              "  <div class=\"colab-df-container\">\n",
              "    <button class=\"colab-df-convert\" onclick=\"convertToInteractive('df-1c5566d6-e91c-415d-9132-d3e7bda8b5b5')\"\n",
              "            title=\"Convert this dataframe to an interactive table.\"\n",
              "            style=\"display:none;\">\n",
              "\n",
              "  <svg xmlns=\"http://www.w3.org/2000/svg\" height=\"24px\" viewBox=\"0 -960 960 960\">\n",
              "    <path d=\"M120-120v-720h720v720H120Zm60-500h600v-160H180v160Zm220 220h160v-160H400v160Zm0 220h160v-160H400v160ZM180-400h160v-160H180v160Zm440 0h160v-160H620v160ZM180-180h160v-160H180v160Zm440 0h160v-160H620v160Z\"/>\n",
              "  </svg>\n",
              "    </button>\n",
              "\n",
              "  <style>\n",
              "    .colab-df-container {\n",
              "      display:flex;\n",
              "      gap: 12px;\n",
              "    }\n",
              "\n",
              "    .colab-df-convert {\n",
              "      background-color: #E8F0FE;\n",
              "      border: none;\n",
              "      border-radius: 50%;\n",
              "      cursor: pointer;\n",
              "      display: none;\n",
              "      fill: #1967D2;\n",
              "      height: 32px;\n",
              "      padding: 0 0 0 0;\n",
              "      width: 32px;\n",
              "    }\n",
              "\n",
              "    .colab-df-convert:hover {\n",
              "      background-color: #E2EBFA;\n",
              "      box-shadow: 0px 1px 2px rgba(60, 64, 67, 0.3), 0px 1px 3px 1px rgba(60, 64, 67, 0.15);\n",
              "      fill: #174EA6;\n",
              "    }\n",
              "\n",
              "    .colab-df-buttons div {\n",
              "      margin-bottom: 4px;\n",
              "    }\n",
              "\n",
              "    [theme=dark] .colab-df-convert {\n",
              "      background-color: #3B4455;\n",
              "      fill: #D2E3FC;\n",
              "    }\n",
              "\n",
              "    [theme=dark] .colab-df-convert:hover {\n",
              "      background-color: #434B5C;\n",
              "      box-shadow: 0px 1px 3px 1px rgba(0, 0, 0, 0.15);\n",
              "      filter: drop-shadow(0px 1px 2px rgba(0, 0, 0, 0.3));\n",
              "      fill: #FFFFFF;\n",
              "    }\n",
              "  </style>\n",
              "\n",
              "    <script>\n",
              "      const buttonEl =\n",
              "        document.querySelector('#df-1c5566d6-e91c-415d-9132-d3e7bda8b5b5 button.colab-df-convert');\n",
              "      buttonEl.style.display =\n",
              "        google.colab.kernel.accessAllowed ? 'block' : 'none';\n",
              "\n",
              "      async function convertToInteractive(key) {\n",
              "        const element = document.querySelector('#df-1c5566d6-e91c-415d-9132-d3e7bda8b5b5');\n",
              "        const dataTable =\n",
              "          await google.colab.kernel.invokeFunction('convertToInteractive',\n",
              "                                                    [key], {});\n",
              "        if (!dataTable) return;\n",
              "\n",
              "        const docLinkHtml = 'Like what you see? Visit the ' +\n",
              "          '<a target=\"_blank\" href=https://colab.research.google.com/notebooks/data_table.ipynb>data table notebook</a>'\n",
              "          + ' to learn more about interactive tables.';\n",
              "        element.innerHTML = '';\n",
              "        dataTable['output_type'] = 'display_data';\n",
              "        await google.colab.output.renderOutput(dataTable, element);\n",
              "        const docLink = document.createElement('div');\n",
              "        docLink.innerHTML = docLinkHtml;\n",
              "        element.appendChild(docLink);\n",
              "      }\n",
              "    </script>\n",
              "  </div>\n",
              "\n",
              "\n",
              "<div id=\"df-6c2c28a1-6949-41ce-8fb5-50a650fedf05\">\n",
              "  <button class=\"colab-df-quickchart\" onclick=\"quickchart('df-6c2c28a1-6949-41ce-8fb5-50a650fedf05')\"\n",
              "            title=\"Suggest charts\"\n",
              "            style=\"display:none;\">\n",
              "\n",
              "<svg xmlns=\"http://www.w3.org/2000/svg\" height=\"24px\"viewBox=\"0 0 24 24\"\n",
              "     width=\"24px\">\n",
              "    <g>\n",
              "        <path d=\"M19 3H5c-1.1 0-2 .9-2 2v14c0 1.1.9 2 2 2h14c1.1 0 2-.9 2-2V5c0-1.1-.9-2-2-2zM9 17H7v-7h2v7zm4 0h-2V7h2v10zm4 0h-2v-4h2v4z\"/>\n",
              "    </g>\n",
              "</svg>\n",
              "  </button>\n",
              "\n",
              "<style>\n",
              "  .colab-df-quickchart {\n",
              "      --bg-color: #E8F0FE;\n",
              "      --fill-color: #1967D2;\n",
              "      --hover-bg-color: #E2EBFA;\n",
              "      --hover-fill-color: #174EA6;\n",
              "      --disabled-fill-color: #AAA;\n",
              "      --disabled-bg-color: #DDD;\n",
              "  }\n",
              "\n",
              "  [theme=dark] .colab-df-quickchart {\n",
              "      --bg-color: #3B4455;\n",
              "      --fill-color: #D2E3FC;\n",
              "      --hover-bg-color: #434B5C;\n",
              "      --hover-fill-color: #FFFFFF;\n",
              "      --disabled-bg-color: #3B4455;\n",
              "      --disabled-fill-color: #666;\n",
              "  }\n",
              "\n",
              "  .colab-df-quickchart {\n",
              "    background-color: var(--bg-color);\n",
              "    border: none;\n",
              "    border-radius: 50%;\n",
              "    cursor: pointer;\n",
              "    display: none;\n",
              "    fill: var(--fill-color);\n",
              "    height: 32px;\n",
              "    padding: 0;\n",
              "    width: 32px;\n",
              "  }\n",
              "\n",
              "  .colab-df-quickchart:hover {\n",
              "    background-color: var(--hover-bg-color);\n",
              "    box-shadow: 0 1px 2px rgba(60, 64, 67, 0.3), 0 1px 3px 1px rgba(60, 64, 67, 0.15);\n",
              "    fill: var(--button-hover-fill-color);\n",
              "  }\n",
              "\n",
              "  .colab-df-quickchart-complete:disabled,\n",
              "  .colab-df-quickchart-complete:disabled:hover {\n",
              "    background-color: var(--disabled-bg-color);\n",
              "    fill: var(--disabled-fill-color);\n",
              "    box-shadow: none;\n",
              "  }\n",
              "\n",
              "  .colab-df-spinner {\n",
              "    border: 2px solid var(--fill-color);\n",
              "    border-color: transparent;\n",
              "    border-bottom-color: var(--fill-color);\n",
              "    animation:\n",
              "      spin 1s steps(1) infinite;\n",
              "  }\n",
              "\n",
              "  @keyframes spin {\n",
              "    0% {\n",
              "      border-color: transparent;\n",
              "      border-bottom-color: var(--fill-color);\n",
              "      border-left-color: var(--fill-color);\n",
              "    }\n",
              "    20% {\n",
              "      border-color: transparent;\n",
              "      border-left-color: var(--fill-color);\n",
              "      border-top-color: var(--fill-color);\n",
              "    }\n",
              "    30% {\n",
              "      border-color: transparent;\n",
              "      border-left-color: var(--fill-color);\n",
              "      border-top-color: var(--fill-color);\n",
              "      border-right-color: var(--fill-color);\n",
              "    }\n",
              "    40% {\n",
              "      border-color: transparent;\n",
              "      border-right-color: var(--fill-color);\n",
              "      border-top-color: var(--fill-color);\n",
              "    }\n",
              "    60% {\n",
              "      border-color: transparent;\n",
              "      border-right-color: var(--fill-color);\n",
              "    }\n",
              "    80% {\n",
              "      border-color: transparent;\n",
              "      border-right-color: var(--fill-color);\n",
              "      border-bottom-color: var(--fill-color);\n",
              "    }\n",
              "    90% {\n",
              "      border-color: transparent;\n",
              "      border-bottom-color: var(--fill-color);\n",
              "    }\n",
              "  }\n",
              "</style>\n",
              "\n",
              "  <script>\n",
              "    async function quickchart(key) {\n",
              "      const quickchartButtonEl =\n",
              "        document.querySelector('#' + key + ' button');\n",
              "      quickchartButtonEl.disabled = true;  // To prevent multiple clicks.\n",
              "      quickchartButtonEl.classList.add('colab-df-spinner');\n",
              "      try {\n",
              "        const charts = await google.colab.kernel.invokeFunction(\n",
              "            'suggestCharts', [key], {});\n",
              "      } catch (error) {\n",
              "        console.error('Error during call to suggestCharts:', error);\n",
              "      }\n",
              "      quickchartButtonEl.classList.remove('colab-df-spinner');\n",
              "      quickchartButtonEl.classList.add('colab-df-quickchart-complete');\n",
              "    }\n",
              "    (() => {\n",
              "      let quickchartButtonEl =\n",
              "        document.querySelector('#df-6c2c28a1-6949-41ce-8fb5-50a650fedf05 button');\n",
              "      quickchartButtonEl.style.display =\n",
              "        google.colab.kernel.accessAllowed ? 'block' : 'none';\n",
              "    })();\n",
              "  </script>\n",
              "</div>\n",
              "    </div>\n",
              "  </div>\n"
            ]
          },
          "metadata": {},
          "execution_count": 22
        }
      ],
      "source": [
        "df_new.head()"
      ]
    },
    {
      "cell_type": "code",
      "execution_count": 24,
      "metadata": {
        "colab": {
          "base_uri": "https://localhost:8080/"
        },
        "id": "mDa2wUiPwkgp",
        "outputId": "6ad32010-d96d-4333-8e38-aed746619a96"
      },
      "outputs": [
        {
          "output_type": "execute_result",
          "data": {
            "text/plain": [
              "['jelek',\n",
              " 'filmnya',\n",
              " 'repeated',\n",
              " 'apalagi',\n",
              " 'si',\n",
              " 'ernest',\n",
              " 'gak',\n",
              " 'mutu',\n",
              " 'bgt',\n",
              " 'actingnya',\n",
              " 'repeated',\n",
              " 'film',\n",
              " 'sampah']"
            ]
          },
          "metadata": {},
          "execution_count": 24
        }
      ],
      "source": [
        "df_new.iloc[0].tokens"
      ]
    },
    {
      "cell_type": "code",
      "execution_count": 25,
      "metadata": {
        "colab": {
          "base_uri": "https://localhost:8080/"
        },
        "id": "z1ock8LEwKeL",
        "outputId": "1499ff64-d4f7-4b2e-9435-7ccc2fe0faf7"
      },
      "outputs": [
        {
          "output_type": "execute_result",
          "data": {
            "text/plain": [
              "['jelek',\n",
              " 'filmnya',\n",
              " 'repeated',\n",
              " 'apalagi',\n",
              " 'sih',\n",
              " 'ernest',\n",
              " 'tidak',\n",
              " 'mutu',\n",
              " 'banget',\n",
              " 'actingnya',\n",
              " 'repeated',\n",
              " 'film',\n",
              " 'sampah']"
            ]
          },
          "metadata": {},
          "execution_count": 25
        }
      ],
      "source": [
        "df_new.iloc[0].tokens_perbaikan"
      ]
    },
    {
      "cell_type": "markdown",
      "metadata": {
        "id": "oZAFzaeMGppU"
      },
      "source": [
        "## Stopword - Menggunakan Modul NLTK"
      ]
    },
    {
      "cell_type": "code",
      "execution_count": 26,
      "metadata": {
        "colab": {
          "base_uri": "https://localhost:8080/"
        },
        "id": "I5YUrQfjGtD0",
        "outputId": "f8176fa2-d814-4c4e-911e-94d4a8e0c8bd"
      },
      "outputs": [
        {
          "output_type": "stream",
          "name": "stderr",
          "text": [
            "[nltk_data] Downloading package stopwords to /root/nltk_data...\n",
            "[nltk_data]   Unzipping corpora/stopwords.zip.\n"
          ]
        },
        {
          "output_type": "execute_result",
          "data": {
            "text/plain": [
              "True"
            ]
          },
          "metadata": {},
          "execution_count": 26
        }
      ],
      "source": [
        "from nltk.corpus import stopwords\n",
        "nltk.download(\"stopwords\")"
      ]
    },
    {
      "cell_type": "code",
      "execution_count": 27,
      "metadata": {
        "colab": {
          "base_uri": "https://localhost:8080/",
          "height": 822
        },
        "id": "AlpimHRsGs_v",
        "outputId": "101ba8bb-e5f9-4e35-d381-cd0207c453d8"
      },
      "outputs": [
        {
          "output_type": "execute_result",
          "data": {
            "text/plain": [
              "      Id                                         Text Tweet  \\\n",
              "0      1  Jelek filmnya... apalagi si ernest gak mutu bg...   \n",
              "1      2  Film king Arthur ini film paling jelek dari se...   \n",
              "2      3  @beexkuanlin Sepanjang film gwa berkata kasar ...   \n",
              "3      4  Ane ga suka fast and furious..menurutku kok je...   \n",
              "4      5  @baekhyun36 kan gua ga tau film nya, lu bilang...   \n",
              "..   ...                                                ...   \n",
              "195  196  Fargo juga adaptasi dari film yang cukup berha...   \n",
              "196  197  637.000 waw ini sangat keren flm horor dng jum...   \n",
              "197  198  @filmziarah film yang tenang dan menghanyutkan...   \n",
              "198  199  Film yg amat menarik. Kisah cinta & kesetiaan ...   \n",
              "199  200  Nntn @filmziarah , film bagus, ada kali 5 meni...   \n",
              "\n",
              "                                                step01  \\\n",
              "0    jelek filmnya repeated apalagi si ernest gak m...   \n",
              "1    film king arthur ini film paling jelek dari se...   \n",
              "2    user sepanjang film gwa berkata kasar terus pa...   \n",
              "3    ane ga suka fast and furious repeated menurutk...   \n",
              "4    user kan gua ga tau film nya lu bilang perang ...   \n",
              "..                                                 ...   \n",
              "195  fargo juga adaptasi dari film yang cukup berha...   \n",
              "196  number waw ini sangat keren flm horor dng juml...   \n",
              "197  user film yang tenang dan menghanyutkan salut ...   \n",
              "198  film yg amat menarik kisah cinta kesetiaan yg ...   \n",
              "199  nntn user film bagus ada kali number menit pen...   \n",
              "\n",
              "                                                tokens  \\\n",
              "0    [jelek, filmnya, repeated, apalagi, si, ernest...   \n",
              "1    [film, king, arthur, ini, film, paling, jelek,...   \n",
              "2    [user, sepanjang, film, gwa, berkata, kasar, t...   \n",
              "3    [ane, ga, suka, fast, and, furious, repeated, ...   \n",
              "4    [user, kan, gua, ga, tau, film, nya, lu, bilan...   \n",
              "..                                                 ...   \n",
              "195  [fargo, juga, adaptasi, dari, film, yang, cuku...   \n",
              "196  [number, waw, ini, sangat, keren, flm, horor, ...   \n",
              "197  [user, film, yang, tenang, dan, menghanyutkan,...   \n",
              "198  [film, yg, amat, menarik, kisah, cinta, keseti...   \n",
              "199  [nntn, user, film, bagus, ada, kali, number, m...   \n",
              "\n",
              "                                      tokens_perbaikan  \\\n",
              "0    [jelek, filmnya, repeated, apalagi, sih, ernes...   \n",
              "1    [film, king, arthur, ini, film, paling, jelek,...   \n",
              "2    [user, sepanjang, film, gwa, berkata, kasar, t...   \n",
              "3    [saya, tidak, suka, fast, dan, furious, repeat...   \n",
              "4    [user, kan, saya, tidak, tau, film, nya, kamu,...   \n",
              "..                                                 ...   \n",
              "195  [fargo, juga, adaptasi, dari, film, yang, cuku...   \n",
              "196  [number, waw, ini, sangat, keren, flm, horor, ...   \n",
              "197  [user, film, yang, tenang, dan, menghanyutkan,...   \n",
              "198  [film, yang, amat, menarik, kisah, cinta, kese...   \n",
              "199  [nntn, user, film, bagus, ada, kali, number, m...   \n",
              "\n",
              "                                          Stop_removal  \n",
              "0    [jelek, filmnya, repeated, sih, ernest, mutu, ...  \n",
              "1    [film, king, arthur, film, jelek, cerita, king...  \n",
              "2                   [user, film, gwa, kasar, bapaknya]  \n",
              "3    [suka, fast, furious, repeated, menurutku, jel...  \n",
              "4    [user, tau, film, nya, bilang, perang, peranga...  \n",
              "..                                                 ...  \n",
              "195  [fargo, adaptasi, film, berhasil, season, numb...  \n",
              "196  [number, waw, keren, flm, horor, penonton, seg...  \n",
              "197  [user, film, tenang, menghanyutkan, bangga, mb...  \n",
              "198  [film, menarik, kisah, cinta, kesetiaan, disaj...  \n",
              "199  [nntn, user, film, bagus, kali, number, menit,...  \n",
              "\n",
              "[200 rows x 6 columns]"
            ],
            "text/html": [
              "\n",
              "  <div id=\"df-4de25e18-79e4-45b9-9900-0d28e06fd6c3\" class=\"colab-df-container\">\n",
              "    <div>\n",
              "<style scoped>\n",
              "    .dataframe tbody tr th:only-of-type {\n",
              "        vertical-align: middle;\n",
              "    }\n",
              "\n",
              "    .dataframe tbody tr th {\n",
              "        vertical-align: top;\n",
              "    }\n",
              "\n",
              "    .dataframe thead th {\n",
              "        text-align: right;\n",
              "    }\n",
              "</style>\n",
              "<table border=\"1\" class=\"dataframe\">\n",
              "  <thead>\n",
              "    <tr style=\"text-align: right;\">\n",
              "      <th></th>\n",
              "      <th>Id</th>\n",
              "      <th>Text Tweet</th>\n",
              "      <th>step01</th>\n",
              "      <th>tokens</th>\n",
              "      <th>tokens_perbaikan</th>\n",
              "      <th>Stop_removal</th>\n",
              "    </tr>\n",
              "  </thead>\n",
              "  <tbody>\n",
              "    <tr>\n",
              "      <th>0</th>\n",
              "      <td>1</td>\n",
              "      <td>Jelek filmnya... apalagi si ernest gak mutu bg...</td>\n",
              "      <td>jelek filmnya repeated apalagi si ernest gak m...</td>\n",
              "      <td>[jelek, filmnya, repeated, apalagi, si, ernest...</td>\n",
              "      <td>[jelek, filmnya, repeated, apalagi, sih, ernes...</td>\n",
              "      <td>[jelek, filmnya, repeated, sih, ernest, mutu, ...</td>\n",
              "    </tr>\n",
              "    <tr>\n",
              "      <th>1</th>\n",
              "      <td>2</td>\n",
              "      <td>Film king Arthur ini film paling jelek dari se...</td>\n",
              "      <td>film king arthur ini film paling jelek dari se...</td>\n",
              "      <td>[film, king, arthur, ini, film, paling, jelek,...</td>\n",
              "      <td>[film, king, arthur, ini, film, paling, jelek,...</td>\n",
              "      <td>[film, king, arthur, film, jelek, cerita, king...</td>\n",
              "    </tr>\n",
              "    <tr>\n",
              "      <th>2</th>\n",
              "      <td>3</td>\n",
              "      <td>@beexkuanlin Sepanjang film gwa berkata kasar ...</td>\n",
              "      <td>user sepanjang film gwa berkata kasar terus pa...</td>\n",
              "      <td>[user, sepanjang, film, gwa, berkata, kasar, t...</td>\n",
              "      <td>[user, sepanjang, film, gwa, berkata, kasar, t...</td>\n",
              "      <td>[user, film, gwa, kasar, bapaknya]</td>\n",
              "    </tr>\n",
              "    <tr>\n",
              "      <th>3</th>\n",
              "      <td>4</td>\n",
              "      <td>Ane ga suka fast and furious..menurutku kok je...</td>\n",
              "      <td>ane ga suka fast and furious repeated menurutk...</td>\n",
              "      <td>[ane, ga, suka, fast, and, furious, repeated, ...</td>\n",
              "      <td>[saya, tidak, suka, fast, dan, furious, repeat...</td>\n",
              "      <td>[suka, fast, furious, repeated, menurutku, jel...</td>\n",
              "    </tr>\n",
              "    <tr>\n",
              "      <th>4</th>\n",
              "      <td>5</td>\n",
              "      <td>@baekhyun36 kan gua ga tau film nya, lu bilang...</td>\n",
              "      <td>user kan gua ga tau film nya lu bilang perang ...</td>\n",
              "      <td>[user, kan, gua, ga, tau, film, nya, lu, bilan...</td>\n",
              "      <td>[user, kan, saya, tidak, tau, film, nya, kamu,...</td>\n",
              "      <td>[user, tau, film, nya, bilang, perang, peranga...</td>\n",
              "    </tr>\n",
              "    <tr>\n",
              "      <th>...</th>\n",
              "      <td>...</td>\n",
              "      <td>...</td>\n",
              "      <td>...</td>\n",
              "      <td>...</td>\n",
              "      <td>...</td>\n",
              "      <td>...</td>\n",
              "    </tr>\n",
              "    <tr>\n",
              "      <th>195</th>\n",
              "      <td>196</td>\n",
              "      <td>Fargo juga adaptasi dari film yang cukup berha...</td>\n",
              "      <td>fargo juga adaptasi dari film yang cukup berha...</td>\n",
              "      <td>[fargo, juga, adaptasi, dari, film, yang, cuku...</td>\n",
              "      <td>[fargo, juga, adaptasi, dari, film, yang, cuku...</td>\n",
              "      <td>[fargo, adaptasi, film, berhasil, season, numb...</td>\n",
              "    </tr>\n",
              "    <tr>\n",
              "      <th>196</th>\n",
              "      <td>197</td>\n",
              "      <td>637.000 waw ini sangat keren flm horor dng jum...</td>\n",
              "      <td>number waw ini sangat keren flm horor dng juml...</td>\n",
              "      <td>[number, waw, ini, sangat, keren, flm, horor, ...</td>\n",
              "      <td>[number, waw, ini, sangat, keren, flm, horor, ...</td>\n",
              "      <td>[number, waw, keren, flm, horor, penonton, seg...</td>\n",
              "    </tr>\n",
              "    <tr>\n",
              "      <th>197</th>\n",
              "      <td>198</td>\n",
              "      <td>@filmziarah film yang tenang dan menghanyutkan...</td>\n",
              "      <td>user film yang tenang dan menghanyutkan salut ...</td>\n",
              "      <td>[user, film, yang, tenang, dan, menghanyutkan,...</td>\n",
              "      <td>[user, film, yang, tenang, dan, menghanyutkan,...</td>\n",
              "      <td>[user, film, tenang, menghanyutkan, bangga, mb...</td>\n",
              "    </tr>\n",
              "    <tr>\n",
              "      <th>198</th>\n",
              "      <td>199</td>\n",
              "      <td>Film yg amat menarik. Kisah cinta &amp; kesetiaan ...</td>\n",
              "      <td>film yg amat menarik kisah cinta kesetiaan yg ...</td>\n",
              "      <td>[film, yg, amat, menarik, kisah, cinta, keseti...</td>\n",
              "      <td>[film, yang, amat, menarik, kisah, cinta, kese...</td>\n",
              "      <td>[film, menarik, kisah, cinta, kesetiaan, disaj...</td>\n",
              "    </tr>\n",
              "    <tr>\n",
              "      <th>199</th>\n",
              "      <td>200</td>\n",
              "      <td>Nntn @filmziarah , film bagus, ada kali 5 meni...</td>\n",
              "      <td>nntn user film bagus ada kali number menit pen...</td>\n",
              "      <td>[nntn, user, film, bagus, ada, kali, number, m...</td>\n",
              "      <td>[nntn, user, film, bagus, ada, kali, number, m...</td>\n",
              "      <td>[nntn, user, film, bagus, kali, number, menit,...</td>\n",
              "    </tr>\n",
              "  </tbody>\n",
              "</table>\n",
              "<p>200 rows × 6 columns</p>\n",
              "</div>\n",
              "    <div class=\"colab-df-buttons\">\n",
              "\n",
              "  <div class=\"colab-df-container\">\n",
              "    <button class=\"colab-df-convert\" onclick=\"convertToInteractive('df-4de25e18-79e4-45b9-9900-0d28e06fd6c3')\"\n",
              "            title=\"Convert this dataframe to an interactive table.\"\n",
              "            style=\"display:none;\">\n",
              "\n",
              "  <svg xmlns=\"http://www.w3.org/2000/svg\" height=\"24px\" viewBox=\"0 -960 960 960\">\n",
              "    <path d=\"M120-120v-720h720v720H120Zm60-500h600v-160H180v160Zm220 220h160v-160H400v160Zm0 220h160v-160H400v160ZM180-400h160v-160H180v160Zm440 0h160v-160H620v160ZM180-180h160v-160H180v160Zm440 0h160v-160H620v160Z\"/>\n",
              "  </svg>\n",
              "    </button>\n",
              "\n",
              "  <style>\n",
              "    .colab-df-container {\n",
              "      display:flex;\n",
              "      gap: 12px;\n",
              "    }\n",
              "\n",
              "    .colab-df-convert {\n",
              "      background-color: #E8F0FE;\n",
              "      border: none;\n",
              "      border-radius: 50%;\n",
              "      cursor: pointer;\n",
              "      display: none;\n",
              "      fill: #1967D2;\n",
              "      height: 32px;\n",
              "      padding: 0 0 0 0;\n",
              "      width: 32px;\n",
              "    }\n",
              "\n",
              "    .colab-df-convert:hover {\n",
              "      background-color: #E2EBFA;\n",
              "      box-shadow: 0px 1px 2px rgba(60, 64, 67, 0.3), 0px 1px 3px 1px rgba(60, 64, 67, 0.15);\n",
              "      fill: #174EA6;\n",
              "    }\n",
              "\n",
              "    .colab-df-buttons div {\n",
              "      margin-bottom: 4px;\n",
              "    }\n",
              "\n",
              "    [theme=dark] .colab-df-convert {\n",
              "      background-color: #3B4455;\n",
              "      fill: #D2E3FC;\n",
              "    }\n",
              "\n",
              "    [theme=dark] .colab-df-convert:hover {\n",
              "      background-color: #434B5C;\n",
              "      box-shadow: 0px 1px 3px 1px rgba(0, 0, 0, 0.15);\n",
              "      filter: drop-shadow(0px 1px 2px rgba(0, 0, 0, 0.3));\n",
              "      fill: #FFFFFF;\n",
              "    }\n",
              "  </style>\n",
              "\n",
              "    <script>\n",
              "      const buttonEl =\n",
              "        document.querySelector('#df-4de25e18-79e4-45b9-9900-0d28e06fd6c3 button.colab-df-convert');\n",
              "      buttonEl.style.display =\n",
              "        google.colab.kernel.accessAllowed ? 'block' : 'none';\n",
              "\n",
              "      async function convertToInteractive(key) {\n",
              "        const element = document.querySelector('#df-4de25e18-79e4-45b9-9900-0d28e06fd6c3');\n",
              "        const dataTable =\n",
              "          await google.colab.kernel.invokeFunction('convertToInteractive',\n",
              "                                                    [key], {});\n",
              "        if (!dataTable) return;\n",
              "\n",
              "        const docLinkHtml = 'Like what you see? Visit the ' +\n",
              "          '<a target=\"_blank\" href=https://colab.research.google.com/notebooks/data_table.ipynb>data table notebook</a>'\n",
              "          + ' to learn more about interactive tables.';\n",
              "        element.innerHTML = '';\n",
              "        dataTable['output_type'] = 'display_data';\n",
              "        await google.colab.output.renderOutput(dataTable, element);\n",
              "        const docLink = document.createElement('div');\n",
              "        docLink.innerHTML = docLinkHtml;\n",
              "        element.appendChild(docLink);\n",
              "      }\n",
              "    </script>\n",
              "  </div>\n",
              "\n",
              "\n",
              "<div id=\"df-9d6ec647-6bff-447b-a37d-b96a6a5054ed\">\n",
              "  <button class=\"colab-df-quickchart\" onclick=\"quickchart('df-9d6ec647-6bff-447b-a37d-b96a6a5054ed')\"\n",
              "            title=\"Suggest charts\"\n",
              "            style=\"display:none;\">\n",
              "\n",
              "<svg xmlns=\"http://www.w3.org/2000/svg\" height=\"24px\"viewBox=\"0 0 24 24\"\n",
              "     width=\"24px\">\n",
              "    <g>\n",
              "        <path d=\"M19 3H5c-1.1 0-2 .9-2 2v14c0 1.1.9 2 2 2h14c1.1 0 2-.9 2-2V5c0-1.1-.9-2-2-2zM9 17H7v-7h2v7zm4 0h-2V7h2v10zm4 0h-2v-4h2v4z\"/>\n",
              "    </g>\n",
              "</svg>\n",
              "  </button>\n",
              "\n",
              "<style>\n",
              "  .colab-df-quickchart {\n",
              "      --bg-color: #E8F0FE;\n",
              "      --fill-color: #1967D2;\n",
              "      --hover-bg-color: #E2EBFA;\n",
              "      --hover-fill-color: #174EA6;\n",
              "      --disabled-fill-color: #AAA;\n",
              "      --disabled-bg-color: #DDD;\n",
              "  }\n",
              "\n",
              "  [theme=dark] .colab-df-quickchart {\n",
              "      --bg-color: #3B4455;\n",
              "      --fill-color: #D2E3FC;\n",
              "      --hover-bg-color: #434B5C;\n",
              "      --hover-fill-color: #FFFFFF;\n",
              "      --disabled-bg-color: #3B4455;\n",
              "      --disabled-fill-color: #666;\n",
              "  }\n",
              "\n",
              "  .colab-df-quickchart {\n",
              "    background-color: var(--bg-color);\n",
              "    border: none;\n",
              "    border-radius: 50%;\n",
              "    cursor: pointer;\n",
              "    display: none;\n",
              "    fill: var(--fill-color);\n",
              "    height: 32px;\n",
              "    padding: 0;\n",
              "    width: 32px;\n",
              "  }\n",
              "\n",
              "  .colab-df-quickchart:hover {\n",
              "    background-color: var(--hover-bg-color);\n",
              "    box-shadow: 0 1px 2px rgba(60, 64, 67, 0.3), 0 1px 3px 1px rgba(60, 64, 67, 0.15);\n",
              "    fill: var(--button-hover-fill-color);\n",
              "  }\n",
              "\n",
              "  .colab-df-quickchart-complete:disabled,\n",
              "  .colab-df-quickchart-complete:disabled:hover {\n",
              "    background-color: var(--disabled-bg-color);\n",
              "    fill: var(--disabled-fill-color);\n",
              "    box-shadow: none;\n",
              "  }\n",
              "\n",
              "  .colab-df-spinner {\n",
              "    border: 2px solid var(--fill-color);\n",
              "    border-color: transparent;\n",
              "    border-bottom-color: var(--fill-color);\n",
              "    animation:\n",
              "      spin 1s steps(1) infinite;\n",
              "  }\n",
              "\n",
              "  @keyframes spin {\n",
              "    0% {\n",
              "      border-color: transparent;\n",
              "      border-bottom-color: var(--fill-color);\n",
              "      border-left-color: var(--fill-color);\n",
              "    }\n",
              "    20% {\n",
              "      border-color: transparent;\n",
              "      border-left-color: var(--fill-color);\n",
              "      border-top-color: var(--fill-color);\n",
              "    }\n",
              "    30% {\n",
              "      border-color: transparent;\n",
              "      border-left-color: var(--fill-color);\n",
              "      border-top-color: var(--fill-color);\n",
              "      border-right-color: var(--fill-color);\n",
              "    }\n",
              "    40% {\n",
              "      border-color: transparent;\n",
              "      border-right-color: var(--fill-color);\n",
              "      border-top-color: var(--fill-color);\n",
              "    }\n",
              "    60% {\n",
              "      border-color: transparent;\n",
              "      border-right-color: var(--fill-color);\n",
              "    }\n",
              "    80% {\n",
              "      border-color: transparent;\n",
              "      border-right-color: var(--fill-color);\n",
              "      border-bottom-color: var(--fill-color);\n",
              "    }\n",
              "    90% {\n",
              "      border-color: transparent;\n",
              "      border-bottom-color: var(--fill-color);\n",
              "    }\n",
              "  }\n",
              "</style>\n",
              "\n",
              "  <script>\n",
              "    async function quickchart(key) {\n",
              "      const quickchartButtonEl =\n",
              "        document.querySelector('#' + key + ' button');\n",
              "      quickchartButtonEl.disabled = true;  // To prevent multiple clicks.\n",
              "      quickchartButtonEl.classList.add('colab-df-spinner');\n",
              "      try {\n",
              "        const charts = await google.colab.kernel.invokeFunction(\n",
              "            'suggestCharts', [key], {});\n",
              "      } catch (error) {\n",
              "        console.error('Error during call to suggestCharts:', error);\n",
              "      }\n",
              "      quickchartButtonEl.classList.remove('colab-df-spinner');\n",
              "      quickchartButtonEl.classList.add('colab-df-quickchart-complete');\n",
              "    }\n",
              "    (() => {\n",
              "      let quickchartButtonEl =\n",
              "        document.querySelector('#df-9d6ec647-6bff-447b-a37d-b96a6a5054ed button');\n",
              "      quickchartButtonEl.style.display =\n",
              "        google.colab.kernel.accessAllowed ? 'block' : 'none';\n",
              "    })();\n",
              "  </script>\n",
              "</div>\n",
              "    </div>\n",
              "  </div>\n"
            ]
          },
          "metadata": {},
          "execution_count": 27
        }
      ],
      "source": [
        "stopword = nltk.corpus.stopwords.words('indonesian')\n",
        "\n",
        "def remove_stopwords(text):\n",
        "  text = [word for word in text if word not in stopword]\n",
        "  return text\n",
        "\n",
        "df_new['Stop_removal'] = df_new['tokens_perbaikan'].apply(lambda x: remove_stopwords(x))\n",
        "df_new"
      ]
    },
    {
      "cell_type": "code",
      "execution_count": 28,
      "metadata": {
        "colab": {
          "base_uri": "https://localhost:8080/"
        },
        "id": "gOSOFPEBwx5v",
        "outputId": "9f64a91e-e7d7-4439-d9fb-55f654237da0"
      },
      "outputs": [
        {
          "output_type": "execute_result",
          "data": {
            "text/plain": [
              "['jelek',\n",
              " 'filmnya',\n",
              " 'repeated',\n",
              " 'apalagi',\n",
              " 'sih',\n",
              " 'ernest',\n",
              " 'tidak',\n",
              " 'mutu',\n",
              " 'banget',\n",
              " 'actingnya',\n",
              " 'repeated',\n",
              " 'film',\n",
              " 'sampah']"
            ]
          },
          "metadata": {},
          "execution_count": 28
        }
      ],
      "source": [
        "df_new.iloc[0].tokens_perbaikan"
      ]
    },
    {
      "cell_type": "code",
      "execution_count": 29,
      "metadata": {
        "colab": {
          "base_uri": "https://localhost:8080/"
        },
        "id": "w9Zqsdw8w0YU",
        "outputId": "de0f0442-c541-47f0-ff76-9a8b36907407"
      },
      "outputs": [
        {
          "output_type": "execute_result",
          "data": {
            "text/plain": [
              "['jelek',\n",
              " 'filmnya',\n",
              " 'repeated',\n",
              " 'sih',\n",
              " 'ernest',\n",
              " 'mutu',\n",
              " 'banget',\n",
              " 'actingnya',\n",
              " 'repeated',\n",
              " 'film',\n",
              " 'sampah']"
            ]
          },
          "metadata": {},
          "execution_count": 29
        }
      ],
      "source": [
        "df_new.iloc[0].Stop_removal"
      ]
    },
    {
      "cell_type": "code",
      "execution_count": 30,
      "metadata": {
        "id": "GscKs3PpJLcc"
      },
      "outputs": [],
      "source": [
        "i=0\n",
        "final_string_tokens = []\n",
        "for text in df_new['Stop_removal'].values:\n",
        "    EachReviewText = \"\"\n",
        "    EachReviewText = ' '.join(text)\n",
        "    final_string_tokens.append(EachReviewText)"
      ]
    },
    {
      "cell_type": "code",
      "execution_count": 31,
      "metadata": {
        "id": "o4-6_3weJkEj"
      },
      "outputs": [],
      "source": [
        "df_new[\"step02\"] = final_string_tokens"
      ]
    },
    {
      "cell_type": "code",
      "execution_count": 32,
      "metadata": {
        "colab": {
          "base_uri": "https://localhost:8080/",
          "height": 501
        },
        "id": "Ty8ykeoaJpO7",
        "outputId": "161ad91b-746c-4f3b-bafd-a93f17292bee"
      },
      "outputs": [
        {
          "output_type": "execute_result",
          "data": {
            "text/plain": [
              "   Id                                         Text Tweet  \\\n",
              "0   1  Jelek filmnya... apalagi si ernest gak mutu bg...   \n",
              "1   2  Film king Arthur ini film paling jelek dari se...   \n",
              "2   3  @beexkuanlin Sepanjang film gwa berkata kasar ...   \n",
              "3   4  Ane ga suka fast and furious..menurutku kok je...   \n",
              "4   5  @baekhyun36 kan gua ga tau film nya, lu bilang...   \n",
              "\n",
              "                                              step01  \\\n",
              "0  jelek filmnya repeated apalagi si ernest gak m...   \n",
              "1  film king arthur ini film paling jelek dari se...   \n",
              "2  user sepanjang film gwa berkata kasar terus pa...   \n",
              "3  ane ga suka fast and furious repeated menurutk...   \n",
              "4  user kan gua ga tau film nya lu bilang perang ...   \n",
              "\n",
              "                                              tokens  \\\n",
              "0  [jelek, filmnya, repeated, apalagi, si, ernest...   \n",
              "1  [film, king, arthur, ini, film, paling, jelek,...   \n",
              "2  [user, sepanjang, film, gwa, berkata, kasar, t...   \n",
              "3  [ane, ga, suka, fast, and, furious, repeated, ...   \n",
              "4  [user, kan, gua, ga, tau, film, nya, lu, bilan...   \n",
              "\n",
              "                                    tokens_perbaikan  \\\n",
              "0  [jelek, filmnya, repeated, apalagi, sih, ernes...   \n",
              "1  [film, king, arthur, ini, film, paling, jelek,...   \n",
              "2  [user, sepanjang, film, gwa, berkata, kasar, t...   \n",
              "3  [saya, tidak, suka, fast, dan, furious, repeat...   \n",
              "4  [user, kan, saya, tidak, tau, film, nya, kamu,...   \n",
              "\n",
              "                                        Stop_removal  \\\n",
              "0  [jelek, filmnya, repeated, sih, ernest, mutu, ...   \n",
              "1  [film, king, arthur, film, jelek, cerita, king...   \n",
              "2                 [user, film, gwa, kasar, bapaknya]   \n",
              "3  [suka, fast, furious, repeated, menurutku, jel...   \n",
              "4  [user, tau, film, nya, bilang, perang, peranga...   \n",
              "\n",
              "                                              step02  \n",
              "0  jelek filmnya repeated sih ernest mutu banget ...  \n",
              "1     film king arthur film jelek cerita king arthur  \n",
              "2                       user film gwa kasar bapaknya  \n",
              "3  suka fast furious repeated menurutku jelek iya...  \n",
              "4  user tau film nya bilang perang perangan peran...  "
            ],
            "text/html": [
              "\n",
              "  <div id=\"df-0ab936c7-cb23-4c5f-a8cb-759c935c6c4d\" class=\"colab-df-container\">\n",
              "    <div>\n",
              "<style scoped>\n",
              "    .dataframe tbody tr th:only-of-type {\n",
              "        vertical-align: middle;\n",
              "    }\n",
              "\n",
              "    .dataframe tbody tr th {\n",
              "        vertical-align: top;\n",
              "    }\n",
              "\n",
              "    .dataframe thead th {\n",
              "        text-align: right;\n",
              "    }\n",
              "</style>\n",
              "<table border=\"1\" class=\"dataframe\">\n",
              "  <thead>\n",
              "    <tr style=\"text-align: right;\">\n",
              "      <th></th>\n",
              "      <th>Id</th>\n",
              "      <th>Text Tweet</th>\n",
              "      <th>step01</th>\n",
              "      <th>tokens</th>\n",
              "      <th>tokens_perbaikan</th>\n",
              "      <th>Stop_removal</th>\n",
              "      <th>step02</th>\n",
              "    </tr>\n",
              "  </thead>\n",
              "  <tbody>\n",
              "    <tr>\n",
              "      <th>0</th>\n",
              "      <td>1</td>\n",
              "      <td>Jelek filmnya... apalagi si ernest gak mutu bg...</td>\n",
              "      <td>jelek filmnya repeated apalagi si ernest gak m...</td>\n",
              "      <td>[jelek, filmnya, repeated, apalagi, si, ernest...</td>\n",
              "      <td>[jelek, filmnya, repeated, apalagi, sih, ernes...</td>\n",
              "      <td>[jelek, filmnya, repeated, sih, ernest, mutu, ...</td>\n",
              "      <td>jelek filmnya repeated sih ernest mutu banget ...</td>\n",
              "    </tr>\n",
              "    <tr>\n",
              "      <th>1</th>\n",
              "      <td>2</td>\n",
              "      <td>Film king Arthur ini film paling jelek dari se...</td>\n",
              "      <td>film king arthur ini film paling jelek dari se...</td>\n",
              "      <td>[film, king, arthur, ini, film, paling, jelek,...</td>\n",
              "      <td>[film, king, arthur, ini, film, paling, jelek,...</td>\n",
              "      <td>[film, king, arthur, film, jelek, cerita, king...</td>\n",
              "      <td>film king arthur film jelek cerita king arthur</td>\n",
              "    </tr>\n",
              "    <tr>\n",
              "      <th>2</th>\n",
              "      <td>3</td>\n",
              "      <td>@beexkuanlin Sepanjang film gwa berkata kasar ...</td>\n",
              "      <td>user sepanjang film gwa berkata kasar terus pa...</td>\n",
              "      <td>[user, sepanjang, film, gwa, berkata, kasar, t...</td>\n",
              "      <td>[user, sepanjang, film, gwa, berkata, kasar, t...</td>\n",
              "      <td>[user, film, gwa, kasar, bapaknya]</td>\n",
              "      <td>user film gwa kasar bapaknya</td>\n",
              "    </tr>\n",
              "    <tr>\n",
              "      <th>3</th>\n",
              "      <td>4</td>\n",
              "      <td>Ane ga suka fast and furious..menurutku kok je...</td>\n",
              "      <td>ane ga suka fast and furious repeated menurutk...</td>\n",
              "      <td>[ane, ga, suka, fast, and, furious, repeated, ...</td>\n",
              "      <td>[saya, tidak, suka, fast, dan, furious, repeat...</td>\n",
              "      <td>[suka, fast, furious, repeated, menurutku, jel...</td>\n",
              "      <td>suka fast furious repeated menurutku jelek iya...</td>\n",
              "    </tr>\n",
              "    <tr>\n",
              "      <th>4</th>\n",
              "      <td>5</td>\n",
              "      <td>@baekhyun36 kan gua ga tau film nya, lu bilang...</td>\n",
              "      <td>user kan gua ga tau film nya lu bilang perang ...</td>\n",
              "      <td>[user, kan, gua, ga, tau, film, nya, lu, bilan...</td>\n",
              "      <td>[user, kan, saya, tidak, tau, film, nya, kamu,...</td>\n",
              "      <td>[user, tau, film, nya, bilang, perang, peranga...</td>\n",
              "      <td>user tau film nya bilang perang perangan peran...</td>\n",
              "    </tr>\n",
              "  </tbody>\n",
              "</table>\n",
              "</div>\n",
              "    <div class=\"colab-df-buttons\">\n",
              "\n",
              "  <div class=\"colab-df-container\">\n",
              "    <button class=\"colab-df-convert\" onclick=\"convertToInteractive('df-0ab936c7-cb23-4c5f-a8cb-759c935c6c4d')\"\n",
              "            title=\"Convert this dataframe to an interactive table.\"\n",
              "            style=\"display:none;\">\n",
              "\n",
              "  <svg xmlns=\"http://www.w3.org/2000/svg\" height=\"24px\" viewBox=\"0 -960 960 960\">\n",
              "    <path d=\"M120-120v-720h720v720H120Zm60-500h600v-160H180v160Zm220 220h160v-160H400v160Zm0 220h160v-160H400v160ZM180-400h160v-160H180v160Zm440 0h160v-160H620v160ZM180-180h160v-160H180v160Zm440 0h160v-160H620v160Z\"/>\n",
              "  </svg>\n",
              "    </button>\n",
              "\n",
              "  <style>\n",
              "    .colab-df-container {\n",
              "      display:flex;\n",
              "      gap: 12px;\n",
              "    }\n",
              "\n",
              "    .colab-df-convert {\n",
              "      background-color: #E8F0FE;\n",
              "      border: none;\n",
              "      border-radius: 50%;\n",
              "      cursor: pointer;\n",
              "      display: none;\n",
              "      fill: #1967D2;\n",
              "      height: 32px;\n",
              "      padding: 0 0 0 0;\n",
              "      width: 32px;\n",
              "    }\n",
              "\n",
              "    .colab-df-convert:hover {\n",
              "      background-color: #E2EBFA;\n",
              "      box-shadow: 0px 1px 2px rgba(60, 64, 67, 0.3), 0px 1px 3px 1px rgba(60, 64, 67, 0.15);\n",
              "      fill: #174EA6;\n",
              "    }\n",
              "\n",
              "    .colab-df-buttons div {\n",
              "      margin-bottom: 4px;\n",
              "    }\n",
              "\n",
              "    [theme=dark] .colab-df-convert {\n",
              "      background-color: #3B4455;\n",
              "      fill: #D2E3FC;\n",
              "    }\n",
              "\n",
              "    [theme=dark] .colab-df-convert:hover {\n",
              "      background-color: #434B5C;\n",
              "      box-shadow: 0px 1px 3px 1px rgba(0, 0, 0, 0.15);\n",
              "      filter: drop-shadow(0px 1px 2px rgba(0, 0, 0, 0.3));\n",
              "      fill: #FFFFFF;\n",
              "    }\n",
              "  </style>\n",
              "\n",
              "    <script>\n",
              "      const buttonEl =\n",
              "        document.querySelector('#df-0ab936c7-cb23-4c5f-a8cb-759c935c6c4d button.colab-df-convert');\n",
              "      buttonEl.style.display =\n",
              "        google.colab.kernel.accessAllowed ? 'block' : 'none';\n",
              "\n",
              "      async function convertToInteractive(key) {\n",
              "        const element = document.querySelector('#df-0ab936c7-cb23-4c5f-a8cb-759c935c6c4d');\n",
              "        const dataTable =\n",
              "          await google.colab.kernel.invokeFunction('convertToInteractive',\n",
              "                                                    [key], {});\n",
              "        if (!dataTable) return;\n",
              "\n",
              "        const docLinkHtml = 'Like what you see? Visit the ' +\n",
              "          '<a target=\"_blank\" href=https://colab.research.google.com/notebooks/data_table.ipynb>data table notebook</a>'\n",
              "          + ' to learn more about interactive tables.';\n",
              "        element.innerHTML = '';\n",
              "        dataTable['output_type'] = 'display_data';\n",
              "        await google.colab.output.renderOutput(dataTable, element);\n",
              "        const docLink = document.createElement('div');\n",
              "        docLink.innerHTML = docLinkHtml;\n",
              "        element.appendChild(docLink);\n",
              "      }\n",
              "    </script>\n",
              "  </div>\n",
              "\n",
              "\n",
              "<div id=\"df-3b714d48-d7af-40e1-b5c2-e944a73ae262\">\n",
              "  <button class=\"colab-df-quickchart\" onclick=\"quickchart('df-3b714d48-d7af-40e1-b5c2-e944a73ae262')\"\n",
              "            title=\"Suggest charts\"\n",
              "            style=\"display:none;\">\n",
              "\n",
              "<svg xmlns=\"http://www.w3.org/2000/svg\" height=\"24px\"viewBox=\"0 0 24 24\"\n",
              "     width=\"24px\">\n",
              "    <g>\n",
              "        <path d=\"M19 3H5c-1.1 0-2 .9-2 2v14c0 1.1.9 2 2 2h14c1.1 0 2-.9 2-2V5c0-1.1-.9-2-2-2zM9 17H7v-7h2v7zm4 0h-2V7h2v10zm4 0h-2v-4h2v4z\"/>\n",
              "    </g>\n",
              "</svg>\n",
              "  </button>\n",
              "\n",
              "<style>\n",
              "  .colab-df-quickchart {\n",
              "      --bg-color: #E8F0FE;\n",
              "      --fill-color: #1967D2;\n",
              "      --hover-bg-color: #E2EBFA;\n",
              "      --hover-fill-color: #174EA6;\n",
              "      --disabled-fill-color: #AAA;\n",
              "      --disabled-bg-color: #DDD;\n",
              "  }\n",
              "\n",
              "  [theme=dark] .colab-df-quickchart {\n",
              "      --bg-color: #3B4455;\n",
              "      --fill-color: #D2E3FC;\n",
              "      --hover-bg-color: #434B5C;\n",
              "      --hover-fill-color: #FFFFFF;\n",
              "      --disabled-bg-color: #3B4455;\n",
              "      --disabled-fill-color: #666;\n",
              "  }\n",
              "\n",
              "  .colab-df-quickchart {\n",
              "    background-color: var(--bg-color);\n",
              "    border: none;\n",
              "    border-radius: 50%;\n",
              "    cursor: pointer;\n",
              "    display: none;\n",
              "    fill: var(--fill-color);\n",
              "    height: 32px;\n",
              "    padding: 0;\n",
              "    width: 32px;\n",
              "  }\n",
              "\n",
              "  .colab-df-quickchart:hover {\n",
              "    background-color: var(--hover-bg-color);\n",
              "    box-shadow: 0 1px 2px rgba(60, 64, 67, 0.3), 0 1px 3px 1px rgba(60, 64, 67, 0.15);\n",
              "    fill: var(--button-hover-fill-color);\n",
              "  }\n",
              "\n",
              "  .colab-df-quickchart-complete:disabled,\n",
              "  .colab-df-quickchart-complete:disabled:hover {\n",
              "    background-color: var(--disabled-bg-color);\n",
              "    fill: var(--disabled-fill-color);\n",
              "    box-shadow: none;\n",
              "  }\n",
              "\n",
              "  .colab-df-spinner {\n",
              "    border: 2px solid var(--fill-color);\n",
              "    border-color: transparent;\n",
              "    border-bottom-color: var(--fill-color);\n",
              "    animation:\n",
              "      spin 1s steps(1) infinite;\n",
              "  }\n",
              "\n",
              "  @keyframes spin {\n",
              "    0% {\n",
              "      border-color: transparent;\n",
              "      border-bottom-color: var(--fill-color);\n",
              "      border-left-color: var(--fill-color);\n",
              "    }\n",
              "    20% {\n",
              "      border-color: transparent;\n",
              "      border-left-color: var(--fill-color);\n",
              "      border-top-color: var(--fill-color);\n",
              "    }\n",
              "    30% {\n",
              "      border-color: transparent;\n",
              "      border-left-color: var(--fill-color);\n",
              "      border-top-color: var(--fill-color);\n",
              "      border-right-color: var(--fill-color);\n",
              "    }\n",
              "    40% {\n",
              "      border-color: transparent;\n",
              "      border-right-color: var(--fill-color);\n",
              "      border-top-color: var(--fill-color);\n",
              "    }\n",
              "    60% {\n",
              "      border-color: transparent;\n",
              "      border-right-color: var(--fill-color);\n",
              "    }\n",
              "    80% {\n",
              "      border-color: transparent;\n",
              "      border-right-color: var(--fill-color);\n",
              "      border-bottom-color: var(--fill-color);\n",
              "    }\n",
              "    90% {\n",
              "      border-color: transparent;\n",
              "      border-bottom-color: var(--fill-color);\n",
              "    }\n",
              "  }\n",
              "</style>\n",
              "\n",
              "  <script>\n",
              "    async function quickchart(key) {\n",
              "      const quickchartButtonEl =\n",
              "        document.querySelector('#' + key + ' button');\n",
              "      quickchartButtonEl.disabled = true;  // To prevent multiple clicks.\n",
              "      quickchartButtonEl.classList.add('colab-df-spinner');\n",
              "      try {\n",
              "        const charts = await google.colab.kernel.invokeFunction(\n",
              "            'suggestCharts', [key], {});\n",
              "      } catch (error) {\n",
              "        console.error('Error during call to suggestCharts:', error);\n",
              "      }\n",
              "      quickchartButtonEl.classList.remove('colab-df-spinner');\n",
              "      quickchartButtonEl.classList.add('colab-df-quickchart-complete');\n",
              "    }\n",
              "    (() => {\n",
              "      let quickchartButtonEl =\n",
              "        document.querySelector('#df-3b714d48-d7af-40e1-b5c2-e944a73ae262 button');\n",
              "      quickchartButtonEl.style.display =\n",
              "        google.colab.kernel.accessAllowed ? 'block' : 'none';\n",
              "    })();\n",
              "  </script>\n",
              "</div>\n",
              "    </div>\n",
              "  </div>\n"
            ]
          },
          "metadata": {},
          "execution_count": 32
        }
      ],
      "source": [
        "df_new.head()"
      ]
    },
    {
      "cell_type": "markdown",
      "metadata": {
        "id": "-F9_5pJIHw6-"
      },
      "source": [
        "## Stemming - Menggunakan Sastrawi"
      ]
    },
    {
      "cell_type": "code",
      "execution_count": 33,
      "metadata": {
        "colab": {
          "base_uri": "https://localhost:8080/"
        },
        "id": "fYG4PHGxGs8E",
        "outputId": "18bc9981-b43f-4c55-b566-2c8d0ebb2b18"
      },
      "outputs": [
        {
          "output_type": "stream",
          "name": "stdout",
          "text": [
            "Collecting sastrawi\n",
            "  Downloading Sastrawi-1.0.1-py2.py3-none-any.whl (209 kB)\n",
            "\u001b[?25l     \u001b[90m━━━━━━━━━━━━━━━━━━━━━━━━━━━━━━━━━━━━━━━━\u001b[0m \u001b[32m0.0/209.7 kB\u001b[0m \u001b[31m?\u001b[0m eta \u001b[36m-:--:--\u001b[0m\r\u001b[2K     \u001b[91m━━━━━━━━━━━━━━━━━━━━━━━━━━━━━━━━━━━━━━━\u001b[0m\u001b[90m╺\u001b[0m \u001b[32m204.8/209.7 kB\u001b[0m \u001b[31m6.6 MB/s\u001b[0m eta \u001b[36m0:00:01\u001b[0m\r\u001b[2K     \u001b[90m━━━━━━━━━━━━━━━━━━━━━━━━━━━━━━━━━━━━━━━━\u001b[0m \u001b[32m209.7/209.7 kB\u001b[0m \u001b[31m5.4 MB/s\u001b[0m eta \u001b[36m0:00:00\u001b[0m\n",
            "\u001b[?25hInstalling collected packages: sastrawi\n",
            "Successfully installed sastrawi-1.0.1\n"
          ]
        }
      ],
      "source": [
        "!pip install sastrawi"
      ]
    },
    {
      "cell_type": "code",
      "execution_count": 34,
      "metadata": {
        "id": "Qhuf9k2CGs5z"
      },
      "outputs": [],
      "source": [
        "from Sastrawi.Stemmer.StemmerFactory import StemmerFactory\n",
        "factory = StemmerFactory()\n",
        "stemmer = factory.create_stemmer()"
      ]
    },
    {
      "cell_type": "code",
      "execution_count": 35,
      "metadata": {
        "id": "nd-QecH2Gs3O"
      },
      "outputs": [],
      "source": [
        "final_string = []\n",
        "s = \"\"\n",
        "for sentence in df_new[\"step02\"].values:\n",
        "    filteredSentence = []\n",
        "    EachReviewText = \"\"\n",
        "    s = (stemmer.stem(sentence))\n",
        "    filteredSentence.append(s)\n",
        "\n",
        "    EachReviewText = ' '.join(filteredSentence)\n",
        "    final_string.append(EachReviewText)"
      ]
    },
    {
      "cell_type": "code",
      "execution_count": 36,
      "metadata": {
        "id": "6Fu05R6NN1nU"
      },
      "outputs": [],
      "source": [
        "df_new[\"ProcessedText\"] = final_string"
      ]
    },
    {
      "cell_type": "code",
      "execution_count": 37,
      "metadata": {
        "colab": {
          "base_uri": "https://localhost:8080/",
          "height": 1000
        },
        "id": "HRbSfQ91Gszo",
        "outputId": "9f31833c-2461-4044-bcc1-f6b5e3ff03a7"
      },
      "outputs": [
        {
          "output_type": "execute_result",
          "data": {
            "text/plain": [
              "   Id                                         Text Tweet  \\\n",
              "0   1  Jelek filmnya... apalagi si ernest gak mutu bg...   \n",
              "1   2  Film king Arthur ini film paling jelek dari se...   \n",
              "2   3  @beexkuanlin Sepanjang film gwa berkata kasar ...   \n",
              "3   4  Ane ga suka fast and furious..menurutku kok je...   \n",
              "4   5  @baekhyun36 kan gua ga tau film nya, lu bilang...   \n",
              "5   6  tolong editingnya yg bagus ya. Saya sering kec...   \n",
              "6   7  Kecewa dgn salah satu aktornya yg ternyata pen...   \n",
              "7   8  Kecewa parah sama film the guys. Dear @raditya...   \n",
              "8   9           Banyak yg kecewa abis nonton film ini :(   \n",
              "9  10  #TheMummy 2017 adalah film yang paling memgece...   \n",
              "\n",
              "                                              step01  \\\n",
              "0  jelek filmnya repeated apalagi si ernest gak m...   \n",
              "1  film king arthur ini film paling jelek dari se...   \n",
              "2  user sepanjang film gwa berkata kasar terus pa...   \n",
              "3  ane ga suka fast and furious repeated menurutk...   \n",
              "4  user kan gua ga tau film nya lu bilang perang ...   \n",
              "5  tolong editingnya yg bagus ya saya sering kece...   \n",
              "6  kecewa dgn salah satu aktornya yg ternyata pen...   \n",
              "7  kecewa parah sama film the guys dear user sorr...   \n",
              "8          banyak yg kecewa abis nonton film ini sad   \n",
              "9  hashtag the mummy hashtag number adalah film y...   \n",
              "\n",
              "                                              tokens  \\\n",
              "0  [jelek, filmnya, repeated, apalagi, si, ernest...   \n",
              "1  [film, king, arthur, ini, film, paling, jelek,...   \n",
              "2  [user, sepanjang, film, gwa, berkata, kasar, t...   \n",
              "3  [ane, ga, suka, fast, and, furious, repeated, ...   \n",
              "4  [user, kan, gua, ga, tau, film, nya, lu, bilan...   \n",
              "5  [tolong, editingnya, yg, bagus, ya, saya, seri...   \n",
              "6  [kecewa, dgn, salah, satu, aktornya, yg, terny...   \n",
              "7  [kecewa, parah, sama, film, the, guys, dear, u...   \n",
              "8  [banyak, yg, kecewa, abis, nonton, film, ini, ...   \n",
              "9  [hashtag, the, mummy, hashtag, number, adalah,...   \n",
              "\n",
              "                                    tokens_perbaikan  \\\n",
              "0  [jelek, filmnya, repeated, apalagi, sih, ernes...   \n",
              "1  [film, king, arthur, ini, film, paling, jelek,...   \n",
              "2  [user, sepanjang, film, gwa, berkata, kasar, t...   \n",
              "3  [saya, tidak, suka, fast, dan, furious, repeat...   \n",
              "4  [user, kan, saya, tidak, tau, film, nya, kamu,...   \n",
              "5  [tolong, editingnya, yang, bagus, iya, saya, s...   \n",
              "6  [kecewa, dengan, salah, satu, aktornya, yang, ...   \n",
              "7  [kecewa, parah, sama, film, the, guys, dear, u...   \n",
              "8  [banyak, yang, kecewa, setelah, nonton, film, ...   \n",
              "9  [hashtag, the, mummy, hashtag, number, adalah,...   \n",
              "\n",
              "                                        Stop_removal  \\\n",
              "0  [jelek, filmnya, repeated, sih, ernest, mutu, ...   \n",
              "1  [film, king, arthur, film, jelek, cerita, king...   \n",
              "2                 [user, film, gwa, kasar, bapaknya]   \n",
              "3  [suka, fast, furious, repeated, menurutku, jel...   \n",
              "4  [user, tau, film, nya, bilang, perang, peranga...   \n",
              "5  [tolong, editingnya, bagus, iya, kecewa, film,...   \n",
              "6  [kecewa, salah, aktornya, pendukung, penista, ...   \n",
              "7  [kecewa, parah, film, the, guys, dear, user, s...   \n",
              "8                        [kecewa, nonton, film, sad]   \n",
              "9  [hashtag, the, mummy, hashtag, number, film, m...   \n",
              "\n",
              "                                              step02  \\\n",
              "0  jelek filmnya repeated sih ernest mutu banget ...   \n",
              "1     film king arthur film jelek cerita king arthur   \n",
              "2                       user film gwa kasar bapaknya   \n",
              "3  suka fast furious repeated menurutku jelek iya...   \n",
              "4  user tau film nya bilang perang perangan peran...   \n",
              "5  tolong editingnya bagus iya kecewa film indone...   \n",
              "6  kecewa salah aktornya pendukung penista agama ...   \n",
              "7  kecewa parah film the guys dear user sorry to ...   \n",
              "8                             kecewa nonton film sad   \n",
              "9  hashtag the mummy hashtag number film memgecew...   \n",
              "\n",
              "                                       ProcessedText  \n",
              "0  jelek film repeated sih ernest mutu banget act...  \n",
              "1     film king arthur film jelek cerita king arthur  \n",
              "2                          user film gwa kasar bapak  \n",
              "3    suka fast furious repeated turut jelek iya film  \n",
              "4  user tau film nya bilang perang perang perang ...  \n",
              "5  tolong editingnya bagus iya kecewa film indone...  \n",
              "6  kecewa salah aktor dukung nista agama ah sabar...  \n",
              "7  kecewa parah film the guys dear user sorry to ...  \n",
              "8                             kecewa nonton film sad  \n",
              "9  hashtag the mummy hashtag number film memgecew...  "
            ],
            "text/html": [
              "\n",
              "  <div id=\"df-e1212f5c-93b5-4f73-b15a-32ffe7cd3158\" class=\"colab-df-container\">\n",
              "    <div>\n",
              "<style scoped>\n",
              "    .dataframe tbody tr th:only-of-type {\n",
              "        vertical-align: middle;\n",
              "    }\n",
              "\n",
              "    .dataframe tbody tr th {\n",
              "        vertical-align: top;\n",
              "    }\n",
              "\n",
              "    .dataframe thead th {\n",
              "        text-align: right;\n",
              "    }\n",
              "</style>\n",
              "<table border=\"1\" class=\"dataframe\">\n",
              "  <thead>\n",
              "    <tr style=\"text-align: right;\">\n",
              "      <th></th>\n",
              "      <th>Id</th>\n",
              "      <th>Text Tweet</th>\n",
              "      <th>step01</th>\n",
              "      <th>tokens</th>\n",
              "      <th>tokens_perbaikan</th>\n",
              "      <th>Stop_removal</th>\n",
              "      <th>step02</th>\n",
              "      <th>ProcessedText</th>\n",
              "    </tr>\n",
              "  </thead>\n",
              "  <tbody>\n",
              "    <tr>\n",
              "      <th>0</th>\n",
              "      <td>1</td>\n",
              "      <td>Jelek filmnya... apalagi si ernest gak mutu bg...</td>\n",
              "      <td>jelek filmnya repeated apalagi si ernest gak m...</td>\n",
              "      <td>[jelek, filmnya, repeated, apalagi, si, ernest...</td>\n",
              "      <td>[jelek, filmnya, repeated, apalagi, sih, ernes...</td>\n",
              "      <td>[jelek, filmnya, repeated, sih, ernest, mutu, ...</td>\n",
              "      <td>jelek filmnya repeated sih ernest mutu banget ...</td>\n",
              "      <td>jelek film repeated sih ernest mutu banget act...</td>\n",
              "    </tr>\n",
              "    <tr>\n",
              "      <th>1</th>\n",
              "      <td>2</td>\n",
              "      <td>Film king Arthur ini film paling jelek dari se...</td>\n",
              "      <td>film king arthur ini film paling jelek dari se...</td>\n",
              "      <td>[film, king, arthur, ini, film, paling, jelek,...</td>\n",
              "      <td>[film, king, arthur, ini, film, paling, jelek,...</td>\n",
              "      <td>[film, king, arthur, film, jelek, cerita, king...</td>\n",
              "      <td>film king arthur film jelek cerita king arthur</td>\n",
              "      <td>film king arthur film jelek cerita king arthur</td>\n",
              "    </tr>\n",
              "    <tr>\n",
              "      <th>2</th>\n",
              "      <td>3</td>\n",
              "      <td>@beexkuanlin Sepanjang film gwa berkata kasar ...</td>\n",
              "      <td>user sepanjang film gwa berkata kasar terus pa...</td>\n",
              "      <td>[user, sepanjang, film, gwa, berkata, kasar, t...</td>\n",
              "      <td>[user, sepanjang, film, gwa, berkata, kasar, t...</td>\n",
              "      <td>[user, film, gwa, kasar, bapaknya]</td>\n",
              "      <td>user film gwa kasar bapaknya</td>\n",
              "      <td>user film gwa kasar bapak</td>\n",
              "    </tr>\n",
              "    <tr>\n",
              "      <th>3</th>\n",
              "      <td>4</td>\n",
              "      <td>Ane ga suka fast and furious..menurutku kok je...</td>\n",
              "      <td>ane ga suka fast and furious repeated menurutk...</td>\n",
              "      <td>[ane, ga, suka, fast, and, furious, repeated, ...</td>\n",
              "      <td>[saya, tidak, suka, fast, dan, furious, repeat...</td>\n",
              "      <td>[suka, fast, furious, repeated, menurutku, jel...</td>\n",
              "      <td>suka fast furious repeated menurutku jelek iya...</td>\n",
              "      <td>suka fast furious repeated turut jelek iya film</td>\n",
              "    </tr>\n",
              "    <tr>\n",
              "      <th>4</th>\n",
              "      <td>5</td>\n",
              "      <td>@baekhyun36 kan gua ga tau film nya, lu bilang...</td>\n",
              "      <td>user kan gua ga tau film nya lu bilang perang ...</td>\n",
              "      <td>[user, kan, gua, ga, tau, film, nya, lu, bilan...</td>\n",
              "      <td>[user, kan, saya, tidak, tau, film, nya, kamu,...</td>\n",
              "      <td>[user, tau, film, nya, bilang, perang, peranga...</td>\n",
              "      <td>user tau film nya bilang perang perangan peran...</td>\n",
              "      <td>user tau film nya bilang perang perang perang ...</td>\n",
              "    </tr>\n",
              "    <tr>\n",
              "      <th>5</th>\n",
              "      <td>6</td>\n",
              "      <td>tolong editingnya yg bagus ya. Saya sering kec...</td>\n",
              "      <td>tolong editingnya yg bagus ya saya sering kece...</td>\n",
              "      <td>[tolong, editingnya, yg, bagus, ya, saya, seri...</td>\n",
              "      <td>[tolong, editingnya, yang, bagus, iya, saya, s...</td>\n",
              "      <td>[tolong, editingnya, bagus, iya, kecewa, film,...</td>\n",
              "      <td>tolong editingnya bagus iya kecewa film indone...</td>\n",
              "      <td>tolong editingnya bagus iya kecewa film indone...</td>\n",
              "    </tr>\n",
              "    <tr>\n",
              "      <th>6</th>\n",
              "      <td>7</td>\n",
              "      <td>Kecewa dgn salah satu aktornya yg ternyata pen...</td>\n",
              "      <td>kecewa dgn salah satu aktornya yg ternyata pen...</td>\n",
              "      <td>[kecewa, dgn, salah, satu, aktornya, yg, terny...</td>\n",
              "      <td>[kecewa, dengan, salah, satu, aktornya, yang, ...</td>\n",
              "      <td>[kecewa, salah, aktornya, pendukung, penista, ...</td>\n",
              "      <td>kecewa salah aktornya pendukung penista agama ...</td>\n",
              "      <td>kecewa salah aktor dukung nista agama ah sabar...</td>\n",
              "    </tr>\n",
              "    <tr>\n",
              "      <th>7</th>\n",
              "      <td>8</td>\n",
              "      <td>Kecewa parah sama film the guys. Dear @raditya...</td>\n",
              "      <td>kecewa parah sama film the guys dear user sorr...</td>\n",
              "      <td>[kecewa, parah, sama, film, the, guys, dear, u...</td>\n",
              "      <td>[kecewa, parah, sama, film, the, guys, dear, u...</td>\n",
              "      <td>[kecewa, parah, film, the, guys, dear, user, s...</td>\n",
              "      <td>kecewa parah film the guys dear user sorry to ...</td>\n",
              "      <td>kecewa parah film the guys dear user sorry to ...</td>\n",
              "    </tr>\n",
              "    <tr>\n",
              "      <th>8</th>\n",
              "      <td>9</td>\n",
              "      <td>Banyak yg kecewa abis nonton film ini :(</td>\n",
              "      <td>banyak yg kecewa abis nonton film ini sad</td>\n",
              "      <td>[banyak, yg, kecewa, abis, nonton, film, ini, ...</td>\n",
              "      <td>[banyak, yang, kecewa, setelah, nonton, film, ...</td>\n",
              "      <td>[kecewa, nonton, film, sad]</td>\n",
              "      <td>kecewa nonton film sad</td>\n",
              "      <td>kecewa nonton film sad</td>\n",
              "    </tr>\n",
              "    <tr>\n",
              "      <th>9</th>\n",
              "      <td>10</td>\n",
              "      <td>#TheMummy 2017 adalah film yang paling memgece...</td>\n",
              "      <td>hashtag the mummy hashtag number adalah film y...</td>\n",
              "      <td>[hashtag, the, mummy, hashtag, number, adalah,...</td>\n",
              "      <td>[hashtag, the, mummy, hashtag, number, adalah,...</td>\n",
              "      <td>[hashtag, the, mummy, hashtag, number, film, m...</td>\n",
              "      <td>hashtag the mummy hashtag number film memgecew...</td>\n",
              "      <td>hashtag the mummy hashtag number film memgecew...</td>\n",
              "    </tr>\n",
              "  </tbody>\n",
              "</table>\n",
              "</div>\n",
              "    <div class=\"colab-df-buttons\">\n",
              "\n",
              "  <div class=\"colab-df-container\">\n",
              "    <button class=\"colab-df-convert\" onclick=\"convertToInteractive('df-e1212f5c-93b5-4f73-b15a-32ffe7cd3158')\"\n",
              "            title=\"Convert this dataframe to an interactive table.\"\n",
              "            style=\"display:none;\">\n",
              "\n",
              "  <svg xmlns=\"http://www.w3.org/2000/svg\" height=\"24px\" viewBox=\"0 -960 960 960\">\n",
              "    <path d=\"M120-120v-720h720v720H120Zm60-500h600v-160H180v160Zm220 220h160v-160H400v160Zm0 220h160v-160H400v160ZM180-400h160v-160H180v160Zm440 0h160v-160H620v160ZM180-180h160v-160H180v160Zm440 0h160v-160H620v160Z\"/>\n",
              "  </svg>\n",
              "    </button>\n",
              "\n",
              "  <style>\n",
              "    .colab-df-container {\n",
              "      display:flex;\n",
              "      gap: 12px;\n",
              "    }\n",
              "\n",
              "    .colab-df-convert {\n",
              "      background-color: #E8F0FE;\n",
              "      border: none;\n",
              "      border-radius: 50%;\n",
              "      cursor: pointer;\n",
              "      display: none;\n",
              "      fill: #1967D2;\n",
              "      height: 32px;\n",
              "      padding: 0 0 0 0;\n",
              "      width: 32px;\n",
              "    }\n",
              "\n",
              "    .colab-df-convert:hover {\n",
              "      background-color: #E2EBFA;\n",
              "      box-shadow: 0px 1px 2px rgba(60, 64, 67, 0.3), 0px 1px 3px 1px rgba(60, 64, 67, 0.15);\n",
              "      fill: #174EA6;\n",
              "    }\n",
              "\n",
              "    .colab-df-buttons div {\n",
              "      margin-bottom: 4px;\n",
              "    }\n",
              "\n",
              "    [theme=dark] .colab-df-convert {\n",
              "      background-color: #3B4455;\n",
              "      fill: #D2E3FC;\n",
              "    }\n",
              "\n",
              "    [theme=dark] .colab-df-convert:hover {\n",
              "      background-color: #434B5C;\n",
              "      box-shadow: 0px 1px 3px 1px rgba(0, 0, 0, 0.15);\n",
              "      filter: drop-shadow(0px 1px 2px rgba(0, 0, 0, 0.3));\n",
              "      fill: #FFFFFF;\n",
              "    }\n",
              "  </style>\n",
              "\n",
              "    <script>\n",
              "      const buttonEl =\n",
              "        document.querySelector('#df-e1212f5c-93b5-4f73-b15a-32ffe7cd3158 button.colab-df-convert');\n",
              "      buttonEl.style.display =\n",
              "        google.colab.kernel.accessAllowed ? 'block' : 'none';\n",
              "\n",
              "      async function convertToInteractive(key) {\n",
              "        const element = document.querySelector('#df-e1212f5c-93b5-4f73-b15a-32ffe7cd3158');\n",
              "        const dataTable =\n",
              "          await google.colab.kernel.invokeFunction('convertToInteractive',\n",
              "                                                    [key], {});\n",
              "        if (!dataTable) return;\n",
              "\n",
              "        const docLinkHtml = 'Like what you see? Visit the ' +\n",
              "          '<a target=\"_blank\" href=https://colab.research.google.com/notebooks/data_table.ipynb>data table notebook</a>'\n",
              "          + ' to learn more about interactive tables.';\n",
              "        element.innerHTML = '';\n",
              "        dataTable['output_type'] = 'display_data';\n",
              "        await google.colab.output.renderOutput(dataTable, element);\n",
              "        const docLink = document.createElement('div');\n",
              "        docLink.innerHTML = docLinkHtml;\n",
              "        element.appendChild(docLink);\n",
              "      }\n",
              "    </script>\n",
              "  </div>\n",
              "\n",
              "\n",
              "<div id=\"df-71f1704f-285f-4b05-a1c4-d4bec5094f74\">\n",
              "  <button class=\"colab-df-quickchart\" onclick=\"quickchart('df-71f1704f-285f-4b05-a1c4-d4bec5094f74')\"\n",
              "            title=\"Suggest charts\"\n",
              "            style=\"display:none;\">\n",
              "\n",
              "<svg xmlns=\"http://www.w3.org/2000/svg\" height=\"24px\"viewBox=\"0 0 24 24\"\n",
              "     width=\"24px\">\n",
              "    <g>\n",
              "        <path d=\"M19 3H5c-1.1 0-2 .9-2 2v14c0 1.1.9 2 2 2h14c1.1 0 2-.9 2-2V5c0-1.1-.9-2-2-2zM9 17H7v-7h2v7zm4 0h-2V7h2v10zm4 0h-2v-4h2v4z\"/>\n",
              "    </g>\n",
              "</svg>\n",
              "  </button>\n",
              "\n",
              "<style>\n",
              "  .colab-df-quickchart {\n",
              "      --bg-color: #E8F0FE;\n",
              "      --fill-color: #1967D2;\n",
              "      --hover-bg-color: #E2EBFA;\n",
              "      --hover-fill-color: #174EA6;\n",
              "      --disabled-fill-color: #AAA;\n",
              "      --disabled-bg-color: #DDD;\n",
              "  }\n",
              "\n",
              "  [theme=dark] .colab-df-quickchart {\n",
              "      --bg-color: #3B4455;\n",
              "      --fill-color: #D2E3FC;\n",
              "      --hover-bg-color: #434B5C;\n",
              "      --hover-fill-color: #FFFFFF;\n",
              "      --disabled-bg-color: #3B4455;\n",
              "      --disabled-fill-color: #666;\n",
              "  }\n",
              "\n",
              "  .colab-df-quickchart {\n",
              "    background-color: var(--bg-color);\n",
              "    border: none;\n",
              "    border-radius: 50%;\n",
              "    cursor: pointer;\n",
              "    display: none;\n",
              "    fill: var(--fill-color);\n",
              "    height: 32px;\n",
              "    padding: 0;\n",
              "    width: 32px;\n",
              "  }\n",
              "\n",
              "  .colab-df-quickchart:hover {\n",
              "    background-color: var(--hover-bg-color);\n",
              "    box-shadow: 0 1px 2px rgba(60, 64, 67, 0.3), 0 1px 3px 1px rgba(60, 64, 67, 0.15);\n",
              "    fill: var(--button-hover-fill-color);\n",
              "  }\n",
              "\n",
              "  .colab-df-quickchart-complete:disabled,\n",
              "  .colab-df-quickchart-complete:disabled:hover {\n",
              "    background-color: var(--disabled-bg-color);\n",
              "    fill: var(--disabled-fill-color);\n",
              "    box-shadow: none;\n",
              "  }\n",
              "\n",
              "  .colab-df-spinner {\n",
              "    border: 2px solid var(--fill-color);\n",
              "    border-color: transparent;\n",
              "    border-bottom-color: var(--fill-color);\n",
              "    animation:\n",
              "      spin 1s steps(1) infinite;\n",
              "  }\n",
              "\n",
              "  @keyframes spin {\n",
              "    0% {\n",
              "      border-color: transparent;\n",
              "      border-bottom-color: var(--fill-color);\n",
              "      border-left-color: var(--fill-color);\n",
              "    }\n",
              "    20% {\n",
              "      border-color: transparent;\n",
              "      border-left-color: var(--fill-color);\n",
              "      border-top-color: var(--fill-color);\n",
              "    }\n",
              "    30% {\n",
              "      border-color: transparent;\n",
              "      border-left-color: var(--fill-color);\n",
              "      border-top-color: var(--fill-color);\n",
              "      border-right-color: var(--fill-color);\n",
              "    }\n",
              "    40% {\n",
              "      border-color: transparent;\n",
              "      border-right-color: var(--fill-color);\n",
              "      border-top-color: var(--fill-color);\n",
              "    }\n",
              "    60% {\n",
              "      border-color: transparent;\n",
              "      border-right-color: var(--fill-color);\n",
              "    }\n",
              "    80% {\n",
              "      border-color: transparent;\n",
              "      border-right-color: var(--fill-color);\n",
              "      border-bottom-color: var(--fill-color);\n",
              "    }\n",
              "    90% {\n",
              "      border-color: transparent;\n",
              "      border-bottom-color: var(--fill-color);\n",
              "    }\n",
              "  }\n",
              "</style>\n",
              "\n",
              "  <script>\n",
              "    async function quickchart(key) {\n",
              "      const quickchartButtonEl =\n",
              "        document.querySelector('#' + key + ' button');\n",
              "      quickchartButtonEl.disabled = true;  // To prevent multiple clicks.\n",
              "      quickchartButtonEl.classList.add('colab-df-spinner');\n",
              "      try {\n",
              "        const charts = await google.colab.kernel.invokeFunction(\n",
              "            'suggestCharts', [key], {});\n",
              "      } catch (error) {\n",
              "        console.error('Error during call to suggestCharts:', error);\n",
              "      }\n",
              "      quickchartButtonEl.classList.remove('colab-df-spinner');\n",
              "      quickchartButtonEl.classList.add('colab-df-quickchart-complete');\n",
              "    }\n",
              "    (() => {\n",
              "      let quickchartButtonEl =\n",
              "        document.querySelector('#df-71f1704f-285f-4b05-a1c4-d4bec5094f74 button');\n",
              "      quickchartButtonEl.style.display =\n",
              "        google.colab.kernel.accessAllowed ? 'block' : 'none';\n",
              "    })();\n",
              "  </script>\n",
              "</div>\n",
              "    </div>\n",
              "  </div>\n"
            ]
          },
          "metadata": {},
          "execution_count": 37
        }
      ],
      "source": [
        "df_new.head(10)"
      ]
    },
    {
      "cell_type": "markdown",
      "metadata": {
        "id": "jVMr6XUee0Y6"
      },
      "source": [
        "## simpan hasil preprocessing"
      ]
    },
    {
      "cell_type": "code",
      "execution_count": 38,
      "metadata": {
        "id": "GGZFw6G9evQG"
      },
      "outputs": [],
      "source": [
        "df_new.to_csv('clean_dataset_part01.csv',sep=\";\")"
      ]
    },
    {
      "cell_type": "markdown",
      "metadata": {
        "id": "MrkJ4dCTe-_J"
      },
      "source": [
        "# Penataan Data"
      ]
    },
    {
      "cell_type": "markdown",
      "metadata": {
        "id": "llyNObWFMbT_"
      },
      "source": [
        "## pembagian fitur dan label"
      ]
    },
    {
      "cell_type": "code",
      "execution_count": 39,
      "metadata": {
        "id": "yNpmt4magLnx"
      },
      "outputs": [],
      "source": [
        "import pandas as pd\n",
        "import numpy as np"
      ]
    },
    {
      "cell_type": "code",
      "execution_count": 40,
      "metadata": {
        "id": "6uHL0jjJLjJo"
      },
      "outputs": [],
      "source": [
        "dataset = pd.read_csv('clean_dataset_part01.csv',sep=\";\")"
      ]
    },
    {
      "cell_type": "code",
      "execution_count": 41,
      "metadata": {
        "colab": {
          "base_uri": "https://localhost:8080/"
        },
        "id": "jxvzWAcdyKRD",
        "outputId": "2e0335bd-e25b-4e9c-ee92-9a0d62bc9542"
      },
      "outputs": [
        {
          "output_type": "stream",
          "name": "stdout",
          "text": [
            "<class 'pandas.core.frame.DataFrame'>\n",
            "RangeIndex: 200 entries, 0 to 199\n",
            "Data columns (total 9 columns):\n",
            " #   Column            Non-Null Count  Dtype \n",
            "---  ------            --------------  ----- \n",
            " 0   Unnamed: 0        200 non-null    int64 \n",
            " 1   Id                200 non-null    int64 \n",
            " 2   Text Tweet        200 non-null    object\n",
            " 3   step01            200 non-null    object\n",
            " 4   tokens            200 non-null    object\n",
            " 5   tokens_perbaikan  200 non-null    object\n",
            " 6   Stop_removal      200 non-null    object\n",
            " 7   step02            200 non-null    object\n",
            " 8   ProcessedText     200 non-null    object\n",
            "dtypes: int64(2), object(7)\n",
            "memory usage: 14.2+ KB\n"
          ]
        }
      ],
      "source": [
        "dataset.info()"
      ]
    },
    {
      "cell_type": "code",
      "execution_count": 42,
      "metadata": {
        "id": "2CQhuVgALr0J"
      },
      "outputs": [],
      "source": [
        "dataset_feature = dataset['ProcessedText'].astype(str)"
      ]
    },
    {
      "cell_type": "code",
      "execution_count": 43,
      "metadata": {
        "colab": {
          "base_uri": "https://localhost:8080/"
        },
        "id": "nhOB8hceMQhE",
        "outputId": "ccf365e1-9434-49a9-877d-46cfdb6aff23"
      },
      "outputs": [
        {
          "output_type": "execute_result",
          "data": {
            "text/plain": [
              "0    jelek film repeated sih ernest mutu banget act...\n",
              "1       film king arthur film jelek cerita king arthur\n",
              "2                            user film gwa kasar bapak\n",
              "3      suka fast furious repeated turut jelek iya film\n",
              "4    user tau film nya bilang perang perang perang ...\n",
              "5    tolong editingnya bagus iya kecewa film indone...\n",
              "6    kecewa salah aktor dukung nista agama ah sabar...\n",
              "7    kecewa parah film the guys dear user sorry to ...\n",
              "8                               kecewa nonton film sad\n",
              "9    hashtag the mummy hashtag number film memgecew...\n",
              "Name: ProcessedText, dtype: object"
            ]
          },
          "metadata": {},
          "execution_count": 43
        }
      ],
      "source": [
        "dataset_feature.head(10)"
      ]
    },
    {
      "cell_type": "code",
      "execution_count": 46,
      "metadata": {
        "id": "V0JQGHvqMQw3"
      },
      "outputs": [],
      "source": [
        "\n",
        "dataset_label = dataset['Text Tweet']"
      ]
    },
    {
      "cell_type": "code",
      "execution_count": 47,
      "metadata": {
        "colab": {
          "base_uri": "https://localhost:8080/"
        },
        "id": "3uxBA6OiMUy_",
        "outputId": "896f60fc-e929-40ea-fe2c-20be6e3dadbf"
      },
      "outputs": [
        {
          "output_type": "execute_result",
          "data": {
            "text/plain": [
              "0    Jelek filmnya... apalagi si ernest gak mutu bg...\n",
              "1    Film king Arthur ini film paling jelek dari se...\n",
              "2    @beexkuanlin Sepanjang film gwa berkata kasar ...\n",
              "3    Ane ga suka fast and furious..menurutku kok je...\n",
              "4    @baekhyun36 kan gua ga tau film nya, lu bilang...\n",
              "5    tolong editingnya yg bagus ya. Saya sering kec...\n",
              "6    Kecewa dgn salah satu aktornya yg ternyata pen...\n",
              "7    Kecewa parah sama film the guys. Dear @raditya...\n",
              "8             Banyak yg kecewa abis nonton film ini :(\n",
              "9    #TheMummy 2017 adalah film yang paling memgece...\n",
              "Name: Text Tweet, dtype: object"
            ]
          },
          "metadata": {},
          "execution_count": 47
        }
      ],
      "source": [
        "dataset_label.head(10)"
      ]
    },
    {
      "cell_type": "markdown",
      "metadata": {
        "id": "iCSb35pwMXvP"
      },
      "source": [
        "## distribusi label"
      ]
    },
    {
      "cell_type": "code",
      "execution_count": 48,
      "metadata": {
        "id": "dYRcULM9MaJm"
      },
      "outputs": [],
      "source": [
        "import matplotlib.pyplot as plt\n",
        "import seaborn as sns\n",
        "%matplotlib inline"
      ]
    },
    {
      "cell_type": "code",
      "source": [
        "import pandas as pd\n",
        "\n",
        "# Assuming you have a DataFrame with a column containing text data\n",
        "# For example, let's say your DataFrame is df and the column is 'text_column'\n",
        "\n",
        "try:\n",
        "    # Attempt to perform some operation that requires numeric values\n",
        "    # Replace this line with the operation you are trying to perform\n",
        "    # For example, let's say you want to calculate the mean of the column\n",
        "    result = df['Text Tweet'].mean()\n",
        "\n",
        "except TypeError as e:\n",
        "    # Handle the TypeError, for example, print an error message\n",
        "    print(f\"Error: {e}\")\n",
        "    # You might want to handle the error by filling NaN or other suitable actions\n",
        "\n",
        "# Continue with the rest of your code or handle the error as needed\n",
        "\n"
      ],
      "metadata": {
        "colab": {
          "base_uri": "https://localhost:8080/"
        },
        "id": "PIVkNhyk8abv",
        "outputId": "2f2dc3ac-dad6-4ae1-a353-728b654f8063"
      },
      "execution_count": 66,
      "outputs": [
        {
          "output_type": "stream",
          "name": "stdout",
          "text": [
            "Error: Could not convert Jelek filmnya... apalagi si ernest gak mutu bgt actingnya... film sampahFilm king Arthur ini film paling jelek dari seluruh cerita King Arthur @beexkuanlin Sepanjang film gwa berkata kasar terus pada bapaknyaAne ga suka fast and furious..menurutku kok jelek ya tu film@baekhyun36 kan gua ga tau film nya, lu bilang perang perangan/? Perang\"an disebut ama rp yaoi jadi ambigu :vtolong editingnya yg bagus ya. Saya sering kecewa dgn film indonesia. Ditunggu filmnya!!Kecewa dgn salah satu aktornya yg ternyata pendukung penista agama. Ah, saya harus bersabar utk tak menonton film ini.Kecewa parah sama film the guys. Dear @radityadika sorry to say this.Banyak yg kecewa abis nonton film ini :(#TheMummy 2017 adalah film yang paling memgecewakan saya selama hidup. Yah padahal sy udh berekspektasi tinggi dan suka bgt mesir kuno.film jelek, jelas. Ga ada isinya. awal bulan ini nonton dua film Indonesia di bioskop: kartini dan critical eleven. penggambaran kartini dan ale juga anya terlalu lemah. :( Nonton film #Kartini miris , ternyata di jaman itu dan jaman sekarang bangsa kita tetap bodoh, Serakah, Gila kawin .. IRONIS !! #CelotehPagiBtw Danur jelek banget, gausah ditonton Hans @hansdavidian gue kebayang lo bakal #meantweets soal film ini ntar! LolFilm Kartini trlalu singkat, sehingga penonton yg mungkin blm baca biografi jelas ttg Kartini agak bingung. Saya sndiri emg blm baca bukuny.Habis nonton the guys, entah kenapa aku sedikit kecewa nonton film ini.. Dibanding film sebelumnya kok ini anjlok yaYang udah nonton film Alien kok pada kecewa ya. Jadi ragu buat nonton.satu-satunya kerugian nonton film action itu.. aktornya jadi keliatan jelek :pIni film yang bilang bagus...Kelompoknya doang. Yang kasih penghargaan juga dia2 aj. waktu nonton ternyata jelek.baik, kita sudahi saja. hidup terlalu singkat untuk dihabisken dengan menonton film jelek.Film King Arthur itu tidak jelek namun juga tidak bagus. Biasa saja, cenderung mudah dilupakan.Jelek ah jelek Pantas film Dimension tidak pernah dirilis, akting kamu begini ternyata /ga duh ini film ribet banget ...Dgn durasi film yg tll panjang, alur yg datar, akhirnya stlh #CriticalEleven selesai sy keluar dgn pertanyaan: ini masalahnya apa sih?Banyak adegan penting yang di potong, jadinya merusak film itu sendiri baru selesai nonton film GOAL 3, ternyata penurunan kualitas film nya drastis parah.Baru keingat film yang cukup beda dengan buku sampai bikin kecewa teman yang ngajak nonton: Black Bulterogah nonton lagi saya. Kecewa ama itu film Kecewa berat sama film Power Rangers, dibawah ekspektasi banget Bahas soal film yang diangkat dari novel rasanya kalo di bikin film kurang puas aja gituSebenernya nggak ada yang salah sama akting Prilly di film Danur menurut aku oke oke aja. Yang kurang greget itu ceritanya sih, kurang kuat.Tadi abis nonton film balap2 mobil itu,tertidur sekitar 15 menit. Entah lelah entah bosan.The mummy film yg terasa mulai aneh sejak pertengahan filmnya #mummyMemang malah kelihatan aneh kalau ada film besutan Marvel yang ga ada post-credit scene nya,kaya film yg habis saya tonton,#Logan.Film norak!!!! adanya film critical eleven ini jadi merusak image Ale Anya di kepalaku :(#FactRica ~ kurang suka sama film-film romantis, karena endingnya pasti jadianDibalik novel yang diangkat jadi film. Terus jadinya kurang. Sesungguhny ada campur tangan produser yang sok tau dengan embel2 lebih menjualkarena ga respect kelakuan si dian sastro ...film itu jadi hambar.... ga bermutu...!!! sebnarnya ini film lumyan bgus..sayangnya aktor n aktrisnya dari rusia jadi filmnya trsa hambarKalo Nolan bikin film gak ada perempuan seksi* dan bumbu percintaan selalu hambar.1. Insidious (2010) Meski creepy dan bagian awalnya bikin tegang, bagian akhir film ini justru terasa agak datar. Hal tersebut berpengaruh+Ini gue nonton film homo aja rumit benerSayang banget ketika ada film lokal yang bagus tapi budgetnya kurang jadi layar yang bisa di tonton jadi terbatas banget. sayang bangetFilm macam apa ini? Nonton nya bikin gue menderita -_-jadi gue nonton The Mummy ini karena seseorang bilang film nya bagus. tapi kemudian setelah keluar dari bioskop merasa menyesal...Semalam nonton film ini, paginya ane download, malem langsung nonton.. ane smpai begadang.. hasilnya? Ane Kecewa... http://fb.me/13sZi5lbC Aku takut kecewa nonton film Danur, takut ga sesuai ekspetasi ketika di buku. Mikir panjang, serius.Nonton alien : covenant di @cinema21 mall @MciMall kaya nonton bajakan parah ada yg di SKIP mati mati jelek parah!!!! Film bagus jadi jelek gue adalah orang yg jarang bgt nntn film indonesia..krn tiap nntn, gue slalu kecewa sama pembuatan film yg mnrt gue ga totalitasAwalnya agak ragu mau nonton, karena kebanyakan kecewa waktu nonton film dari adaptasi novelSebenarnya gamau berekspektasi tinggi sih dari sebuah film yang diangkat dr buku. Biasanya malah kecewa :(Ya sudah tidur saja kecewa film nya bukan yang diharepin hufySama, ane juga kecewa ma nih film, padahal udah lama nungguinKa @selliyamanto udah nonton #MembabiButa? Agak kecewa nonton film tuJenuh nonton film... hambarsesal di dada nonton ini film...Netizen membatalkan nonton film \"Kartini\" gara-gara kelakuan @therealDiSastr. http://bit.ly/2o2iRPYfilm jelek, jelas. Ga ada isinya.Itu film makin aneh ajaa ?Agak aneh film terbaru Conan, baru kali ini gk spektakuler. Tp openingnya hancurin gedung sih@askmenfess Film yang bikin emosional, bener-bener nyedot emosi.@pandji @InsyaAllahSah Film busuk dan artis dungu merusak bhinekaKecewa dgn plot cerita film dengan the guys, critanya seakan lompat ga ada proses visual yg bs bikin kta mengerti mengapa amira suka sm alfijijik banget sama film ini. apalagi pas dia jadi kelinci gede-_- nightmare parah. https://t.co/eDoiFuS8P5bnyak yg bilang film Mummy jelek, pdahl pengen nontonBanyak yang bilang, film ini jelek. Daur ulang yang gagal. Di imdb dan ratattote aja ratingnya anjlok. Tp menurutku, aku suka sama film iniNaruto adalah film paling bodoh ke-8 haha #faktanya #quoteGw ekspektasinya film ini punya kekuatan narasi yg gw bisa jadiin motivasi. Tp kalimat inspiratifnya kurang banyak heheheFilm e hambarFilm The Mummy menurut gue gak sesuai harapan, agak agak gimana gitu filmnya, weird. Dan bukan film tipe bang tom seperti biasanya -_-\"yah kirain film baru wkwk penonton kecewaaMau bilang jelek ya bilang aja, sekalipun yg buat film itu teman sendiri. Sebut \"filmya bagus\" padahal biasa aja ngga bkin tmen lu maju sih.Abis nonton King Arthur. Temen gw pesen, sblm nonton \"loh, itu film jelek katanya\" jgn selalu percaya ama pesen yg ada unsur \"KATANYA\" ..Kadang lebih gampang nilai film jelek ketimbang nilai film bagus. Mbuh.Ini film apa dah. Baru mulai udh bgni-_- jijkFilm Kartini menang pd pemain\" film yg kelas atas yg sudah punya nama. Tapi ceritany kurang dapat dan kurang riset menurut saya.Entah aku yg kurang belajar sejarah apa gimana, tapi entah kenapa konflik yg ditampilkan di film Kartini kaya kurang memenuhi ekspektasi ajaFilm itu kalau byk di sensor, rasanya g ada, hambarSemoga ga busuk kyk film yg pertamaFlm apa ini :) arah dan tujuannya nggak jelas.. Nyesel download ! Sabar... Ini ujian ! — menonton Hangout FilmHari ini nonton film terasa; hambarrKurang mengerti sama film nya the mummy..Kecewa banyak deh pkoknya.. Setidaknya mslh jam tayang bs aja ngertiin tp klu film di cut itu yg g bs dingertiin #KaulahTakdirkuMembelamuPernah novel favorit di filmkan & hasilnya bikin kecewa parah. Tp dari teaser #CriticalEleven saya yakin, team CE serius sama film iniIntinya, kmren kecewa bgt sama @cinema21 krna mmbiarkan anak kecil nnton film dewasa & jam tayang malam (20.30 WIB) pula #CriticalElevenAduh! Film bagian ini jijk parahKecewa parah nnton film the guys ini. Entah kenapa makin ksini radit bkin film gapernah bener. Lucu juga nggak. Jalan cerita juga gadapet...Agak kecewa sama film Danur, diluar ekspektasi :(Ancur bgt itu film. JelekkFlm nya jelekk bingittsss.Film hangout kok biasa aja sih, malah gak jelas sepertinya. KecewaaTernyata ending film kamar 207 jelekkFilmnya aja ngehek...... ini seriesnya ngehek juga gaKurang suka sama film #pesbukers cewe2 terllu terbuka penampilannya. Kurang baik klo di tonton anak kecilBuried ini film budget termurah dengan tingkat depresi tertinggilalu setelah film berakhir, mikir ''ngapain nonton film yang isinya anak sma semua..'' terus agak nyesel :(Gila, film Britney Ever After jelek banget parah! Nyesel nonton walau gak sampe abis.Film danur nggak seperti novelnya. Harapan lebih serem ternyata cuman bikin boring. Sorry teh, tapi novelnya lebih bagus :)ga bakal gua nonton film setan indonesia thur. mengecewakan semua. murahan cuma ngandelin sexKeren bang flm lo @radityadika persahabatan, keluarga dan cinta kentel banget. Tokoh pemain pas semua keren bangHabis nonton film Kong: Skull Island 2017. Lumayan greget filmnya, 7.5 deh.. layak buat nobarBravo untuk #filmkartini! Pemainnya bagus, sudut pandang ceritanya pun menarik. Film yang penting untuk ditonton perempuan dan juga lelaki.Abis nonton film #kartini. Bagussss bgt! Dr awal sampe akhir haruuuu#RomanHarusBertahan bangga menyukai film yg mengandung bnyak makna sperti ini.. @RompisRepost @LayarDrama_RCTITiga kata untuk film #danur : cukup, dramatis dan laris.Film kartini.. Meski aku agak telat nontonnya. film ini bagus banget...kalian sukses mendeliver cerita dan pesan.. good job guys... Aku menangis di akhir film kartini #banggafilmindonesiapokoknya kalian harus nonton film kartini, asli KEREN ! @LegacyPictures @Hanungbramantyo nonton di bioskop ya, bikinnya susah lohfilm divergent seru-_- ah kenapa udh selesai sih-,-Tentang Get Out. kalo masih ada, cepetan nonton. mending nonton ini dulu daripada Fast Furious 8 http://tz.ucweb.com/4_OaOo Saya suka video @YouTube http://youtu.be/JxTmtJ0Fc2U?a  TRAILER FILM THE GUYS (di bioskop 13 April 2017)Agak kebanyakan nangis2nya untuk selera saya, tapi secara keseluruhan sy kagum dengan film #Kartini.thank you buat mas @awisuryadi dan tim yg uda buat Danur. film nya keren banget.buat tmn2 yg belum nonton, silakan ditonton. rekomended.#DANUR film horor Indonesia terlaris sepanjang masa dengan 2.690.000 penonton sejak tayang 30 Maret 2017. #ManojPunjabi #DanurMovieBertambah lagi film Indonesia yang bakal jadi favorite. Ya, #CriticalEleven setelah baca buku & nonton. Gak kecewa. Sama2 Bagus @ikanatassanah ini. coba nonton filmnya deh. asik parah Nonton Get Out bener2 gk punya ekspektasi apa2, cuma tertarik karna ini filmnya Jordan Peele, dan puas!! Keren parah, film sakit jiwa ini.Kalo lagi nyari film comedy, ini recomended nih... Lucu parah! Asli! Cek tread ini aja, Film gak terkenal yang ternyata asik di tonton - https://kask.us/hezsL  banyak nemu film bagus disini.Sekarang lagi ada film yang bagus banget di bioskop. Judulnya Ziarah. Film Indonesia yang patut diapresiasi.Critical eleven film yang bagus. Dari cerita, pemain sampai gambarnya, semuanya bagus. Puas banget dah nontonnya.Film Ziarah sangat layak ditonton. Pengen peluk sutradaranya yang sukses mengarahkan pemeran mbah Sri - peran umur 95 thn.Dan akhirnya setelah nunggu setahun mulai juga ni film #KantiniDHijabersSatu satunya film indonesia yg gue tunggu bgt buat di tonton. Setelah liat filmnya lgsg gagal moveon. Pgn nnton lagiii #CriticalElevenTp rasa bangga-nya pasti akan berkali2 lipat kalo film perdananya bisa meledak di pasaran dan tercatat menjadi film terlaris.@CenayangFilm mbah, cucumu barusan nonton Night Bus. gila, keren gini ya. tinggal dikit lagi layarnya di bandung mbah, kasian :(film indonesia terbaik tahun lalu yang saya tonton. #ziarah diputar di bioskop 18 mei 2017. catat di hape, tonton di hari pertamanya.Dari awal sampe akhir kagum banget sama film the guys raditya dkk kocak banget @cinema21 @sorayafilms #21TheGuysQuizPapa mama aku juga ikut nonton , mereka termasuk critical sm Film Indonesia,mereka blg film ini Bagus sekali :) terimakasi @HanungbramantyoSumpah film danur bagus banget. yg ini nihh baru dapat film yang kenyataan bener,..seru bikin ngageting #DanurMovieBuat yg udah nonton The Guys. Pilihan nonton di @cinema21 lainnya adalah #Unlocked film action yg seru. Cocok buat nemenin pas long weekend.Nonton Film The Guys. Filmnya ngakak Abis ada sedihnya juga film dengan paket yg komplit hehehehe Sukses terus @radityadikaSumpah ini film bagus bngt! Nonton berkali-kali gapernah bosen film the guys sangat menginspirasi tnx bang udah buat film ini @radityadikaKalo belom nonton Kartini harus banget sih nonton! Sama film korea judulnya Obsessed tp 18+++ huehe ()Nangis itu gegara nonton film kartini (1982) yang epic banget.Dan film ZIARAH ini muatannya berlapis. Tentang hidup, tentang cinta, tentang sejarah, tentang misteri, banyak sekali yang bisa disimak.90.4| Film \"Kartini\" bisa ditonton oleh semua umur. Karena film ini selain menghibur juga mendidik dan menginspirasi #FFFFilm sejarah, jarang sekali di negara ini. Jika membaca sejarah saja kita enggan setidaknya tontonlah filmnya @Hanungbramantyo KartiniPengerjaan film #Kartini terasa sangat sungguh2. Baik dari pemain maupun produksi. Selamat ya, Mas @HanungbramantyoLapor mbah @CenayangFilm film ini keren. Worth to watch. Syukur2 bisa instrospeksi diri abis nonton.thanks for today @andibowooo :-* film #TheBossBaby bagus banget dapet feel nya dari lucu, ketawa , amazing pokonya Film Ziarah teramat sangat keren. Bangga. Layak dapat Oscar...Barusan bgt kelar nntn @filmziarah film lokal pertama yg gue tonton dan berhasil bikin nangis @bewe_bw speechless liat aktingnya @alitalit_Bahagia telah dipertemukan dengan film keren ini Film Kartini bagus bangettt!!!! Wajib ditonton!minggu lalu nonton #DANUR mau review seneng juga sih film horror Indonesia sudah bagus lagi @CenayangFilm @ScreenSaversID#FilmKartini menginspirasi untuk berjuang menjunjung nilai kebenaran, bukan dominasi penguasa dan kekakuan budaya @LegacyPictures10. Kalaupun mau bikin film horror, film Danur bisa jadi rujukan .. ringan tapi menakutkan Banyak moral yg bisa dipetik dari film wonder woman. Salah satunya adalah menjaga auratmu dr cowok hidung belang ?Berikut 5 film horor Indonesia berpendapatan tinggi dalam 10 tahun terakhir. Dapatkan tiket @DanurMovie di http://bit.ly/belidanurTrust me. #GetOut itu tipe film paling nyaman dinikmati saat kita gak tau sama sekali filmnya mau kemana. Kalau sudah baca sana-sini ya bedaNonton film #getout berbudget minim tp hasilnya sungguh tk diduga bgtu jenius smp mkir brulang apa yg sbnrnya trjadiIni salah satu film yg simple tapi hasilnya luarbiasa. Ga aneh film #GetOut dapet critical acclaim.Dan sy bahagia krn film sebagus @filmziarah ditonton oleh mrk. Kalaupun mrk ditugasi gurunya, gurunya itu bagus #filmziarahpokoknya kalian harus nonton film kartini, asli KEREN ! @LegacyPictures @Hanungbramantyo nonton di bioskop ya, bikinnya susah lohFilm Kartini bagus banget, sebelah saya sampe nangis, artinya film ini mampu memberikan keresahan pada penontonnya.Ini film keren, banyak falsafah hidup. SalutMales2an diajak liat The Guys, karena masih ngerasa duit terbang percuma pasca nonton Hangout. Eh ini beda ternyata tjoy, film ini keren.Permintaan terbuka untuk warganet Indonesia. Jikalau ada waktu + kesempatan, tontonlah film \"Ziarah\". Salah satu yg terbaik yg pernah ada~ Sampai hari ini, aku masih terngiang2 Film Critical Eleven, ya Tuhan. Betapa aku banyak belajar dr menonton itu. Hemmmmhabis liat Film kartini yg luar biasa...pemikiran dan gerakan kartini hrs di lanjutkan#filmkartini @Hanungbramantyo sangat layak utk diapresiasi tinggi. Tak ada gading yg tak retak. Tp cuma retak samar. Film ini BAGUS!Di Film Danur, justru yang membuat saya terkesan sosok Asih. Expresi yang datar, tanpa kata membuat penasaran,... http://fb.me/1uxomgQjSDanur seru bangat flm nya Yg blm nonton harap nonton #l4likeFilm-film tersebut juga cocok lho ditonton bareng anak Anda. Yuk mulai nonton lagi film berkualitas dari Indonesia #BTIndGue udah nonton bang, sumpah pecah banget nih film karena berhasil bikin mewek nontonnya ? https://t.co/e9UbwUtbQJnih film komedi lucu bangt bahasa jawa https://t.co/46I52na21l https://t.co/TopkrZd0DZAwalnya sih sempet khawatir setiap liat film adaptasi dr novel takut gak sesuai ekspektasi tp #CriticalEleven malah bikin speechless.Salah satu film yg gak pernah bikin bosen ditonton berapa kali pun: The Intern. What a lovely movie. @CenayangFilmGk nysel aku bg, uda ntn vlog mu yang the guys dri awal smpe akhir, dan akhrnya terbayarkan sama film mu bang kern kli @radityadika seriusanTadi abis nonton @GetOutMovie. Gokil sih premisnya. Keren lah itu film.@ernestprakasa Slamat koh ernes atas kemenangan film cek toko sebelahnya Kita kuat karna kita beragam bukan seragamini film keren banget bang Kekeluargaannya, cintanya, persahabatannya, komedinya dpt banget sumpah. Jadi makin cinta sama alfi. @radityadikaDan tiap scene Reza-Adinia ini selalu gold moment #CriticalEleven. Ini berdua emg dah ditakdirkan jadi pasangan plg cocok di film saat ini.Film yang keren, pemainnya menggembirakan meski banyak penonton menangis. #kartiniRT @GreatBos: Jarang nonton movie Indonesia Tapi. Yang judulnya Syahadat Cinta, bagus Pemirsa, Recommended .. Jalan ceritanya SERU! .. Hoo…ASTAGAH! FILM FAVORIT KELUAR LAGI LANJUTANNYA. Masih belun moveon dari #CriticalEleven dan ini bikin saya belajar satu hal. Buku yg diadaptasi ke film, gak bisa kita samakan kualitasnyaSudah nonton Critical Eleven. Menyenangkan kok, masuk kategori film Indonesia yang wajib tonton lah.nah ini. coba nonton filmnya deh. asik parah @unaazizah @yanskii Film kerenLebih suka film yang bentar tapi menarik #DhikeFactga sabar nunggu Bluray nya. pasti banyak special feature yang keren. lebih lucu kalo ada bloopernyaFilm The Guys wajib ditonton bagi kamu yang sayang orang tua, sahabat yang baik, creatif dan cinta kebebasan. Kereen bgt kak @radityadikaFilm The guys nya keren abiss bang @radityadika . Lucu dapet, romance nya dapet, dan sedih nya juga dapet.41 Vlog dan nunggu 22 hari setelah tanggal rilis baru nonton, kece banget, cerita yang tak tertebak sama sekali. Film THE GUYS @radityadikaKmrn nonton film THE GUYS di situ bener2 ngerasain bgt bahwa sahabat lebih dari segala2''y knapa bang kalau bkn film sllu keren @radityadikaKartini... pemamarannya sangat sederhana dan apa adanya yang justru membuat film ini sangat enak untuk dinikmati @HanungbramantyoAbis ntn film Kartini. Bnr2 menginspirasi dan makin membuka pikiran.baru nonton Kartini, salah satu film nasional yg sangat recommended untuk ditonton. saya nangis, campur aduk rasanya :'')Film Kartini *sangat niat banget lihat film ini dan keren sekali dimana banyak scene2 yg sy harus menitikkan air mata #filmkartini #kartini KARTINI adalah salah satu film Indonesia bertema sejarah terbaik yg pernah dibuat. Digarap dgn serius dan tema msh relevan dgn kondisi skrg.harusnya memang begini... Film kartini memang harus di tonton generasi muda http://fb.me/6tQqDGGLJ Menurutku danur bagus dan cukup bangga dengan film horor hasil karya bangsa iniFargo juga adaptasi dari film yang cukup berhasil. Season 1-nya the best! https://t.co/tkEEK3Evs9637.000 waw ini sangat keren flm horor dng jumlah penonton segini dlm waktu 4 hari @prillybie @danurmovie@filmziarah film yang tenang dan menghanyutkan. Salut dengan Mbah Ponco yg bisa membawakan karakter Mbah Sri dengan sangat baik. #FilmZiarahFilm yg amat menarik. Kisah cinta & kesetiaan yg disajikan secara tidak biasa. Bikin kgn nenek. Recomended movie @filmziarah #meiberziarahNntn @filmziarah , film bagus, ada kali 5 menit penonton gak beranjak tetep ngliatin layar pdhl film dah selesai, msh spicles sm endingnya to numeric\n"
          ]
        }
      ]
    },
    {
      "cell_type": "code",
      "execution_count": 67,
      "metadata": {
        "colab": {
          "base_uri": "https://localhost:8080/"
        },
        "id": "zvqzsl49MheB",
        "outputId": "7c70efd2-0f9c-4b86-b81e-fe42f162f9e3"
      },
      "outputs": [
        {
          "output_type": "execute_result",
          "data": {
            "text/plain": [
              "nah ini. coba nonton filmnya deh. asik parah                                                                                                  2\n",
              "pokoknya kalian harus nonton film kartini, asli KEREN ! @LegacyPictures @Hanungbramantyo nonton di bioskop ya, bikinnya susah loh             2\n",
              "Jelek filmnya... apalagi si ernest gak mutu bgt actingnya... film sampah                                                                      1\n",
              "Dan film ZIARAH ini muatannya berlapis. Tentang hidup, tentang cinta, tentang sejarah, tentang misteri, banyak sekali yang bisa disimak.      1\n",
              "film indonesia terbaik tahun lalu yang saya tonton. #ziarah diputar di bioskop 18 mei 2017. catat di hape, tonton di hari pertamanya.         1\n",
              "                                                                                                                                             ..\n",
              "Gw ekspektasinya film ini punya kekuatan narasi yg gw bisa jadiin motivasi. Tp kalimat inspiratifnya kurang banyak hehehe                     1\n",
              "Film e hambar                                                                                                                                 1\n",
              "Film The Mummy menurut gue gak sesuai harapan, agak agak gimana gitu filmnya, weird. Dan bukan film tipe bang tom seperti biasanya -_-\"       1\n",
              "yah kirain film baru wkwk penonton kecewaa                                                                                                    1\n",
              "Nntn @filmziarah , film bagus, ada kali 5 menit penonton gak beranjak tetep ngliatin layar pdhl film dah selesai, msh spicles sm endingnya    1\n",
              "Name: Text Tweet, Length: 198, dtype: int64"
            ]
          },
          "metadata": {},
          "execution_count": 67
        }
      ],
      "source": [
        "dataset_label.value_counts()"
      ]
    },
    {
      "cell_type": "markdown",
      "metadata": {
        "id": "AjkdN3kOMk_I"
      },
      "source": [
        "# Ekstraksi Fitur dan Machine Learning"
      ]
    },
    {
      "cell_type": "code",
      "execution_count": 52,
      "metadata": {
        "id": "-aMoIuqfMkYK"
      },
      "outputs": [],
      "source": [
        "from sklearn.model_selection import GridSearchCV\n",
        "from sklearn.metrics import accuracy_score\n",
        "from sklearn.metrics import recall_score\n",
        "from sklearn.metrics import f1_score\n",
        "from sklearn.metrics import precision_score\n",
        "from sklearn.model_selection import train_test_split"
      ]
    },
    {
      "cell_type": "code",
      "execution_count": 53,
      "metadata": {
        "id": "JDw5U3eRMx1K"
      },
      "outputs": [],
      "source": [
        "train_x, test_x, train_label, test_label = train_test_split(dataset_feature, dataset_label, test_size = 0.3, random_state=42)"
      ]
    },
    {
      "cell_type": "code",
      "execution_count": 54,
      "metadata": {
        "id": "sx_eFuRz1zNq",
        "outputId": "165f6636-67c0-446f-d458-24ddf39463a3",
        "colab": {
          "base_uri": "https://localhost:8080/"
        }
      },
      "outputs": [
        {
          "output_type": "execute_result",
          "data": {
            "text/plain": [
              "95       buried film budget murah tingkat depresi tinggi\n",
              "15     habis nonton the guys kecewa nonton film repea...\n",
              "30     nggak salah akting prilly film danur oke oke g...\n",
              "158    males2an ajak lihat the guys ngerasa duit terb...\n",
              "128    kagum banget film the guys raditya dkk kocak b...\n",
              "115    tambah film indonesia favorite iya hashtag cri...\n",
              "69                                           film hambar\n",
              "170    nysel bg nonton vlog mu the guys akhrnya bayar...\n",
              "174    scene reza adinia gold moment hashtag critical...\n",
              "45     nonton the mummy bilang film nya bagus bioskop...\n",
              "66     bilang film jelek daur ulang gagal imdb ratatt...\n",
              "182    suka film sebentar tarik hashtag dhike fact ha...\n",
              "165    film film cocok lho tonton bareng anak ayo non...\n",
              "78                                    film sensor hambar\n",
              "186    number vlog nunggu number tanggal rilis nonton...\n",
              "177    allcaps astagah allcaps allcaps film favorit l...\n",
              "56                       sesal dada nonton film repeated\n",
              "152    nonton film hashtag get out hashtag berbudget ...\n",
              "82                      erti film nya the mummy repeated\n",
              "68     ekspektasinya film kuat narasi jadi motivasi k...\n",
              "124    satu film indonesia tunggu banget tonton lihat...\n",
              "16              nonton film alien kecewa iya ragu nonton\n",
              "148    number film horror film danur rujuk repeated r...\n",
              "93                 film ngehek repeated seriesnya ngehek\n",
              "65            bnyak bilang film mummy jelek pdahl nonton\n",
              "60     aneh film baru conan kali spektakuler openingn...\n",
              "84     novel favorit film hasil kecewa parah teaser h...\n",
              "67     naruto film bodoh number haha hashtag fak hash...\n",
              "125    bangga nya berkali2 lipat film perdana ledak p...\n",
              "132    nonton film the guys film ngakak sedih film pa...\n",
              "9      hashtag the mummy hashtag number film memgecew...\n",
              "18     film bilang bagus repeated kelompok kasih harg...\n",
              "55                     jenuh nonton film repeated hambar\n",
              "75                                        film bgni jijk\n",
              "150    number film horor indonesia dapat number dapat...\n",
              "104    hashtag roman tahan hashtag bangga suka film k...\n",
              "135    nang gegara nonton film kartini number epic ba...\n",
              "137    number film kartini tonton umur film hibur did...\n",
              "164    danur seru bangat flm nya nonton harap nonton ...\n",
              "76     film kartini menang main film kelas nama cerit...\n",
              "79                                 moga busuk kayak film\n",
              "197    user film tenang hanyut bangga mbah ponco bawa...\n",
              "38     respect laku sih dian sastro repeated film ham...\n",
              "24                              adegan potong rusak film\n",
              "122    film ziarah layak tonton peluk sutradara sukse...\n",
              "195    fargo adaptasi film hasil season number nya th...\n",
              "29                bahas film angkat novel film puas gitu\n",
              "19      sudah hidup singkat dihabisken tonton film jelek\n",
              "143    barusan banget selesai nntn user film lokal to...\n",
              "86                                  aduh film jijk parah\n",
              "114    hashtag danur hashtag film horor indonesia lar...\n",
              "173    film keren banget bang keluarga cinta sahabat ...\n",
              "5      tolong editingnya bagus iya kecewa film indone...\n",
              "126    user mbah cucu barusan nonton night bus gila k...\n",
              "117    nonton get out bener2 ekspektasi apa2 tarik fi...\n",
              "73     nonton king arthur teman pesan sblm nonton loh...\n",
              "140    lapor mbah user film keren worth to watch syuk...\n",
              "98     film danur nggak novel harap rem boring sorry ...\n",
              "172    user slamat koh ernes menang film cek toko bel...\n",
              "96     film mikir ngapain nonton film isi anak repeat...\n",
              "Name: ProcessedText, dtype: object"
            ]
          },
          "metadata": {},
          "execution_count": 54
        }
      ],
      "source": [
        "test_x"
      ]
    },
    {
      "cell_type": "markdown",
      "metadata": {
        "id": "vPvBu0LrM0oD"
      },
      "source": [
        "## load TF-IDF"
      ]
    },
    {
      "cell_type": "code",
      "execution_count": 55,
      "metadata": {
        "id": "XwzScubZMzgY"
      },
      "outputs": [],
      "source": [
        "from sklearn.feature_extraction.text import TfidfVectorizer\n",
        "Tfidf_Vectorizer = TfidfVectorizer()"
      ]
    },
    {
      "cell_type": "markdown",
      "metadata": {
        "id": "sYaLrOg2M5AP"
      },
      "source": [
        "## Naive Bayes"
      ]
    },
    {
      "cell_type": "code",
      "execution_count": 56,
      "metadata": {
        "id": "2i-BhMXXM4FS"
      },
      "outputs": [],
      "source": [
        "from sklearn.naive_bayes import MultinomialNB"
      ]
    },
    {
      "cell_type": "code",
      "execution_count": 57,
      "metadata": {
        "id": "2qSlLSEGM7sa"
      },
      "outputs": [],
      "source": [
        "from sklearn.pipeline import Pipeline\n",
        "classifier_nb = Pipeline([\n",
        "    ('tfidf', TfidfVectorizer()),\n",
        "    ('model', MultinomialNB()),\n",
        "])"
      ]
    },
    {
      "cell_type": "code",
      "execution_count": 58,
      "metadata": {
        "id": "brvxUKO0M87t"
      },
      "outputs": [],
      "source": [
        "parameters_nb = {\n",
        "    'tfidf__ngram_range': [(1, 1), (1, 2), (1, 3), (1, 4)],\n",
        "    'model__alpha': (0.0001, 0.001, 0.1, 1, 10, 100)\n",
        "}"
      ]
    },
    {
      "cell_type": "code",
      "execution_count": 59,
      "metadata": {
        "id": "UEQHo9ZoNACG"
      },
      "outputs": [],
      "source": [
        "classifier_nb = GridSearchCV(classifier_nb, parameters_nb, cv = 3, n_jobs=-1)"
      ]
    },
    {
      "cell_type": "code",
      "source": [
        "from sklearn.feature_extraction.text import TfidfVectorizer\n",
        "\n",
        "# Assuming X_train is a 1D array (e.g., a single column of a DataFrame or a pandas Series)\n",
        "text_data = X_train.astype(str)\n",
        "\n",
        "# Initialize the TF-IDF vectorizer\n",
        "tfidf_vectorizer = TfidfVectorizer()\n",
        "\n",
        "# Transform the text data into TF-IDF features\n",
        "X_train_tfidf = tfidf_vectorizer.fit_transform(text_data)\n",
        "\n",
        "# Initialize your classifier (e.g., Naive Bayes)\n",
        "classifier_nb = GaussianNB()\n",
        "\n",
        "# Fit the classifier using the TF-IDF features\n",
        "classifier_nb.fit(X_train_tfidf.toarray(), y_train)\n"
      ],
      "metadata": {
        "colab": {
          "base_uri": "https://localhost:8080/",
          "height": 74
        },
        "id": "HKQj33QgAQ2u",
        "outputId": "6d865a96-1ef2-4b87-e945-cfa9e118c663"
      },
      "execution_count": 85,
      "outputs": [
        {
          "output_type": "execute_result",
          "data": {
            "text/plain": [
              "GaussianNB()"
            ],
            "text/html": [
              "<style>#sk-container-id-1 {color: black;background-color: white;}#sk-container-id-1 pre{padding: 0;}#sk-container-id-1 div.sk-toggleable {background-color: white;}#sk-container-id-1 label.sk-toggleable__label {cursor: pointer;display: block;width: 100%;margin-bottom: 0;padding: 0.3em;box-sizing: border-box;text-align: center;}#sk-container-id-1 label.sk-toggleable__label-arrow:before {content: \"▸\";float: left;margin-right: 0.25em;color: #696969;}#sk-container-id-1 label.sk-toggleable__label-arrow:hover:before {color: black;}#sk-container-id-1 div.sk-estimator:hover label.sk-toggleable__label-arrow:before {color: black;}#sk-container-id-1 div.sk-toggleable__content {max-height: 0;max-width: 0;overflow: hidden;text-align: left;background-color: #f0f8ff;}#sk-container-id-1 div.sk-toggleable__content pre {margin: 0.2em;color: black;border-radius: 0.25em;background-color: #f0f8ff;}#sk-container-id-1 input.sk-toggleable__control:checked~div.sk-toggleable__content {max-height: 200px;max-width: 100%;overflow: auto;}#sk-container-id-1 input.sk-toggleable__control:checked~label.sk-toggleable__label-arrow:before {content: \"▾\";}#sk-container-id-1 div.sk-estimator input.sk-toggleable__control:checked~label.sk-toggleable__label {background-color: #d4ebff;}#sk-container-id-1 div.sk-label input.sk-toggleable__control:checked~label.sk-toggleable__label {background-color: #d4ebff;}#sk-container-id-1 input.sk-hidden--visually {border: 0;clip: rect(1px 1px 1px 1px);clip: rect(1px, 1px, 1px, 1px);height: 1px;margin: -1px;overflow: hidden;padding: 0;position: absolute;width: 1px;}#sk-container-id-1 div.sk-estimator {font-family: monospace;background-color: #f0f8ff;border: 1px dotted black;border-radius: 0.25em;box-sizing: border-box;margin-bottom: 0.5em;}#sk-container-id-1 div.sk-estimator:hover {background-color: #d4ebff;}#sk-container-id-1 div.sk-parallel-item::after {content: \"\";width: 100%;border-bottom: 1px solid gray;flex-grow: 1;}#sk-container-id-1 div.sk-label:hover label.sk-toggleable__label {background-color: #d4ebff;}#sk-container-id-1 div.sk-serial::before {content: \"\";position: absolute;border-left: 1px solid gray;box-sizing: border-box;top: 0;bottom: 0;left: 50%;z-index: 0;}#sk-container-id-1 div.sk-serial {display: flex;flex-direction: column;align-items: center;background-color: white;padding-right: 0.2em;padding-left: 0.2em;position: relative;}#sk-container-id-1 div.sk-item {position: relative;z-index: 1;}#sk-container-id-1 div.sk-parallel {display: flex;align-items: stretch;justify-content: center;background-color: white;position: relative;}#sk-container-id-1 div.sk-item::before, #sk-container-id-1 div.sk-parallel-item::before {content: \"\";position: absolute;border-left: 1px solid gray;box-sizing: border-box;top: 0;bottom: 0;left: 50%;z-index: -1;}#sk-container-id-1 div.sk-parallel-item {display: flex;flex-direction: column;z-index: 1;position: relative;background-color: white;}#sk-container-id-1 div.sk-parallel-item:first-child::after {align-self: flex-end;width: 50%;}#sk-container-id-1 div.sk-parallel-item:last-child::after {align-self: flex-start;width: 50%;}#sk-container-id-1 div.sk-parallel-item:only-child::after {width: 0;}#sk-container-id-1 div.sk-dashed-wrapped {border: 1px dashed gray;margin: 0 0.4em 0.5em 0.4em;box-sizing: border-box;padding-bottom: 0.4em;background-color: white;}#sk-container-id-1 div.sk-label label {font-family: monospace;font-weight: bold;display: inline-block;line-height: 1.2em;}#sk-container-id-1 div.sk-label-container {text-align: center;}#sk-container-id-1 div.sk-container {/* jupyter's `normalize.less` sets `[hidden] { display: none; }` but bootstrap.min.css set `[hidden] { display: none !important; }` so we also need the `!important` here to be able to override the default hidden behavior on the sphinx rendered scikit-learn.org. See: https://github.com/scikit-learn/scikit-learn/issues/21755 */display: inline-block !important;position: relative;}#sk-container-id-1 div.sk-text-repr-fallback {display: none;}</style><div id=\"sk-container-id-1\" class=\"sk-top-container\"><div class=\"sk-text-repr-fallback\"><pre>GaussianNB()</pre><b>In a Jupyter environment, please rerun this cell to show the HTML representation or trust the notebook. <br />On GitHub, the HTML representation is unable to render, please try loading this page with nbviewer.org.</b></div><div class=\"sk-container\" hidden><div class=\"sk-item\"><div class=\"sk-estimator sk-toggleable\"><input class=\"sk-toggleable__control sk-hidden--visually\" id=\"sk-estimator-id-1\" type=\"checkbox\" checked><label for=\"sk-estimator-id-1\" class=\"sk-toggleable__label sk-toggleable__label-arrow\">GaussianNB</label><div class=\"sk-toggleable__content\"><pre>GaussianNB()</pre></div></div></div></div></div>"
            ]
          },
          "metadata": {},
          "execution_count": 85
        }
      ]
    },
    {
      "cell_type": "code",
      "source": [
        "# Cek kolom-kolom yang ada di DataFrame\n",
        "print(df.columns)\n",
        "\n",
        "# Periksa apakah 'step01' ada di DataFrame\n",
        "if 'step01' in df.columns:\n",
        "    # Lakukan operasi dengan kolom 'step01'\n",
        "    text_data_test = df['step01'].astype(str)\n",
        "    # ... lanjutkan dengan kode Anda ...\n",
        "else:\n",
        "    print(\"Kolom 'step01' tidak ditemukan di DataFrame.\")"
      ],
      "metadata": {
        "colab": {
          "base_uri": "https://localhost:8080/"
        },
        "id": "rA-AQPjMFDvT",
        "outputId": "df450daf-02b7-4b15-f41e-ba6e23fdd49b"
      },
      "execution_count": 109,
      "outputs": [
        {
          "output_type": "stream",
          "name": "stdout",
          "text": [
            "Index(['Id', 'Text Tweet', 'step01'], dtype='object')\n"
          ]
        }
      ]
    },
    {
      "cell_type": "code",
      "source": [
        "from sklearn.metrics import accuracy_score\n",
        "\n",
        "# Make predictions on the training set\n",
        "y_pred_nb_train = classifier_nb.predict(X_train_tfidf.toarray())\n",
        "\n",
        "# Calculate accuracy on the training set\n",
        "accuracy_nb_train = accuracy_score(y_train, y_pred_nb_train)\n",
        "print(\"Accuracy Training set: \", accuracy_nb_train)\n"
      ],
      "metadata": {
        "colab": {
          "base_uri": "https://localhost:8080/"
        },
        "id": "Qf0UDO4JBgTE",
        "outputId": "630fb517-09bd-4af5-d46d-c2691eeae43b"
      },
      "execution_count": 95,
      "outputs": [
        {
          "output_type": "stream",
          "name": "stdout",
          "text": [
            "Accuracy Training set:  1.0\n"
          ]
        }
      ]
    },
    {
      "cell_type": "code",
      "source": [
        "from sklearn.metrics import accuracy_score\n",
        "\n",
        "# Make predictions on the training set\n",
        "y_pred_nb_test = classifier_nb.predict(X_train_tfidf.toarray())\n",
        "\n",
        "# Calculate accuracy on the training set\n",
        "accuracy_nb_test = accuracy_score(y_train, y_pred_nb_train)\n",
        "print(\"Accuracy Test set: \", accuracy_nb_test)"
      ],
      "metadata": {
        "colab": {
          "base_uri": "https://localhost:8080/"
        },
        "id": "1txpOuObEwRY",
        "outputId": "b3978854-b2dd-4c0a-e3b3-5dfd2814db48"
      },
      "execution_count": 108,
      "outputs": [
        {
          "output_type": "stream",
          "name": "stdout",
          "text": [
            "Accuracy Test set:  1.0\n"
          ]
        }
      ]
    },
    {
      "cell_type": "code",
      "source": [
        "from sklearn.metrics import precision_score\n",
        "\n",
        "# Make predictions on the training set\n",
        "y_pred_nb_train = classifier_nb.predict(X_train_tfidf.toarray())\n",
        "\n",
        "# Calculate accuracy on the training set\n",
        "precision_nb_train = accuracy_score(y_train, y_pred_nb_train)\n",
        "print(\"Precision Training set: \", precision_nb_train)"
      ],
      "metadata": {
        "colab": {
          "base_uri": "https://localhost:8080/"
        },
        "id": "rkQTGFQiFMax",
        "outputId": "afe304da-715a-4cb8-9f96-9ec2ca98a2cf"
      },
      "execution_count": 120,
      "outputs": [
        {
          "output_type": "stream",
          "name": "stdout",
          "text": [
            "Precision Training set:  1.0\n"
          ]
        }
      ]
    },
    {
      "cell_type": "code",
      "source": [
        "from sklearn.metrics import precision_score\n",
        "\n",
        "# Make predictions on the training set\n",
        "y_pred_nb_test = classifier_nb.predict(X_train_tfidf.toarray())\n",
        "\n",
        "# Calculate accuracy on the training set\n",
        "precision_nb_test = accuracy_score(y_train, y_pred_nb_test)\n",
        "print(\"Precision Test set: \", precision_nb_test)"
      ],
      "metadata": {
        "colab": {
          "base_uri": "https://localhost:8080/"
        },
        "id": "L7bwEdMkJCmS",
        "outputId": "46dff380-396e-42a8-e032-e5613ab1faaf"
      },
      "execution_count": 124,
      "outputs": [
        {
          "output_type": "stream",
          "name": "stdout",
          "text": [
            "Precision Test set:  1.0\n"
          ]
        }
      ]
    },
    {
      "cell_type": "code",
      "execution_count": 2,
      "metadata": {
        "colab": {
          "base_uri": "https://localhost:8080/",
          "height": 245
        },
        "id": "-9gyuq9rNHWf",
        "outputId": "445cd092-8a17-4598-c3a5-a501cc8e2f80"
      },
      "outputs": [
        {
          "output_type": "error",
          "ename": "NameError",
          "evalue": "ignored",
          "traceback": [
            "\u001b[0;31m---------------------------------------------------------------------------\u001b[0m",
            "\u001b[0;31mNameError\u001b[0m                                 Traceback (most recent call last)",
            "\u001b[0;32m<ipython-input-2-4ff47d29eb55>\u001b[0m in \u001b[0;36m<cell line: 1>\u001b[0;34m()\u001b[0m\n\u001b[0;32m----> 1\u001b[0;31m \u001b[0mf1_nb_train\u001b[0m \u001b[0;34m=\u001b[0m \u001b[0mf1_score\u001b[0m\u001b[0;34m(\u001b[0m\u001b[0mtrain_label\u001b[0m\u001b[0;34m,\u001b[0m \u001b[0my_pred_nb_train\u001b[0m\u001b[0;34m,\u001b[0m \u001b[0maverage\u001b[0m\u001b[0;34m=\u001b[0m\u001b[0;34m'weighted'\u001b[0m\u001b[0;34m)\u001b[0m\u001b[0;34m\u001b[0m\u001b[0;34m\u001b[0m\u001b[0m\n\u001b[0m\u001b[1;32m      2\u001b[0m \u001b[0mprint\u001b[0m\u001b[0;34m(\u001b[0m\u001b[0;34m\"F1 Training set: \"\u001b[0m\u001b[0;34m,\u001b[0m \u001b[0mf1_nb_train\u001b[0m\u001b[0;34m)\u001b[0m\u001b[0;34m\u001b[0m\u001b[0;34m\u001b[0m\u001b[0m\n\u001b[1;32m      3\u001b[0m \u001b[0;34m\u001b[0m\u001b[0m\n\u001b[1;32m      4\u001b[0m \u001b[0mf1_nb_test\u001b[0m \u001b[0;34m=\u001b[0m \u001b[0mf1_score\u001b[0m\u001b[0;34m(\u001b[0m\u001b[0mtest_label\u001b[0m\u001b[0;34m,\u001b[0m \u001b[0my_pred_nb_test\u001b[0m\u001b[0;34m,\u001b[0m \u001b[0maverage\u001b[0m\u001b[0;34m=\u001b[0m\u001b[0;34m'weighted'\u001b[0m\u001b[0;34m)\u001b[0m\u001b[0;34m\u001b[0m\u001b[0;34m\u001b[0m\u001b[0m\n\u001b[1;32m      5\u001b[0m \u001b[0mprint\u001b[0m\u001b[0;34m(\u001b[0m\u001b[0;34m\"F1 Test set: \"\u001b[0m\u001b[0;34m,\u001b[0m \u001b[0mf1_nb_test\u001b[0m\u001b[0;34m)\u001b[0m\u001b[0;34m\u001b[0m\u001b[0;34m\u001b[0m\u001b[0m\n",
            "\u001b[0;31mNameError\u001b[0m: name 'f1_score' is not defined"
          ]
        }
      ],
      "source": [
        "f1_nb_train = f1_score(train_label, y_pred_nb_train, average='weighted')\n",
        "print(\"F1 Training set: \", f1_nb_train)\n",
        "\n",
        "f1_nb_test = f1_score(test_label, y_pred_nb_test, average='weighted')\n",
        "print(\"F1 Test set: \", f1_nb_test)"
      ]
    },
    {
      "cell_type": "code",
      "execution_count": 118,
      "metadata": {
        "colab": {
          "base_uri": "https://localhost:8080/",
          "height": 391
        },
        "id": "-zZjJnhVNIjD",
        "outputId": "04970d11-c581-4512-8fe3-bf9754429775"
      },
      "outputs": [
        {
          "output_type": "error",
          "ename": "ValueError",
          "evalue": "ignored",
          "traceback": [
            "\u001b[0;31m---------------------------------------------------------------------------\u001b[0m",
            "\u001b[0;31mValueError\u001b[0m                                Traceback (most recent call last)",
            "\u001b[0;32m<ipython-input-118-6b9b5839d5b3>\u001b[0m in \u001b[0;36m<cell line: 2>\u001b[0;34m()\u001b[0m\n\u001b[1;32m      1\u001b[0m \u001b[0;32mfrom\u001b[0m \u001b[0msklearn\u001b[0m\u001b[0;34m.\u001b[0m\u001b[0mmetrics\u001b[0m \u001b[0;32mimport\u001b[0m \u001b[0mconfusion_matrix\u001b[0m\u001b[0;34m\u001b[0m\u001b[0;34m\u001b[0m\u001b[0m\n\u001b[0;32m----> 2\u001b[0;31m \u001b[0msns\u001b[0m\u001b[0;34m.\u001b[0m\u001b[0mheatmap\u001b[0m\u001b[0;34m(\u001b[0m\u001b[0mconfusion_matrix\u001b[0m\u001b[0;34m(\u001b[0m\u001b[0mtest_label\u001b[0m\u001b[0;34m,\u001b[0m \u001b[0my_pred_nb_test\u001b[0m\u001b[0;34m)\u001b[0m\u001b[0;34m,\u001b[0m \u001b[0mannot\u001b[0m\u001b[0;34m=\u001b[0m\u001b[0;32mTrue\u001b[0m\u001b[0;34m,\u001b[0m \u001b[0mcmap\u001b[0m \u001b[0;34m=\u001b[0m \u001b[0;34m'viridis'\u001b[0m\u001b[0;34m,\u001b[0m \u001b[0mfmt\u001b[0m\u001b[0;34m=\u001b[0m\u001b[0;34m'.0f'\u001b[0m\u001b[0;34m)\u001b[0m\u001b[0;34m\u001b[0m\u001b[0;34m\u001b[0m\u001b[0m\n\u001b[0m\u001b[1;32m      3\u001b[0m \u001b[0mplt\u001b[0m\u001b[0;34m.\u001b[0m\u001b[0mxlabel\u001b[0m\u001b[0;34m(\u001b[0m\u001b[0;34m\"Predicted values\"\u001b[0m\u001b[0;34m,\u001b[0m \u001b[0mfontdict\u001b[0m \u001b[0;34m=\u001b[0m \u001b[0;34m{\u001b[0m\u001b[0;34m'size'\u001b[0m\u001b[0;34m:\u001b[0m\u001b[0;36m14\u001b[0m\u001b[0;34m}\u001b[0m\u001b[0;34m,\u001b[0m \u001b[0mlabelpad\u001b[0m \u001b[0;34m=\u001b[0m \u001b[0;36m10\u001b[0m\u001b[0;34m)\u001b[0m\u001b[0;34m\u001b[0m\u001b[0;34m\u001b[0m\u001b[0m\n\u001b[1;32m      4\u001b[0m \u001b[0mplt\u001b[0m\u001b[0;34m.\u001b[0m\u001b[0mylabel\u001b[0m\u001b[0;34m(\u001b[0m\u001b[0;34m\"Actual values\"\u001b[0m   \u001b[0;34m,\u001b[0m \u001b[0mfontdict\u001b[0m \u001b[0;34m=\u001b[0m \u001b[0;34m{\u001b[0m\u001b[0;34m'size'\u001b[0m\u001b[0;34m:\u001b[0m\u001b[0;36m14\u001b[0m\u001b[0;34m}\u001b[0m\u001b[0;34m,\u001b[0m \u001b[0mlabelpad\u001b[0m \u001b[0;34m=\u001b[0m \u001b[0;36m10\u001b[0m\u001b[0;34m)\u001b[0m\u001b[0;34m\u001b[0m\u001b[0;34m\u001b[0m\u001b[0m\n\u001b[1;32m      5\u001b[0m \u001b[0mplt\u001b[0m\u001b[0;34m.\u001b[0m\u001b[0mtitle\u001b[0m \u001b[0;34m(\u001b[0m\u001b[0;34m\"Confusion Matrix\"\u001b[0m\u001b[0;34m,\u001b[0m \u001b[0mfontdict\u001b[0m \u001b[0;34m=\u001b[0m \u001b[0;34m{\u001b[0m\u001b[0;34m'size'\u001b[0m\u001b[0;34m:\u001b[0m\u001b[0;36m18\u001b[0m\u001b[0;34m}\u001b[0m\u001b[0;34m,\u001b[0m \u001b[0mpad\u001b[0m \u001b[0;34m=\u001b[0m \u001b[0;36m20\u001b[0m\u001b[0;34m)\u001b[0m\u001b[0;34m\u001b[0m\u001b[0;34m\u001b[0m\u001b[0m\n",
            "\u001b[0;32m/usr/local/lib/python3.10/dist-packages/sklearn/metrics/_classification.py\u001b[0m in \u001b[0;36mconfusion_matrix\u001b[0;34m(y_true, y_pred, labels, sample_weight, normalize)\u001b[0m\n\u001b[1;32m    315\u001b[0m     \u001b[0;34m(\u001b[0m\u001b[0;36m0\u001b[0m\u001b[0;34m,\u001b[0m \u001b[0;36m2\u001b[0m\u001b[0;34m,\u001b[0m \u001b[0;36m1\u001b[0m\u001b[0;34m,\u001b[0m \u001b[0;36m1\u001b[0m\u001b[0;34m)\u001b[0m\u001b[0;34m\u001b[0m\u001b[0;34m\u001b[0m\u001b[0m\n\u001b[1;32m    316\u001b[0m     \"\"\"\n\u001b[0;32m--> 317\u001b[0;31m     \u001b[0my_type\u001b[0m\u001b[0;34m,\u001b[0m \u001b[0my_true\u001b[0m\u001b[0;34m,\u001b[0m \u001b[0my_pred\u001b[0m \u001b[0;34m=\u001b[0m \u001b[0m_check_targets\u001b[0m\u001b[0;34m(\u001b[0m\u001b[0my_true\u001b[0m\u001b[0;34m,\u001b[0m \u001b[0my_pred\u001b[0m\u001b[0;34m)\u001b[0m\u001b[0;34m\u001b[0m\u001b[0;34m\u001b[0m\u001b[0m\n\u001b[0m\u001b[1;32m    318\u001b[0m     \u001b[0;32mif\u001b[0m \u001b[0my_type\u001b[0m \u001b[0;32mnot\u001b[0m \u001b[0;32min\u001b[0m \u001b[0;34m(\u001b[0m\u001b[0;34m\"binary\"\u001b[0m\u001b[0;34m,\u001b[0m \u001b[0;34m\"multiclass\"\u001b[0m\u001b[0;34m)\u001b[0m\u001b[0;34m:\u001b[0m\u001b[0;34m\u001b[0m\u001b[0;34m\u001b[0m\u001b[0m\n\u001b[1;32m    319\u001b[0m         \u001b[0;32mraise\u001b[0m \u001b[0mValueError\u001b[0m\u001b[0;34m(\u001b[0m\u001b[0;34m\"%s is not supported\"\u001b[0m \u001b[0;34m%\u001b[0m \u001b[0my_type\u001b[0m\u001b[0;34m)\u001b[0m\u001b[0;34m\u001b[0m\u001b[0;34m\u001b[0m\u001b[0m\n",
            "\u001b[0;32m/usr/local/lib/python3.10/dist-packages/sklearn/metrics/_classification.py\u001b[0m in \u001b[0;36m_check_targets\u001b[0;34m(y_true, y_pred)\u001b[0m\n\u001b[1;32m     84\u001b[0m     \u001b[0my_pred\u001b[0m \u001b[0;34m:\u001b[0m \u001b[0marray\u001b[0m \u001b[0;32mor\u001b[0m \u001b[0mindicator\u001b[0m \u001b[0mmatrix\u001b[0m\u001b[0;34m\u001b[0m\u001b[0;34m\u001b[0m\u001b[0m\n\u001b[1;32m     85\u001b[0m     \"\"\"\n\u001b[0;32m---> 86\u001b[0;31m     \u001b[0mcheck_consistent_length\u001b[0m\u001b[0;34m(\u001b[0m\u001b[0my_true\u001b[0m\u001b[0;34m,\u001b[0m \u001b[0my_pred\u001b[0m\u001b[0;34m)\u001b[0m\u001b[0;34m\u001b[0m\u001b[0;34m\u001b[0m\u001b[0m\n\u001b[0m\u001b[1;32m     87\u001b[0m     \u001b[0mtype_true\u001b[0m \u001b[0;34m=\u001b[0m \u001b[0mtype_of_target\u001b[0m\u001b[0;34m(\u001b[0m\u001b[0my_true\u001b[0m\u001b[0;34m,\u001b[0m \u001b[0minput_name\u001b[0m\u001b[0;34m=\u001b[0m\u001b[0;34m\"y_true\"\u001b[0m\u001b[0;34m)\u001b[0m\u001b[0;34m\u001b[0m\u001b[0;34m\u001b[0m\u001b[0m\n\u001b[1;32m     88\u001b[0m     \u001b[0mtype_pred\u001b[0m \u001b[0;34m=\u001b[0m \u001b[0mtype_of_target\u001b[0m\u001b[0;34m(\u001b[0m\u001b[0my_pred\u001b[0m\u001b[0;34m,\u001b[0m \u001b[0minput_name\u001b[0m\u001b[0;34m=\u001b[0m\u001b[0;34m\"y_pred\"\u001b[0m\u001b[0;34m)\u001b[0m\u001b[0;34m\u001b[0m\u001b[0;34m\u001b[0m\u001b[0m\n",
            "\u001b[0;32m/usr/local/lib/python3.10/dist-packages/sklearn/utils/validation.py\u001b[0m in \u001b[0;36mcheck_consistent_length\u001b[0;34m(*arrays)\u001b[0m\n\u001b[1;32m    395\u001b[0m     \u001b[0muniques\u001b[0m \u001b[0;34m=\u001b[0m \u001b[0mnp\u001b[0m\u001b[0;34m.\u001b[0m\u001b[0munique\u001b[0m\u001b[0;34m(\u001b[0m\u001b[0mlengths\u001b[0m\u001b[0;34m)\u001b[0m\u001b[0;34m\u001b[0m\u001b[0;34m\u001b[0m\u001b[0m\n\u001b[1;32m    396\u001b[0m     \u001b[0;32mif\u001b[0m \u001b[0mlen\u001b[0m\u001b[0;34m(\u001b[0m\u001b[0muniques\u001b[0m\u001b[0;34m)\u001b[0m \u001b[0;34m>\u001b[0m \u001b[0;36m1\u001b[0m\u001b[0;34m:\u001b[0m\u001b[0;34m\u001b[0m\u001b[0;34m\u001b[0m\u001b[0m\n\u001b[0;32m--> 397\u001b[0;31m         raise ValueError(\n\u001b[0m\u001b[1;32m    398\u001b[0m             \u001b[0;34m\"Found input variables with inconsistent numbers of samples: %r\"\u001b[0m\u001b[0;34m\u001b[0m\u001b[0;34m\u001b[0m\u001b[0m\n\u001b[1;32m    399\u001b[0m             \u001b[0;34m%\u001b[0m \u001b[0;34m[\u001b[0m\u001b[0mint\u001b[0m\u001b[0;34m(\u001b[0m\u001b[0ml\u001b[0m\u001b[0;34m)\u001b[0m \u001b[0;32mfor\u001b[0m \u001b[0ml\u001b[0m \u001b[0;32min\u001b[0m \u001b[0mlengths\u001b[0m\u001b[0;34m]\u001b[0m\u001b[0;34m\u001b[0m\u001b[0;34m\u001b[0m\u001b[0m\n",
            "\u001b[0;31mValueError\u001b[0m: Found input variables with inconsistent numbers of samples: [60, 70]"
          ]
        }
      ],
      "source": [
        "from sklearn.metrics import confusion_matrix\n",
        "sns.heatmap(confusion_matrix(test_label, y_pred_nb_test), annot=True, cmap = 'viridis', fmt='.0f')\n",
        "plt.xlabel(\"Predicted values\", fontdict = {'size':14}, labelpad = 10)\n",
        "plt.ylabel(\"Actual values\"   , fontdict = {'size':14}, labelpad = 10)\n",
        "plt.title (\"Confusion Matrix\", fontdict = {'size':18}, pad = 20)\n",
        "plt.show()"
      ]
    },
    {
      "cell_type": "code",
      "execution_count": null,
      "metadata": {
        "colab": {
          "base_uri": "https://localhost:8080/"
        },
        "id": "DCTkN29ENJrT",
        "outputId": "1913896a-345b-4e25-a68b-d2bc53d1905f"
      },
      "outputs": [
        {
          "data": {
            "text/html": [
              "<style>#sk-container-id-3 {color: black;background-color: white;}#sk-container-id-3 pre{padding: 0;}#sk-container-id-3 div.sk-toggleable {background-color: white;}#sk-container-id-3 label.sk-toggleable__label {cursor: pointer;display: block;width: 100%;margin-bottom: 0;padding: 0.3em;box-sizing: border-box;text-align: center;}#sk-container-id-3 label.sk-toggleable__label-arrow:before {content: \"▸\";float: left;margin-right: 0.25em;color: #696969;}#sk-container-id-3 label.sk-toggleable__label-arrow:hover:before {color: black;}#sk-container-id-3 div.sk-estimator:hover label.sk-toggleable__label-arrow:before {color: black;}#sk-container-id-3 div.sk-toggleable__content {max-height: 0;max-width: 0;overflow: hidden;text-align: left;background-color: #f0f8ff;}#sk-container-id-3 div.sk-toggleable__content pre {margin: 0.2em;color: black;border-radius: 0.25em;background-color: #f0f8ff;}#sk-container-id-3 input.sk-toggleable__control:checked~div.sk-toggleable__content {max-height: 200px;max-width: 100%;overflow: auto;}#sk-container-id-3 input.sk-toggleable__control:checked~label.sk-toggleable__label-arrow:before {content: \"▾\";}#sk-container-id-3 div.sk-estimator input.sk-toggleable__control:checked~label.sk-toggleable__label {background-color: #d4ebff;}#sk-container-id-3 div.sk-label input.sk-toggleable__control:checked~label.sk-toggleable__label {background-color: #d4ebff;}#sk-container-id-3 input.sk-hidden--visually {border: 0;clip: rect(1px 1px 1px 1px);clip: rect(1px, 1px, 1px, 1px);height: 1px;margin: -1px;overflow: hidden;padding: 0;position: absolute;width: 1px;}#sk-container-id-3 div.sk-estimator {font-family: monospace;background-color: #f0f8ff;border: 1px dotted black;border-radius: 0.25em;box-sizing: border-box;margin-bottom: 0.5em;}#sk-container-id-3 div.sk-estimator:hover {background-color: #d4ebff;}#sk-container-id-3 div.sk-parallel-item::after {content: \"\";width: 100%;border-bottom: 1px solid gray;flex-grow: 1;}#sk-container-id-3 div.sk-label:hover label.sk-toggleable__label {background-color: #d4ebff;}#sk-container-id-3 div.sk-serial::before {content: \"\";position: absolute;border-left: 1px solid gray;box-sizing: border-box;top: 0;bottom: 0;left: 50%;z-index: 0;}#sk-container-id-3 div.sk-serial {display: flex;flex-direction: column;align-items: center;background-color: white;padding-right: 0.2em;padding-left: 0.2em;position: relative;}#sk-container-id-3 div.sk-item {position: relative;z-index: 1;}#sk-container-id-3 div.sk-parallel {display: flex;align-items: stretch;justify-content: center;background-color: white;position: relative;}#sk-container-id-3 div.sk-item::before, #sk-container-id-3 div.sk-parallel-item::before {content: \"\";position: absolute;border-left: 1px solid gray;box-sizing: border-box;top: 0;bottom: 0;left: 50%;z-index: -1;}#sk-container-id-3 div.sk-parallel-item {display: flex;flex-direction: column;z-index: 1;position: relative;background-color: white;}#sk-container-id-3 div.sk-parallel-item:first-child::after {align-self: flex-end;width: 50%;}#sk-container-id-3 div.sk-parallel-item:last-child::after {align-self: flex-start;width: 50%;}#sk-container-id-3 div.sk-parallel-item:only-child::after {width: 0;}#sk-container-id-3 div.sk-dashed-wrapped {border: 1px dashed gray;margin: 0 0.4em 0.5em 0.4em;box-sizing: border-box;padding-bottom: 0.4em;background-color: white;}#sk-container-id-3 div.sk-label label {font-family: monospace;font-weight: bold;display: inline-block;line-height: 1.2em;}#sk-container-id-3 div.sk-label-container {text-align: center;}#sk-container-id-3 div.sk-container {/* jupyter's `normalize.less` sets `[hidden] { display: none; }` but bootstrap.min.css set `[hidden] { display: none !important; }` so we also need the `!important` here to be able to override the default hidden behavior on the sphinx rendered scikit-learn.org. See: https://github.com/scikit-learn/scikit-learn/issues/21755 */display: inline-block !important;position: relative;}#sk-container-id-3 div.sk-text-repr-fallback {display: none;}</style><div id=\"sk-container-id-3\" class=\"sk-top-container\"><div class=\"sk-text-repr-fallback\"><pre>Pipeline(steps=[(&#x27;tfidf&#x27;, TfidfVectorizer()),\n",
              "                (&#x27;model&#x27;, MultinomialNB(alpha=0.1))])</pre><b>In a Jupyter environment, please rerun this cell to show the HTML representation or trust the notebook. <br />On GitHub, the HTML representation is unable to render, please try loading this page with nbviewer.org.</b></div><div class=\"sk-container\" hidden><div class=\"sk-item sk-dashed-wrapped\"><div class=\"sk-label-container\"><div class=\"sk-label sk-toggleable\"><input class=\"sk-toggleable__control sk-hidden--visually\" id=\"sk-estimator-id-9\" type=\"checkbox\" ><label for=\"sk-estimator-id-9\" class=\"sk-toggleable__label sk-toggleable__label-arrow\">Pipeline</label><div class=\"sk-toggleable__content\"><pre>Pipeline(steps=[(&#x27;tfidf&#x27;, TfidfVectorizer()),\n",
              "                (&#x27;model&#x27;, MultinomialNB(alpha=0.1))])</pre></div></div></div><div class=\"sk-serial\"><div class=\"sk-item\"><div class=\"sk-estimator sk-toggleable\"><input class=\"sk-toggleable__control sk-hidden--visually\" id=\"sk-estimator-id-10\" type=\"checkbox\" ><label for=\"sk-estimator-id-10\" class=\"sk-toggleable__label sk-toggleable__label-arrow\">TfidfVectorizer</label><div class=\"sk-toggleable__content\"><pre>TfidfVectorizer()</pre></div></div></div><div class=\"sk-item\"><div class=\"sk-estimator sk-toggleable\"><input class=\"sk-toggleable__control sk-hidden--visually\" id=\"sk-estimator-id-11\" type=\"checkbox\" ><label for=\"sk-estimator-id-11\" class=\"sk-toggleable__label sk-toggleable__label-arrow\">MultinomialNB</label><div class=\"sk-toggleable__content\"><pre>MultinomialNB(alpha=0.1)</pre></div></div></div></div></div></div></div>"
            ],
            "text/plain": [
              "Pipeline(steps=[('tfidf', TfidfVectorizer()),\n",
              "                ('model', MultinomialNB(alpha=0.1))])"
            ]
          },
          "execution_count": 71,
          "metadata": {},
          "output_type": "execute_result"
        }
      ],
      "source": [
        "classifier_nb.best_estimator_"
      ]
    },
    {
      "cell_type": "code",
      "execution_count": null,
      "metadata": {
        "colab": {
          "base_uri": "https://localhost:8080/"
        },
        "id": "d1u8QJO_NLGt",
        "outputId": "5162ef46-3df8-495e-b62d-c1a1a35de7ed"
      },
      "outputs": [
        {
          "name": "stdout",
          "output_type": "stream",
          "text": [
            "model__alpha: 0.1\n",
            "tfidf__ngram_range: (1, 1)\n"
          ]
        }
      ],
      "source": [
        "for param_name in sorted(parameters_nb.keys()):\n",
        "    print(\"%s: %r\" % (param_name, classifier_nb.best_params_[param_name]))"
      ]
    },
    {
      "cell_type": "markdown",
      "metadata": {
        "id": "sx9QGpMhNQz2"
      },
      "source": [
        "# Visualisasi"
      ]
    },
    {
      "cell_type": "code",
      "execution_count": null,
      "metadata": {
        "id": "PNe8zekbNMzJ"
      },
      "outputs": [],
      "source": [
        "models = [\n",
        "          ('Naive Bayes Multinomial', accuracy_nb_train, accuracy_nb_test),\n",
        "         ]"
      ]
    },
    {
      "cell_type": "code",
      "execution_count": null,
      "metadata": {
        "colab": {
          "base_uri": "https://localhost:8080/",
          "height": 81
        },
        "id": "PMDt0SP3NTvf",
        "outputId": "954a53fd-f2c6-4b45-9053-6e38b09bc7b9"
      },
      "outputs": [
        {
          "data": {
            "text/html": [
              "<div>\n",
              "<style scoped>\n",
              "    .dataframe tbody tr th:only-of-type {\n",
              "        vertical-align: middle;\n",
              "    }\n",
              "\n",
              "    .dataframe tbody tr th {\n",
              "        vertical-align: top;\n",
              "    }\n",
              "\n",
              "    .dataframe thead th {\n",
              "        text-align: right;\n",
              "    }\n",
              "</style>\n",
              "<table border=\"1\" class=\"dataframe\">\n",
              "  <thead>\n",
              "    <tr style=\"text-align: right;\">\n",
              "      <th></th>\n",
              "      <th>Model</th>\n",
              "      <th>Training Accuracy</th>\n",
              "      <th>Test Accuracy</th>\n",
              "    </tr>\n",
              "  </thead>\n",
              "  <tbody>\n",
              "    <tr>\n",
              "      <th>0</th>\n",
              "      <td>Naive Bayes Multinomial</td>\n",
              "      <td>0.976266</td>\n",
              "      <td>0.590406</td>\n",
              "    </tr>\n",
              "  </tbody>\n",
              "</table>\n",
              "</div>"
            ],
            "text/plain": [
              "                     Model  Training Accuracy  Test Accuracy\n",
              "0  Naive Bayes Multinomial           0.976266       0.590406"
            ]
          },
          "execution_count": 74,
          "metadata": {},
          "output_type": "execute_result"
        }
      ],
      "source": [
        "predict = pd.DataFrame(data = models, columns=['Model', 'Training Accuracy', 'Test Accuracy'])\n",
        "predict"
      ]
    },
    {
      "cell_type": "code",
      "execution_count": null,
      "metadata": {
        "id": "E7dNcRN6NU7c"
      },
      "outputs": [],
      "source": [
        "models_comparison = [\n",
        "                        ('Naive Bayes Multinomial', accuracy_nb_test, recall_nb_test, precision_nb_test, f1_nb_test)\n",
        "                    ]"
      ]
    },
    {
      "cell_type": "code",
      "execution_count": null,
      "metadata": {
        "colab": {
          "base_uri": "https://localhost:8080/",
          "height": 81
        },
        "id": "ag1KxvizNYKY",
        "outputId": "a3bd2829-8109-4ba6-eaca-718f698b1520"
      },
      "outputs": [
        {
          "data": {
            "text/html": [
              "<div>\n",
              "<style scoped>\n",
              "    .dataframe tbody tr th:only-of-type {\n",
              "        vertical-align: middle;\n",
              "    }\n",
              "\n",
              "    .dataframe tbody tr th {\n",
              "        vertical-align: top;\n",
              "    }\n",
              "\n",
              "    .dataframe thead th {\n",
              "        text-align: right;\n",
              "    }\n",
              "</style>\n",
              "<table border=\"1\" class=\"dataframe\">\n",
              "  <thead>\n",
              "    <tr style=\"text-align: right;\">\n",
              "      <th></th>\n",
              "      <th>Model</th>\n",
              "      <th>Accuracy</th>\n",
              "      <th>Recall</th>\n",
              "      <th>Precision</th>\n",
              "      <th>F1 Weighted</th>\n",
              "    </tr>\n",
              "  </thead>\n",
              "  <tbody>\n",
              "    <tr>\n",
              "      <th>0</th>\n",
              "      <td>Naive Bayes Multinomial</td>\n",
              "      <td>0.590406</td>\n",
              "      <td>0.590406</td>\n",
              "      <td>0.569541</td>\n",
              "      <td>0.572316</td>\n",
              "    </tr>\n",
              "  </tbody>\n",
              "</table>\n",
              "</div>"
            ],
            "text/plain": [
              "                     Model  Accuracy    Recall  Precision  F1 Weighted\n",
              "0  Naive Bayes Multinomial  0.590406  0.590406   0.569541     0.572316"
            ]
          },
          "execution_count": 76,
          "metadata": {},
          "output_type": "execute_result"
        }
      ],
      "source": [
        "comparison = pd.DataFrame(data = models_comparison, columns=['Model', 'Accuracy', 'Recall', 'Precision', 'F1 Weighted'])\n",
        "comparison"
      ]
    },
    {
      "cell_type": "code",
      "execution_count": null,
      "metadata": {
        "colab": {
          "base_uri": "https://localhost:8080/",
          "height": 611
        },
        "id": "xfmY9uPfNaBl",
        "outputId": "859615dc-c64d-47e7-9d89-79c7e12f2c31"
      },
      "outputs": [
        {
          "data": {
            "image/png": "[encoded data removed]",
            "text/plain": [
              "<Figure size 1008x720 with 2 Axes>"
            ]
          },
          "metadata": {
            "needs_background": "light"
          },
          "output_type": "display_data"
        }
      ],
      "source": [
        "import numpy as np\n",
        "\n",
        "f, axes = plt.subplots(2,1, figsize=(14,10))\n",
        "\n",
        "predict.sort_values(by=['Training Accuracy'], ascending=False, inplace=True)\n",
        "\n",
        "sns.barplot(x='Training Accuracy', y='Model', data = predict, palette='Blues_d', ax = axes[0])\n",
        "#axes[0].set(xlabel='Region', ylabel='Charges')\n",
        "axes[0].set_xlabel('Training Accuracy', size=16)\n",
        "axes[0].set_ylabel('Model')\n",
        "axes[0].set_xlim(0,1.0)\n",
        "axes[0].set_xticks(np.arange(0, 1.1, 0.1))\n",
        "\n",
        "predict.sort_values(by=['Test Accuracy'], ascending=False, inplace=True)\n",
        "\n",
        "sns.barplot(x='Test Accuracy', y='Model', data = predict, palette='Greens_d', ax = axes[1])\n",
        "#axes[0].set(xlabel='Region', ylabel='Charges')\n",
        "axes[1].set_xlabel('Test Accuracy', size=16)\n",
        "axes[1].set_ylabel('Model')\n",
        "axes[1].set_xlim(0,1.0)\n",
        "axes[1].set_xticks(np.arange(0, 1.1, 0.1))\n",
        "\n",
        "plt.show()"
      ]
    },
    {
      "cell_type": "markdown",
      "metadata": {
        "id": "ax_0BYFhQoGl"
      },
      "source": [
        "# simpan kedalam joblib"
      ]
    },
    {
      "cell_type": "code",
      "execution_count": null,
      "metadata": {
        "id": "GXb1o8AeNfQf"
      },
      "outputs": [],
      "source": [
        "import joblib"
      ]
    },
    {
      "cell_type": "code",
      "execution_count": null,
      "metadata": {
        "colab": {
          "base_uri": "https://localhost:8080/"
        },
        "id": "BM-gUqDMQqmv",
        "outputId": "0da7bb8c-2616-46bd-b1d1-09f873738db0"
      },
      "outputs": [
        {
          "data": {
            "text/plain": [
              "['classifier_nb.best_estimator_.sav']"
            ]
          },
          "execution_count": 79,
          "metadata": {},
          "output_type": "execute_result"
        }
      ],
      "source": [
        "# save the model to disk\n",
        "joblib.dump(classifier_nb.best_estimator_, 'classifier_nb.best_estimator_.sav', compress=1)"
      ]
    }
  ],
  "metadata": {
    "colab": {
      "provenance": []
    },
    "kernelspec": {
      "display_name": "Python 3",
      "language": "python",
      "name": "python3"
    },
    "language_info": {
      "codemirror_mode": {
        "name": "ipython",
        "version": 3
      },
      "file_extension": ".py",
      "mimetype": "text/x-python",
      "name": "python",
      "nbconvert_exporter": "python",
      "pygments_lexer": "ipython3",
      "version": "3.8.5"
    }
  },
  "nbformat": 4,
  "nbformat_minor": 0
}